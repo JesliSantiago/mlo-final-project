{
 "cells": [
  {
   "cell_type": "code",
   "execution_count": 1,
   "id": "490cf74e",
   "metadata": {},
   "outputs": [],
   "source": [
    "from model2 import *"
   ]
  },
  {
   "cell_type": "code",
   "execution_count": 2,
   "id": "dd4042db",
   "metadata": {},
   "outputs": [],
   "source": [
    "_model = poem_classifier_model()"
   ]
  },
  {
   "cell_type": "code",
   "execution_count": 3,
   "id": "9a0d32fb",
   "metadata": {},
   "outputs": [
    {
     "name": "stderr",
     "output_type": "stream",
     "text": [
      "C:\\Users\\enpli\\ThirdBrain\\1_Projects\\MSDS2023_\\ML_Ops\\poem_classifier\\model2.py:51: FutureWarning: The default value of regex will change from True to False in a future version.\n",
      "  self.df_train['Poem'] = self.df_train['Poem'].str.replace('shade.When', 'shade. When')\n",
      "C:\\Users\\enpli\\ThirdBrain\\1_Projects\\MSDS2023_\\ML_Ops\\poem_classifier\\model2.py:52: FutureWarning: The default value of regex will change from True to False in a future version.\n",
      "  self.df_train['Poem'] = self.df_train['Poem'].str.replace('afraid.Now', 'afraid. Now')\n",
      "C:\\Users\\enpli\\ThirdBrain\\1_Projects\\MSDS2023_\\ML_Ops\\poem_classifier\\model2.py:54: FutureWarning: The default value of regex will change from True to False in a future version.\n",
      "  self.df_train['Poem'] = self.df_train['Poem'].str.replace('afraid.Now,', 'afraid. Now,')\n",
      "C:\\Users\\enpli\\ThirdBrain\\1_Projects\\MSDS2023_\\ML_Ops\\poem_classifier\\model2.py:55: FutureWarning: The default value of regex will change from True to False in a future version.\n",
      "  self.df_train['Poem'] = self.df_train['Poem'].str.replace('Big Game.Bigger', 'Big Game. Bigger')\n",
      "[nltk_data] Downloading package stopwords to\n",
      "[nltk_data]     C:\\Users\\enpli\\AppData\\Roaming\\nltk_data...\n",
      "[nltk_data]   Package stopwords is already up-to-date!\n"
     ]
    },
    {
     "name": "stdout",
     "output_type": "stream",
     "text": [
      "Epoch 1/50\n",
      "21/21 [==============================] - 1s 15ms/step - loss: 1.3720 - acc: 0.3034 - val_loss: 1.3705 - val_acc: 0.2262\n",
      "Epoch 2/50\n",
      "21/21 [==============================] - 0s 10ms/step - loss: 1.3488 - acc: 0.3976 - val_loss: 1.3654 - val_acc: 0.2619\n",
      "Epoch 3/50\n",
      "21/21 [==============================] - 0s 10ms/step - loss: 1.3376 - acc: 0.4350 - val_loss: 1.3654 - val_acc: 0.2917\n",
      "Epoch 4/50\n",
      "21/21 [==============================] - 0s 10ms/step - loss: 1.3227 - acc: 0.4469 - val_loss: 1.3605 - val_acc: 0.2857\n",
      "Epoch 5/50\n",
      "21/21 [==============================] - 0s 10ms/step - loss: 1.3070 - acc: 0.4783 - val_loss: 1.3562 - val_acc: 0.3155\n",
      "Epoch 6/50\n",
      "21/21 [==============================] - 0s 10ms/step - loss: 1.2890 - acc: 0.4993 - val_loss: 1.3512 - val_acc: 0.3333\n",
      "Epoch 7/50\n",
      "21/21 [==============================] - 0s 10ms/step - loss: 1.2670 - acc: 0.5082 - val_loss: 1.3411 - val_acc: 0.3274\n",
      "Epoch 8/50\n",
      "21/21 [==============================] - 0s 11ms/step - loss: 1.2408 - acc: 0.5202 - val_loss: 1.3407 - val_acc: 0.3393\n",
      "Epoch 9/50\n",
      "21/21 [==============================] - 0s 10ms/step - loss: 1.2140 - acc: 0.5456 - val_loss: 1.3342 - val_acc: 0.3452\n",
      "Epoch 10/50\n",
      "21/21 [==============================] - 0s 12ms/step - loss: 1.1828 - acc: 0.5680 - val_loss: 1.3227 - val_acc: 0.3393\n",
      "Epoch 11/50\n",
      "21/21 [==============================] - 0s 23ms/step - loss: 1.1537 - acc: 0.5770 - val_loss: 1.3212 - val_acc: 0.3452\n",
      "Epoch 12/50\n",
      "21/21 [==============================] - 0s 22ms/step - loss: 1.1217 - acc: 0.6009 - val_loss: 1.3114 - val_acc: 0.3393\n",
      "Epoch 13/50\n",
      "21/21 [==============================] - 1s 25ms/step - loss: 1.0888 - acc: 0.6129 - val_loss: 1.3120 - val_acc: 0.3512\n",
      "Epoch 14/50\n",
      "21/21 [==============================] - 0s 19ms/step - loss: 1.0558 - acc: 0.6353 - val_loss: 1.3060 - val_acc: 0.3690\n",
      "Epoch 15/50\n",
      "21/21 [==============================] - 1s 26ms/step - loss: 1.0238 - acc: 0.6592 - val_loss: 1.3050 - val_acc: 0.3750\n",
      "Epoch 16/50\n",
      "21/21 [==============================] - 0s 23ms/step - loss: 0.9897 - acc: 0.6861 - val_loss: 1.3095 - val_acc: 0.3810\n",
      "Epoch 17/50\n",
      "21/21 [==============================] - 1s 24ms/step - loss: 0.9620 - acc: 0.6906 - val_loss: 1.3041 - val_acc: 0.3929\n",
      "Epoch 18/50\n",
      "21/21 [==============================] - 0s 22ms/step - loss: 0.9337 - acc: 0.7025 - val_loss: 1.3098 - val_acc: 0.3869\n",
      "Epoch 19/50\n",
      "21/21 [==============================] - 0s 18ms/step - loss: 0.9033 - acc: 0.7085 - val_loss: 1.3123 - val_acc: 0.3988\n",
      "Epoch 20/50\n",
      "21/21 [==============================] - 0s 24ms/step - loss: 0.8777 - acc: 0.7130 - val_loss: 1.3124 - val_acc: 0.3810\n",
      "Epoch 21/50\n",
      "21/21 [==============================] - 0s 23ms/step - loss: 0.8445 - acc: 0.7429 - val_loss: 1.3188 - val_acc: 0.3988\n",
      "Epoch 22/50\n",
      "21/21 [==============================] - 0s 24ms/step - loss: 0.8327 - acc: 0.7474 - val_loss: 1.3280 - val_acc: 0.3869\n",
      "Epoch 23/50\n",
      "21/21 [==============================] - 1s 24ms/step - loss: 0.8028 - acc: 0.7519 - val_loss: 1.3355 - val_acc: 0.4048\n",
      "Epoch 24/50\n",
      "21/21 [==============================] - 0s 22ms/step - loss: 0.7745 - acc: 0.7758 - val_loss: 1.3443 - val_acc: 0.3988\n",
      "Epoch 25/50\n",
      "21/21 [==============================] - 1s 24ms/step - loss: 0.7531 - acc: 0.7638 - val_loss: 1.3546 - val_acc: 0.3988\n",
      "Epoch 26/50\n",
      "21/21 [==============================] - 0s 21ms/step - loss: 0.7348 - acc: 0.7803 - val_loss: 1.3602 - val_acc: 0.3988\n",
      "Epoch 27/50\n",
      "21/21 [==============================] - 1s 25ms/step - loss: 0.7111 - acc: 0.7907 - val_loss: 1.3817 - val_acc: 0.3810\n",
      "Epoch 28/50\n",
      "21/21 [==============================] - 0s 23ms/step - loss: 0.6945 - acc: 0.7877 - val_loss: 1.3816 - val_acc: 0.3929\n",
      "Epoch 29/50\n",
      "21/21 [==============================] - 1s 27ms/step - loss: 0.6771 - acc: 0.7862 - val_loss: 1.3991 - val_acc: 0.3810\n",
      "Epoch 30/50\n",
      "21/21 [==============================] - 1s 25ms/step - loss: 0.6557 - acc: 0.7967 - val_loss: 1.4232 - val_acc: 0.3810\n",
      "Epoch 31/50\n",
      "21/21 [==============================] - 1s 25ms/step - loss: 0.6388 - acc: 0.8087 - val_loss: 1.4235 - val_acc: 0.3869\n",
      "Epoch 32/50\n",
      "21/21 [==============================] - 0s 22ms/step - loss: 0.6209 - acc: 0.8176 - val_loss: 1.4389 - val_acc: 0.3810\n",
      "Epoch 33/50\n",
      "21/21 [==============================] - 0s 18ms/step - loss: 0.6098 - acc: 0.8132 - val_loss: 1.4453 - val_acc: 0.3810\n",
      "Epoch 34/50\n",
      "21/21 [==============================] - 0s 19ms/step - loss: 0.5933 - acc: 0.8072 - val_loss: 1.4734 - val_acc: 0.3750\n",
      "Epoch 35/50\n",
      "21/21 [==============================] - 0s 20ms/step - loss: 0.5814 - acc: 0.8161 - val_loss: 1.4875 - val_acc: 0.3571\n",
      "Epoch 36/50\n",
      "21/21 [==============================] - 0s 16ms/step - loss: 0.5651 - acc: 0.8176 - val_loss: 1.5015 - val_acc: 0.3690\n",
      "Epoch 37/50\n",
      "21/21 [==============================] - 0s 16ms/step - loss: 0.5564 - acc: 0.8281 - val_loss: 1.5232 - val_acc: 0.3631\n",
      "Epoch 38/50\n",
      "21/21 [==============================] - 0s 18ms/step - loss: 0.5384 - acc: 0.8326 - val_loss: 1.5270 - val_acc: 0.3690\n",
      "Epoch 39/50\n",
      "21/21 [==============================] - 0s 19ms/step - loss: 0.5351 - acc: 0.8311 - val_loss: 1.5582 - val_acc: 0.3631\n",
      "Epoch 40/50\n",
      "21/21 [==============================] - 0s 19ms/step - loss: 0.5160 - acc: 0.8430 - val_loss: 1.5611 - val_acc: 0.3512\n",
      "Epoch 41/50\n",
      "21/21 [==============================] - 0s 19ms/step - loss: 0.5109 - acc: 0.8281 - val_loss: 1.5909 - val_acc: 0.3571\n",
      "Epoch 42/50\n",
      "21/21 [==============================] - 0s 18ms/step - loss: 0.4949 - acc: 0.8475 - val_loss: 1.5960 - val_acc: 0.3571\n",
      "Epoch 43/50\n",
      "21/21 [==============================] - 0s 20ms/step - loss: 0.4884 - acc: 0.8475 - val_loss: 1.6143 - val_acc: 0.3393\n",
      "Epoch 44/50\n",
      "21/21 [==============================] - 1s 26ms/step - loss: 0.4797 - acc: 0.8565 - val_loss: 1.6414 - val_acc: 0.3571\n",
      "Epoch 45/50\n",
      "21/21 [==============================] - 0s 23ms/step - loss: 0.4668 - acc: 0.8565 - val_loss: 1.6460 - val_acc: 0.3631\n",
      "Epoch 46/50\n",
      "21/21 [==============================] - 0s 23ms/step - loss: 0.4548 - acc: 0.8505 - val_loss: 1.6736 - val_acc: 0.3571\n",
      "Epoch 47/50\n",
      "21/21 [==============================] - 0s 23ms/step - loss: 0.4464 - acc: 0.8625 - val_loss: 1.6753 - val_acc: 0.3512\n",
      "Epoch 48/50\n",
      "21/21 [==============================] - 0s 23ms/step - loss: 0.4364 - acc: 0.8595 - val_loss: 1.7211 - val_acc: 0.3571\n",
      "Epoch 49/50\n",
      "21/21 [==============================] - 0s 19ms/step - loss: 0.4224 - acc: 0.8744 - val_loss: 1.7203 - val_acc: 0.3452\n",
      "Epoch 50/50\n",
      "21/21 [==============================] - 0s 22ms/step - loss: 0.4191 - acc: 0.8625 - val_loss: 1.7373 - val_acc: 0.3571\n"
     ]
    }
   ],
   "source": [
    "epochs = 50\n",
    "lr = 0.001\n",
    "\n",
    "_model.load_data()\n",
    "_model.preprocess()\n",
    "_model.train(epochs=epochs, lr=lr)"
   ]
  },
  {
   "cell_type": "code",
   "execution_count": 4,
   "id": "31fa3bc6",
   "metadata": {},
   "outputs": [
    {
     "name": "stdout",
     "output_type": "stream",
     "text": [
      "1/1 [==============================] - 0s 104ms/step\n"
     ]
    },
    {
     "data": {
      "text/plain": [
       "'Environment'"
      ]
     },
     "execution_count": 4,
     "metadata": {},
     "output_type": "execute_result"
    }
   ],
   "source": [
    "_model.classify_poem('hello')"
   ]
  },
  {
   "cell_type": "code",
   "execution_count": 5,
   "id": "70b91340",
   "metadata": {},
   "outputs": [],
   "source": [
    "def extract_genre(verse):\n",
    "    return _model.classify_poem(verse)"
   ]
  },
  {
   "cell_type": "code",
   "execution_count": 7,
   "id": "c13082de",
   "metadata": {},
   "outputs": [
    {
     "name": "stdout",
     "output_type": "stream",
     "text": [
      "1/1 [==============================] - 0s 28ms/step\n"
     ]
    },
    {
     "data": {
      "text/plain": [
       "'Affection'"
      ]
     },
     "execution_count": 7,
     "metadata": {},
     "output_type": "execute_result"
    }
   ],
   "source": [
    "extract_genre('love love love')"
   ]
  },
  {
   "cell_type": "code",
   "execution_count": null,
   "id": "bf865cba",
   "metadata": {},
   "outputs": [],
   "source": [
    "# Gradio interface\n",
    "interface = gr.Interface(fn=extract_genre, \n",
    "                         inputs=\"text\", \n",
    "                         outputs=\"text\",\n",
    "                         live=True)\n",
    "interface.launch(share=True)"
   ]
  }
 ],
 "metadata": {
  "kernelspec": {
   "display_name": "Python 3 (ipykernel)",
   "language": "python",
   "name": "python3"
  },
  "language_info": {
   "codemirror_mode": {
    "name": "ipython",
    "version": 3
   },
   "file_extension": ".py",
   "mimetype": "text/x-python",
   "name": "python",
   "nbconvert_exporter": "python",
   "pygments_lexer": "ipython3",
   "version": "3.10.10"
  }
 },
 "nbformat": 4,
 "nbformat_minor": 5
}
