{
 "cells": [
  {
   "cell_type": "code",
   "execution_count": 1,
   "metadata": {},
   "outputs": [],
   "source": [
    "import gradio"
   ]
  },
  {
   "cell_type": "code",
   "execution_count": 3,
   "metadata": {},
   "outputs": [],
   "source": [
    "import keras\n",
    "import tensorflow as tf\n",
    "# from revised_with_loading_model import *\n",
    "from poem_classifier import *\n",
    "import numpy as np"
   ]
  },
  {
   "cell_type": "code",
   "execution_count": 4,
   "metadata": {},
   "outputs": [],
   "source": [
    "model_path = \"../models/256_0.06_adam_acc_0.4285714328289032.keras\"\n",
    "tokenizer_path = \"../tokenizers/256_0.06_adam_acc_0.4285714328289032_maxlen_67.pickle\"\n",
    "maxlen = 67"
   ]
  },
  {
   "cell_type": "code",
   "execution_count": 5,
   "metadata": {},
   "outputs": [],
   "source": [
    "_model = poem_classifier(model_path, tokenizer_path, maxlen)"
   ]
  },
  {
   "cell_type": "code",
   "execution_count": 6,
   "metadata": {},
   "outputs": [
    {
     "name": "stdout",
     "output_type": "stream",
     "text": [
      "1/1 [==============================] - 0s 80ms/step\n",
      "Predictions are Environment\n"
     ]
    },
    {
     "data": {
      "text/plain": [
       "'Environment'"
      ]
     },
     "execution_count": 6,
     "metadata": {},
     "output_type": "execute_result"
    }
   ],
   "source": [
    "_model.predict_([\"more than the fuchsia funnels breaking outof\"])"
   ]
  },
  {
   "cell_type": "code",
   "execution_count": 7,
   "metadata": {},
   "outputs": [
    {
     "name": "stdout",
     "output_type": "stream",
     "text": [
      "1/1 [==============================] - 0s 23ms/step\n",
      "Predictions are Death\n"
     ]
    },
    {
     "data": {
      "text/plain": [
       "'Death'"
      ]
     },
     "execution_count": 7,
     "metadata": {},
     "output_type": "execute_result"
    }
   ],
   "source": [
    "_model.predict_([\"After Shiloh, with smoke still scumbling the air, the Harper’s artist paced away from the sunken road where a full brigade had been strafed and decimated. The flies had begun to swarm, lighting on the eyes and open wounds of the fallen, the stench already gut-wrenching, heartrending, as were the groans of injured pack animals weighted down by\"])"
   ]
  },
  {
   "cell_type": "code",
   "execution_count": 7,
   "metadata": {},
   "outputs": [
    {
     "name": "stdout",
     "output_type": "stream",
     "text": [
      "1/1 [==============================] - 0s 31ms/step\n",
      "Predictions are Affection\n"
     ]
    },
    {
     "data": {
      "text/plain": [
       "'Affection'"
      ]
     },
     "execution_count": 7,
     "metadata": {},
     "output_type": "execute_result"
    }
   ],
   "source": [
    "_model.predict_([\"Returning from the cruel fight How pale and faint appears my knight! He sees me anxious at his side; \"\"Why seek, my love, your wounds to hide? Or deem your English girl afraid To emulate the Indian maid?\"\"Be mine my husband's\"])"
   ]
  },
  {
   "cell_type": "code",
   "execution_count": 8,
   "metadata": {},
   "outputs": [
    {
     "name": "stdout",
     "output_type": "stream",
     "text": [
      "1/1 [==============================] - 0s 25ms/step\n",
      "Predictions are Environment\n"
     ]
    },
    {
     "data": {
      "text/plain": [
       "'Environment'"
      ]
     },
     "execution_count": 8,
     "metadata": {},
     "output_type": "execute_result"
    }
   ],
   "source": [
    "_model.predict_([\"Every time the bucks went clattering Over Oklahoma A firecat bristled in the way.Wherever they went, They went clattering, Until they swerved, In a swift, circular line, To the right, Because of the firecat.Or until they swerved, In a swift, circular line, To the left, Because of the firecat.The bucks clattered. The firecat went leaping, To the right, to the left, And Bristled in\"])"
   ]
  },
  {
   "cell_type": "code",
   "execution_count": 9,
   "metadata": {},
   "outputs": [],
   "source": [
    "path = '../models/512_0.04_adam_acc_0.4464285671710968.keras'"
   ]
  },
  {
   "cell_type": "code",
   "execution_count": 10,
   "metadata": {},
   "outputs": [],
   "source": [
    "model = keras.models.load_model(path)"
   ]
  },
  {
   "cell_type": "code",
   "execution_count": 11,
   "metadata": {},
   "outputs": [
    {
     "data": {
      "text/plain": [
       "<keras.src.engine.sequential.Sequential at 0x1bcf4d6bc70>"
      ]
     },
     "execution_count": 11,
     "metadata": {},
     "output_type": "execute_result"
    }
   ],
   "source": [
    "model"
   ]
  },
  {
   "cell_type": "code",
   "execution_count": 12,
   "metadata": {},
   "outputs": [
    {
     "ename": "AttributeError",
     "evalue": "'Sequential' object has no attribute 'tokenizer'",
     "output_type": "error",
     "traceback": [
      "\u001b[1;31m---------------------------------------------------------------------------\u001b[0m",
      "\u001b[1;31mAttributeError\u001b[0m                            Traceback (most recent call last)",
      "\u001b[1;32mc:\\Users\\Jesli's Laptop\\Desktop\\Acads\\MLO\\mlo-final-project\\code\\test_load.ipynb Cell 12\u001b[0m line \u001b[0;36m<cell line: 3>\u001b[1;34m()\u001b[0m\n\u001b[0;32m      <a href='vscode-notebook-cell:/c%3A/Users/Jesli%27s%20Laptop/Desktop/Acads/MLO/mlo-final-project/code/test_load.ipynb#X10sZmlsZQ%3D%3D?line=0'>1</a>\u001b[0m text \u001b[39m=\u001b[39m \u001b[39m'\u001b[39m\u001b[39mhello world\u001b[39m\u001b[39m'\u001b[39m\n\u001b[1;32m----> <a href='vscode-notebook-cell:/c%3A/Users/Jesli%27s%20Laptop/Desktop/Acads/MLO/mlo-final-project/code/test_load.ipynb#X10sZmlsZQ%3D%3D?line=2'>3</a>\u001b[0m text \u001b[39m=\u001b[39m model\u001b[39m.\u001b[39;49mtokenizer\u001b[39m.\u001b[39mtexts_to_sequences(text)\n\u001b[0;32m      <a href='vscode-notebook-cell:/c%3A/Users/Jesli%27s%20Laptop/Desktop/Acads/MLO/mlo-final-project/code/test_load.ipynb#X10sZmlsZQ%3D%3D?line=3'>4</a>\u001b[0m text \u001b[39m=\u001b[39m tf\u001b[39m.\u001b[39mkeras\u001b[39m.\u001b[39mutils\u001b[39m.\u001b[39mpad_sequences(text, padding\u001b[39m=\u001b[39m\u001b[39m'\u001b[39m\u001b[39mpre\u001b[39m\u001b[39m'\u001b[39m,\n\u001b[0;32m      <a href='vscode-notebook-cell:/c%3A/Users/Jesli%27s%20Laptop/Desktop/Acads/MLO/mlo-final-project/code/test_load.ipynb#X10sZmlsZQ%3D%3D?line=4'>5</a>\u001b[0m                              maxlen\u001b[39m=\u001b[39m\u001b[39m500\u001b[39m)\n",
      "\u001b[1;31mAttributeError\u001b[0m: 'Sequential' object has no attribute 'tokenizer'"
     ]
    }
   ],
   "source": [
    "text = 'hello world'\n",
    "\n",
    "text = model.tokenizer.texts_to_sequences(text)\n",
    "text = tf.keras.utils.pad_sequences(text, padding='pre',\n",
    "                             maxlen=500)"
   ]
  },
  {
   "cell_type": "code",
   "execution_count": null,
   "metadata": {},
   "outputs": [],
   "source": [
    "\n",
    "model.predict()"
   ]
  }
 ],
 "metadata": {
  "kernelspec": {
   "display_name": "Python 3",
   "language": "python",
   "name": "python3"
  },
  "language_info": {
   "codemirror_mode": {
    "name": "ipython",
    "version": 3
   },
   "file_extension": ".py",
   "mimetype": "text/x-python",
   "name": "python",
   "nbconvert_exporter": "python",
   "pygments_lexer": "ipython3",
   "version": "3.9.2"
  },
  "orig_nbformat": 4
 },
 "nbformat": 4,
 "nbformat_minor": 2
}
