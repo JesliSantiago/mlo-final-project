{
 "cells": [
  {
   "cell_type": "markdown",
   "metadata": {},
   "source": [
    "# Sweeps notebook"
   ]
  },
  {
   "cell_type": "code",
   "execution_count": 1,
   "metadata": {},
   "outputs": [
    {
     "name": "stderr",
     "output_type": "stream",
     "text": [
      "c:\\Users\\Jesli's Laptop\\AppData\\Local\\Programs\\Python\\Python39\\lib\\site-packages\\torchaudio\\backend\\utils.py:74: UserWarning: No audio backend is available.\n",
      "  warnings.warn(\"No audio backend is available.\")\n"
     ]
    }
   ],
   "source": [
    "import numpy as np\n",
    "import matplotlib.pyplot as plt\n",
    "import pprint\n",
    "import os\n",
    "import re\n",
    "import json\n",
    "import sys\n",
    "import wandb\n",
    "from model import *\n",
    "from pytorch_lightning.loggers import WandbLogger"
   ]
  },
  {
   "cell_type": "code",
   "execution_count": 2,
   "metadata": {},
   "outputs": [],
   "source": [
    "# Define sweep config\n",
    "sweep_config = {\n",
    "    'method': 'random' # random, grid, or bayes\n",
    "    }"
   ]
  },
  {
   "cell_type": "code",
   "execution_count": 3,
   "metadata": {},
   "outputs": [],
   "source": [
    "# Define metric\n",
    "metric = {\n",
    "    'name': 'val_loss',\n",
    "    'goal': 'minimize'   # minimize or maximize\n",
    "    }\n",
    "# add in sweep_config\n",
    "sweep_config['metric'] = metric"
   ]
  },
  {
   "cell_type": "code",
   "execution_count": 4,
   "metadata": {},
   "outputs": [],
   "source": [
    "epochs = 50\n",
    "architecture = 'CNN'\n",
    "dataset = 'Poems'\n",
    "# Define hyperparameter space\n",
    "parameters_dict = {\n",
    "    'optimizer': {\n",
    "        'values': ['adam', 'sgd']\n",
    "        },\n",
    "    'embedding_dim': {\n",
    "        'values': [128, 256, 512]\n",
    "        },\n",
    "    }\n",
    "# we can indicate the distribution for continuous variables\n",
    "parameters_dict.update({\n",
    "    'learning_rate': {\n",
    "        # a flat distribution between 0 and 0.1\n",
    "        'distribution': 'uniform',\n",
    "        'min': 0.0001,\n",
    "        'max': 0.1\n",
    "      }\n",
    "    })\n",
    "# we set values that we want to track but don't want to change, just indicate 1 value\n",
    "parameters_dict.update({\n",
    "    'epochs': {'value': epochs},\n",
    "    \"architecture\":{'value': architecture},\n",
    "    \"dataset\": {'value': dataset},        \n",
    "    })\n",
    "# add params in sweep_config\n",
    "sweep_config['parameters'] = parameters_dict"
   ]
  },
  {
   "cell_type": "code",
   "execution_count": 5,
   "metadata": {},
   "outputs": [
    {
     "name": "stdout",
     "output_type": "stream",
     "text": [
      "{'method': 'random',\n",
      " 'metric': {'goal': 'minimize', 'name': 'val_loss'},\n",
      " 'parameters': {'architecture': {'value': 'CNN'},\n",
      "                'dataset': {'value': 'Poems'},\n",
      "                'embedding_dim': {'values': [128, 256, 512]},\n",
      "                'epochs': {'value': 50},\n",
      "                'learning_rate': {'distribution': 'uniform',\n",
      "                                  'max': 0.1,\n",
      "                                  'min': 0.0001},\n",
      "                'optimizer': {'values': ['adam', 'sgd']}}}\n"
     ]
    }
   ],
   "source": [
    "pprint.pprint(sweep_config)"
   ]
  },
  {
   "cell_type": "code",
   "execution_count": 6,
   "metadata": {},
   "outputs": [
    {
     "name": "stderr",
     "output_type": "stream",
     "text": [
      "Failed to detect the name of this notebook, you can set it manually with the WANDB_NOTEBOOK_NAME environment variable to enable code saving.\n",
      "\u001b[34m\u001b[1mwandb\u001b[0m: W&B API key is configured. Use \u001b[1m`wandb login --relogin`\u001b[0m to force relogin\n"
     ]
    },
    {
     "data": {
      "text/plain": [
       "True"
      ]
     },
     "execution_count": 6,
     "metadata": {},
     "output_type": "execute_result"
    }
   ],
   "source": [
    "# Log in to weights and biases\n",
    "wandb.login()"
   ]
  },
  {
   "cell_type": "code",
   "execution_count": 7,
   "metadata": {},
   "outputs": [
    {
     "name": "stdout",
     "output_type": "stream",
     "text": [
      "Create sweep with ID: 39xyia0g\n",
      "Sweep URL: https://wandb.ai/msds_mlops2023_lt2/mlo-final-project/sweeps/39xyia0g\n"
     ]
    }
   ],
   "source": [
    "sweep_id = wandb.sweep(sweep_config, project=\"mlo-final-project\")"
   ]
  },
  {
   "cell_type": "code",
   "execution_count": 8,
   "metadata": {},
   "outputs": [
    {
     "name": "stderr",
     "output_type": "stream",
     "text": [
      "\u001b[34m\u001b[1mwandb\u001b[0m: Agent Starting Run: mtrt0ksy with config:\n",
      "\u001b[34m\u001b[1mwandb\u001b[0m: \tarchitecture: CNN\n",
      "\u001b[34m\u001b[1mwandb\u001b[0m: \tdataset: Poems\n",
      "\u001b[34m\u001b[1mwandb\u001b[0m: \tembedding_dim: 512\n",
      "\u001b[34m\u001b[1mwandb\u001b[0m: \tepochs: 50\n",
      "\u001b[34m\u001b[1mwandb\u001b[0m: \tlearning_rate: 0.023490384701382473\n",
      "\u001b[34m\u001b[1mwandb\u001b[0m: \toptimizer: sgd\n",
      "Failed to detect the name of this notebook, you can set it manually with the WANDB_NOTEBOOK_NAME environment variable to enable code saving.\n",
      "\u001b[34m\u001b[1mwandb\u001b[0m: Currently logged in as: \u001b[33mjjdsantiago3\u001b[0m (\u001b[33mmsds_mlops2023_lt2\u001b[0m). Use \u001b[1m`wandb login --relogin`\u001b[0m to force relogin\n"
     ]
    },
    {
     "data": {
      "text/html": [
       "Tracking run with wandb version 0.15.10"
      ],
      "text/plain": [
       "<IPython.core.display.HTML object>"
      ]
     },
     "metadata": {},
     "output_type": "display_data"
    },
    {
     "data": {
      "text/html": [
       "Run data is saved locally in <code>c:\\Users\\Jesli's Laptop\\Desktop\\Acads\\MLO\\mlo-final-project\\code\\wandb\\run-20230910_135700-mtrt0ksy</code>"
      ],
      "text/plain": [
       "<IPython.core.display.HTML object>"
      ]
     },
     "metadata": {},
     "output_type": "display_data"
    },
    {
     "data": {
      "text/html": [
       "Syncing run <strong><a href='https://wandb.ai/msds_mlops2023_lt2/mlo-final-project/runs/mtrt0ksy' target=\"_blank\">generous-sweep-1</a></strong> to <a href='https://wandb.ai/msds_mlops2023_lt2/mlo-final-project' target=\"_blank\">Weights & Biases</a> (<a href='https://wandb.me/run' target=\"_blank\">docs</a>)<br/>Sweep page: <a href='https://wandb.ai/msds_mlops2023_lt2/mlo-final-project/sweeps/39xyia0g' target=\"_blank\">https://wandb.ai/msds_mlops2023_lt2/mlo-final-project/sweeps/39xyia0g</a>"
      ],
      "text/plain": [
       "<IPython.core.display.HTML object>"
      ]
     },
     "metadata": {},
     "output_type": "display_data"
    },
    {
     "data": {
      "text/html": [
       " View project at <a href='https://wandb.ai/msds_mlops2023_lt2/mlo-final-project' target=\"_blank\">https://wandb.ai/msds_mlops2023_lt2/mlo-final-project</a>"
      ],
      "text/plain": [
       "<IPython.core.display.HTML object>"
      ]
     },
     "metadata": {},
     "output_type": "display_data"
    },
    {
     "data": {
      "text/html": [
       " View sweep at <a href='https://wandb.ai/msds_mlops2023_lt2/mlo-final-project/sweeps/39xyia0g' target=\"_blank\">https://wandb.ai/msds_mlops2023_lt2/mlo-final-project/sweeps/39xyia0g</a>"
      ],
      "text/plain": [
       "<IPython.core.display.HTML object>"
      ]
     },
     "metadata": {},
     "output_type": "display_data"
    },
    {
     "data": {
      "text/html": [
       " View run at <a href='https://wandb.ai/msds_mlops2023_lt2/mlo-final-project/runs/mtrt0ksy' target=\"_blank\">https://wandb.ai/msds_mlops2023_lt2/mlo-final-project/runs/mtrt0ksy</a>"
      ],
      "text/plain": [
       "<IPython.core.display.HTML object>"
      ]
     },
     "metadata": {},
     "output_type": "display_data"
    },
    {
     "name": "stderr",
     "output_type": "stream",
     "text": [
      "c:\\Users\\Jesli's Laptop\\Desktop\\Acads\\MLO\\mlo-final-project\\code\\model.py:36: FutureWarning: The default value of regex will change from True to False in a future version.\n",
      "  self.df_train['Poem'] = self.df_train['Poem'].str.replace('shade.When', 'shade. When')\n",
      "c:\\Users\\Jesli's Laptop\\Desktop\\Acads\\MLO\\mlo-final-project\\code\\model.py:37: FutureWarning: The default value of regex will change from True to False in a future version.\n",
      "  self.df_train['Poem'] = self.df_train['Poem'].str.replace('afraid.Now', 'afraid. Now')\n",
      "c:\\Users\\Jesli's Laptop\\Desktop\\Acads\\MLO\\mlo-final-project\\code\\model.py:39: FutureWarning: The default value of regex will change from True to False in a future version.\n",
      "  self.df_train['Poem'] = self.df_train['Poem'].str.replace('afraid.Now,', 'afraid. Now,')\n",
      "c:\\Users\\Jesli's Laptop\\Desktop\\Acads\\MLO\\mlo-final-project\\code\\model.py:40: FutureWarning: The default value of regex will change from True to False in a future version.\n",
      "  self.df_train['Poem'] = self.df_train['Poem'].str.replace('Big Game.Bigger', 'Big Game. Bigger')\n",
      "[nltk_data] Downloading package stopwords to C:\\Users\\Jesli's\n",
      "[nltk_data]     Laptop\\AppData\\Roaming\\nltk_data...\n",
      "[nltk_data]   Package stopwords is already up-to-date!\n"
     ]
    },
    {
     "name": "stdout",
     "output_type": "stream",
     "text": [
      "Epoch 1/50\n",
      "21/21 [==============================] - 2s 42ms/step - loss: 1.3850 - acc: 0.2735 - val_loss: 1.3810 - val_acc: 0.3214\n",
      "Epoch 2/50\n",
      "21/21 [==============================] - 0s 21ms/step - loss: 1.3806 - acc: 0.2870 - val_loss: 1.3764 - val_acc: 0.3214\n",
      "Epoch 3/50\n",
      "21/21 [==============================] - 0s 21ms/step - loss: 1.3764 - acc: 0.2945 - val_loss: 1.3729 - val_acc: 0.3274\n",
      "Epoch 4/50\n",
      "21/21 [==============================] - 1s 25ms/step - loss: 1.3743 - acc: 0.2855 - val_loss: 1.3702 - val_acc: 0.3155\n",
      "Epoch 5/50\n",
      "21/21 [==============================] - 0s 21ms/step - loss: 1.3720 - acc: 0.2975 - val_loss: 1.3681 - val_acc: 0.3155\n",
      "Epoch 6/50\n",
      "21/21 [==============================] - 0s 22ms/step - loss: 1.3716 - acc: 0.2810 - val_loss: 1.3666 - val_acc: 0.2976\n",
      "Epoch 7/50\n",
      "21/21 [==============================] - 0s 20ms/step - loss: 1.3701 - acc: 0.2930 - val_loss: 1.3653 - val_acc: 0.2976\n",
      "Epoch 8/50\n",
      "21/21 [==============================] - 0s 20ms/step - loss: 1.3689 - acc: 0.3034 - val_loss: 1.3643 - val_acc: 0.3095\n",
      "Epoch 9/50\n",
      "21/21 [==============================] - 0s 20ms/step - loss: 1.3673 - acc: 0.3124 - val_loss: 1.3634 - val_acc: 0.3095\n",
      "Epoch 10/50\n",
      "21/21 [==============================] - 0s 22ms/step - loss: 1.3676 - acc: 0.2885 - val_loss: 1.3627 - val_acc: 0.3036\n",
      "Epoch 11/50\n",
      "21/21 [==============================] - 0s 20ms/step - loss: 1.3675 - acc: 0.3154 - val_loss: 1.3621 - val_acc: 0.2857\n",
      "Epoch 12/50\n",
      "21/21 [==============================] - 0s 20ms/step - loss: 1.3665 - acc: 0.2795 - val_loss: 1.3617 - val_acc: 0.2798\n",
      "Epoch 13/50\n",
      "21/21 [==============================] - 0s 21ms/step - loss: 1.3672 - acc: 0.2855 - val_loss: 1.3612 - val_acc: 0.2857\n",
      "Epoch 14/50\n",
      "21/21 [==============================] - 0s 20ms/step - loss: 1.3666 - acc: 0.2915 - val_loss: 1.3608 - val_acc: 0.2798\n",
      "Epoch 15/50\n",
      "21/21 [==============================] - 0s 21ms/step - loss: 1.3660 - acc: 0.3199 - val_loss: 1.3606 - val_acc: 0.2738\n",
      "Epoch 16/50\n",
      "21/21 [==============================] - 0s 20ms/step - loss: 1.3662 - acc: 0.3049 - val_loss: 1.3603 - val_acc: 0.2738\n",
      "Epoch 17/50\n",
      "21/21 [==============================] - 0s 20ms/step - loss: 1.3661 - acc: 0.3049 - val_loss: 1.3600 - val_acc: 0.2679\n",
      "Epoch 18/50\n",
      "21/21 [==============================] - 0s 23ms/step - loss: 1.3667 - acc: 0.2945 - val_loss: 1.3600 - val_acc: 0.2857\n",
      "Epoch 19/50\n",
      "21/21 [==============================] - 0s 19ms/step - loss: 1.3666 - acc: 0.3004 - val_loss: 1.3597 - val_acc: 0.2917\n",
      "Epoch 20/50\n",
      "21/21 [==============================] - 0s 20ms/step - loss: 1.3666 - acc: 0.2945 - val_loss: 1.3594 - val_acc: 0.2857\n",
      "Epoch 21/50\n",
      "21/21 [==============================] - 0s 22ms/step - loss: 1.3672 - acc: 0.3034 - val_loss: 1.3595 - val_acc: 0.2798\n",
      "Epoch 22/50\n",
      "21/21 [==============================] - 0s 23ms/step - loss: 1.3655 - acc: 0.3184 - val_loss: 1.3592 - val_acc: 0.2917\n",
      "Epoch 23/50\n",
      "21/21 [==============================] - 0s 20ms/step - loss: 1.3664 - acc: 0.2840 - val_loss: 1.3592 - val_acc: 0.2857\n",
      "Epoch 24/50\n",
      "21/21 [==============================] - 0s 23ms/step - loss: 1.3663 - acc: 0.2960 - val_loss: 1.3589 - val_acc: 0.2798\n",
      "Epoch 25/50\n",
      "21/21 [==============================] - 0s 20ms/step - loss: 1.3659 - acc: 0.2945 - val_loss: 1.3587 - val_acc: 0.2738\n",
      "Epoch 26/50\n",
      "21/21 [==============================] - 0s 21ms/step - loss: 1.3659 - acc: 0.3139 - val_loss: 1.3587 - val_acc: 0.2798\n",
      "Epoch 27/50\n",
      "21/21 [==============================] - 0s 19ms/step - loss: 1.3650 - acc: 0.3154 - val_loss: 1.3586 - val_acc: 0.2738\n",
      "Epoch 28/50\n",
      "21/21 [==============================] - 0s 19ms/step - loss: 1.3658 - acc: 0.3079 - val_loss: 1.3585 - val_acc: 0.2738\n",
      "Epoch 29/50\n",
      "21/21 [==============================] - 0s 20ms/step - loss: 1.3651 - acc: 0.3064 - val_loss: 1.3584 - val_acc: 0.2738\n",
      "Epoch 30/50\n",
      "21/21 [==============================] - 0s 20ms/step - loss: 1.3659 - acc: 0.3154 - val_loss: 1.3583 - val_acc: 0.2679\n",
      "Epoch 31/50\n",
      "21/21 [==============================] - 0s 22ms/step - loss: 1.3653 - acc: 0.3244 - val_loss: 1.3582 - val_acc: 0.2679\n",
      "Epoch 32/50\n",
      "21/21 [==============================] - 0s 20ms/step - loss: 1.3644 - acc: 0.3109 - val_loss: 1.3580 - val_acc: 0.2738\n",
      "Epoch 33/50\n",
      "21/21 [==============================] - 0s 19ms/step - loss: 1.3646 - acc: 0.3244 - val_loss: 1.3578 - val_acc: 0.2798\n",
      "Epoch 34/50\n",
      "21/21 [==============================] - 0s 20ms/step - loss: 1.3648 - acc: 0.3049 - val_loss: 1.3578 - val_acc: 0.2798\n",
      "Epoch 35/50\n",
      "21/21 [==============================] - 0s 20ms/step - loss: 1.3644 - acc: 0.3318 - val_loss: 1.3577 - val_acc: 0.2738\n",
      "Epoch 36/50\n",
      "21/21 [==============================] - 0s 20ms/step - loss: 1.3636 - acc: 0.2990 - val_loss: 1.3576 - val_acc: 0.2798\n",
      "Epoch 37/50\n",
      "21/21 [==============================] - 0s 20ms/step - loss: 1.3629 - acc: 0.3154 - val_loss: 1.3575 - val_acc: 0.2798\n",
      "Epoch 38/50\n",
      "21/21 [==============================] - 0s 20ms/step - loss: 1.3639 - acc: 0.2960 - val_loss: 1.3574 - val_acc: 0.2798\n",
      "Epoch 39/50\n",
      "21/21 [==============================] - 0s 22ms/step - loss: 1.3642 - acc: 0.3139 - val_loss: 1.3573 - val_acc: 0.2798\n",
      "Epoch 40/50\n",
      "21/21 [==============================] - 0s 22ms/step - loss: 1.3648 - acc: 0.3184 - val_loss: 1.3573 - val_acc: 0.2798\n",
      "Epoch 41/50\n",
      "21/21 [==============================] - 0s 19ms/step - loss: 1.3644 - acc: 0.3034 - val_loss: 1.3572 - val_acc: 0.2738\n",
      "Epoch 42/50\n",
      "21/21 [==============================] - 0s 21ms/step - loss: 1.3633 - acc: 0.3214 - val_loss: 1.3571 - val_acc: 0.2738\n",
      "Epoch 43/50\n",
      "21/21 [==============================] - 0s 20ms/step - loss: 1.3637 - acc: 0.3124 - val_loss: 1.3571 - val_acc: 0.2798\n",
      "Epoch 44/50\n",
      "21/21 [==============================] - 0s 21ms/step - loss: 1.3647 - acc: 0.3079 - val_loss: 1.3571 - val_acc: 0.2798\n",
      "Epoch 45/50\n",
      "21/21 [==============================] - 0s 20ms/step - loss: 1.3645 - acc: 0.3004 - val_loss: 1.3569 - val_acc: 0.2798\n",
      "Epoch 46/50\n",
      "21/21 [==============================] - 0s 19ms/step - loss: 1.3642 - acc: 0.3169 - val_loss: 1.3569 - val_acc: 0.2619\n",
      "Epoch 47/50\n",
      "21/21 [==============================] - 0s 19ms/step - loss: 1.3649 - acc: 0.2945 - val_loss: 1.3568 - val_acc: 0.2798\n",
      "Epoch 48/50\n",
      "21/21 [==============================] - 0s 20ms/step - loss: 1.3639 - acc: 0.3019 - val_loss: 1.3567 - val_acc: 0.2798\n",
      "Epoch 49/50\n",
      "21/21 [==============================] - 0s 19ms/step - loss: 1.3650 - acc: 0.3079 - val_loss: 1.3567 - val_acc: 0.2798\n",
      "Epoch 50/50\n",
      "21/21 [==============================] - 0s 20ms/step - loss: 1.3640 - acc: 0.3214 - val_loss: 1.3566 - val_acc: 0.2798\n",
      "5/5 [==============================] - 0s 8ms/step - loss: 1.6000 - acc: 0.1467\n"
     ]
    },
    {
     "data": {
      "text/html": [
       "Waiting for W&B process to finish... <strong style=\"color:green\">(success).</strong>"
      ],
      "text/plain": [
       "<IPython.core.display.HTML object>"
      ]
     },
     "metadata": {},
     "output_type": "display_data"
    },
    {
     "data": {
      "text/html": [
       "<style>\n",
       "    table.wandb td:nth-child(1) { padding: 0 10px; text-align: left ; width: auto;} td:nth-child(2) {text-align: left ; width: 100%}\n",
       "    .wandb-row { display: flex; flex-direction: row; flex-wrap: wrap; justify-content: flex-start; width: 100% }\n",
       "    .wandb-col { display: flex; flex-direction: column; flex-basis: 100%; flex: 1; padding: 10px; }\n",
       "    </style>\n",
       "<div class=\"wandb-row\"><div class=\"wandb-col\"><h3>Run history:</h3><br/><table class=\"wandb\"><tr><td>test_acc</td><td>▁</td></tr><tr><td>test_loss</td><td>▁</td></tr><tr><td>train_acc</td><td>▁▃▄▃▂▄▅▆▇▂▃▃▅▅▄▅▅▇▂▄▇▇▆▆█▆█▅▄▇▄▇▅█▆▆▇▄▅█</td></tr><tr><td>train_loss</td><td>█▇▅▅▄▃▃▂▂▂▂▂▂▂▂▂▂▂▂▂▂▂▂▂▂▁▂▂▁▁▁▁▁▁▁▂▁▂▁▁</td></tr><tr><td>val_acc</td><td>▇▇█▇▅▅▆▆▄▃▄▃▂▂▄▄▃▄▄▃▃▂▂▂▂▂▃▃▃▃▃▃▂▂▃▃▁▃▃▃</td></tr><tr><td>val_loss</td><td>█▇▆▅▄▃▃▃▃▂▂▂▂▂▂▂▂▂▂▂▂▂▂▂▁▁▁▁▁▁▁▁▁▁▁▁▁▁▁▁</td></tr></table><br/></div><div class=\"wandb-col\"><h3>Run summary:</h3><br/><table class=\"wandb\"><tr><td>test_acc</td><td>0.14667</td></tr><tr><td>test_loss</td><td>1.59997</td></tr><tr><td>train_acc</td><td>0.32138</td></tr><tr><td>train_loss</td><td>1.36399</td></tr><tr><td>val_acc</td><td>0.27976</td></tr><tr><td>val_loss</td><td>1.3566</td></tr></table><br/></div></div>"
      ],
      "text/plain": [
       "<IPython.core.display.HTML object>"
      ]
     },
     "metadata": {},
     "output_type": "display_data"
    },
    {
     "data": {
      "text/html": [
       " View run <strong style=\"color:#cdcd00\">generous-sweep-1</strong> at: <a href='https://wandb.ai/msds_mlops2023_lt2/mlo-final-project/runs/mtrt0ksy' target=\"_blank\">https://wandb.ai/msds_mlops2023_lt2/mlo-final-project/runs/mtrt0ksy</a><br/>Synced 5 W&B file(s), 0 media file(s), 0 artifact file(s) and 0 other file(s)"
      ],
      "text/plain": [
       "<IPython.core.display.HTML object>"
      ]
     },
     "metadata": {},
     "output_type": "display_data"
    },
    {
     "data": {
      "text/html": [
       "Find logs at: <code>.\\wandb\\run-20230910_135700-mtrt0ksy\\logs</code>"
      ],
      "text/plain": [
       "<IPython.core.display.HTML object>"
      ]
     },
     "metadata": {},
     "output_type": "display_data"
    },
    {
     "name": "stderr",
     "output_type": "stream",
     "text": [
      "\u001b[34m\u001b[1mwandb\u001b[0m: Sweep Agent: Waiting for job.\n",
      "\u001b[34m\u001b[1mwandb\u001b[0m: Network error (ConnectionError), entering retry loop.\n",
      "\u001b[34m\u001b[1mwandb\u001b[0m: Job received.\n",
      "\u001b[34m\u001b[1mwandb\u001b[0m: Agent Starting Run: atwgi5jn with config:\n",
      "\u001b[34m\u001b[1mwandb\u001b[0m: \tarchitecture: CNN\n",
      "\u001b[34m\u001b[1mwandb\u001b[0m: \tdataset: Poems\n",
      "\u001b[34m\u001b[1mwandb\u001b[0m: \tembedding_dim: 256\n",
      "\u001b[34m\u001b[1mwandb\u001b[0m: \tepochs: 50\n",
      "\u001b[34m\u001b[1mwandb\u001b[0m: \tlearning_rate: 0.023417529893785864\n",
      "\u001b[34m\u001b[1mwandb\u001b[0m: \toptimizer: adam\n",
      "Failed to detect the name of this notebook, you can set it manually with the WANDB_NOTEBOOK_NAME environment variable to enable code saving.\n"
     ]
    },
    {
     "data": {
      "text/html": [
       "Tracking run with wandb version 0.15.10"
      ],
      "text/plain": [
       "<IPython.core.display.HTML object>"
      ]
     },
     "metadata": {},
     "output_type": "display_data"
    },
    {
     "data": {
      "text/html": [
       "Run data is saved locally in <code>c:\\Users\\Jesli's Laptop\\Desktop\\Acads\\MLO\\mlo-final-project\\code\\wandb\\run-20230910_140020-atwgi5jn</code>"
      ],
      "text/plain": [
       "<IPython.core.display.HTML object>"
      ]
     },
     "metadata": {},
     "output_type": "display_data"
    },
    {
     "data": {
      "text/html": [
       "Syncing run <strong><a href='https://wandb.ai/msds_mlops2023_lt2/mlo-final-project/runs/atwgi5jn' target=\"_blank\">breezy-sweep-3</a></strong> to <a href='https://wandb.ai/msds_mlops2023_lt2/mlo-final-project' target=\"_blank\">Weights & Biases</a> (<a href='https://wandb.me/run' target=\"_blank\">docs</a>)<br/>Sweep page: <a href='https://wandb.ai/msds_mlops2023_lt2/mlo-final-project/sweeps/39xyia0g' target=\"_blank\">https://wandb.ai/msds_mlops2023_lt2/mlo-final-project/sweeps/39xyia0g</a>"
      ],
      "text/plain": [
       "<IPython.core.display.HTML object>"
      ]
     },
     "metadata": {},
     "output_type": "display_data"
    },
    {
     "data": {
      "text/html": [
       " View project at <a href='https://wandb.ai/msds_mlops2023_lt2/mlo-final-project' target=\"_blank\">https://wandb.ai/msds_mlops2023_lt2/mlo-final-project</a>"
      ],
      "text/plain": [
       "<IPython.core.display.HTML object>"
      ]
     },
     "metadata": {},
     "output_type": "display_data"
    },
    {
     "data": {
      "text/html": [
       " View sweep at <a href='https://wandb.ai/msds_mlops2023_lt2/mlo-final-project/sweeps/39xyia0g' target=\"_blank\">https://wandb.ai/msds_mlops2023_lt2/mlo-final-project/sweeps/39xyia0g</a>"
      ],
      "text/plain": [
       "<IPython.core.display.HTML object>"
      ]
     },
     "metadata": {},
     "output_type": "display_data"
    },
    {
     "data": {
      "text/html": [
       " View run at <a href='https://wandb.ai/msds_mlops2023_lt2/mlo-final-project/runs/atwgi5jn' target=\"_blank\">https://wandb.ai/msds_mlops2023_lt2/mlo-final-project/runs/atwgi5jn</a>"
      ],
      "text/plain": [
       "<IPython.core.display.HTML object>"
      ]
     },
     "metadata": {},
     "output_type": "display_data"
    },
    {
     "name": "stderr",
     "output_type": "stream",
     "text": [
      "c:\\Users\\Jesli's Laptop\\Desktop\\Acads\\MLO\\mlo-final-project\\code\\model.py:36: FutureWarning: The default value of regex will change from True to False in a future version.\n",
      "  self.df_train['Poem'] = self.df_train['Poem'].str.replace('shade.When', 'shade. When')\n",
      "c:\\Users\\Jesli's Laptop\\Desktop\\Acads\\MLO\\mlo-final-project\\code\\model.py:37: FutureWarning: The default value of regex will change from True to False in a future version.\n",
      "  self.df_train['Poem'] = self.df_train['Poem'].str.replace('afraid.Now', 'afraid. Now')\n",
      "c:\\Users\\Jesli's Laptop\\Desktop\\Acads\\MLO\\mlo-final-project\\code\\model.py:39: FutureWarning: The default value of regex will change from True to False in a future version.\n",
      "  self.df_train['Poem'] = self.df_train['Poem'].str.replace('afraid.Now,', 'afraid. Now,')\n",
      "c:\\Users\\Jesli's Laptop\\Desktop\\Acads\\MLO\\mlo-final-project\\code\\model.py:40: FutureWarning: The default value of regex will change from True to False in a future version.\n",
      "  self.df_train['Poem'] = self.df_train['Poem'].str.replace('Big Game.Bigger', 'Big Game. Bigger')\n",
      "[nltk_data] Downloading package stopwords to C:\\Users\\Jesli's\n",
      "[nltk_data]     Laptop\\AppData\\Roaming\\nltk_data...\n",
      "[nltk_data]   Package stopwords is already up-to-date!\n"
     ]
    },
    {
     "name": "stdout",
     "output_type": "stream",
     "text": [
      "Epoch 1/50\n",
      "21/21 [==============================] - 2s 29ms/step - loss: 1.3468 - acc: 0.3393 - val_loss: 1.3471 - val_acc: 0.3929\n",
      "Epoch 2/50\n",
      "21/21 [==============================] - 0s 17ms/step - loss: 1.1535 - acc: 0.5097 - val_loss: 1.3657 - val_acc: 0.3810\n",
      "Epoch 3/50\n",
      "21/21 [==============================] - 0s 16ms/step - loss: 0.9396 - acc: 0.6293 - val_loss: 1.3087 - val_acc: 0.4226\n",
      "Epoch 4/50\n",
      "21/21 [==============================] - 0s 16ms/step - loss: 0.7796 - acc: 0.7100 - val_loss: 1.3886 - val_acc: 0.4167\n",
      "Epoch 5/50\n",
      "21/21 [==============================] - 0s 16ms/step - loss: 0.6512 - acc: 0.7474 - val_loss: 1.4510 - val_acc: 0.4048\n",
      "Epoch 6/50\n",
      "21/21 [==============================] - 0s 18ms/step - loss: 0.5781 - acc: 0.7773 - val_loss: 1.6396 - val_acc: 0.3631\n",
      "Epoch 7/50\n",
      "21/21 [==============================] - 0s 16ms/step - loss: 0.5128 - acc: 0.7997 - val_loss: 1.8228 - val_acc: 0.4167\n",
      "Epoch 8/50\n",
      "21/21 [==============================] - 0s 16ms/step - loss: 0.4273 - acc: 0.8475 - val_loss: 1.8958 - val_acc: 0.3690\n",
      "Epoch 9/50\n",
      "21/21 [==============================] - 0s 17ms/step - loss: 0.3920 - acc: 0.8401 - val_loss: 2.0499 - val_acc: 0.3750\n",
      "Epoch 10/50\n",
      "21/21 [==============================] - 0s 16ms/step - loss: 0.4185 - acc: 0.8625 - val_loss: 2.1773 - val_acc: 0.4107\n",
      "Epoch 11/50\n",
      "21/21 [==============================] - 0s 18ms/step - loss: 0.3694 - acc: 0.8700 - val_loss: 2.3957 - val_acc: 0.3869\n",
      "Epoch 12/50\n",
      "21/21 [==============================] - 0s 17ms/step - loss: 0.2978 - acc: 0.8909 - val_loss: 2.5581 - val_acc: 0.3988\n",
      "Epoch 13/50\n",
      "21/21 [==============================] - 0s 19ms/step - loss: 0.3340 - acc: 0.8729 - val_loss: 2.6531 - val_acc: 0.3690\n",
      "Epoch 14/50\n",
      "21/21 [==============================] - 0s 17ms/step - loss: 0.2782 - acc: 0.9133 - val_loss: 2.6094 - val_acc: 0.3631\n",
      "Epoch 15/50\n",
      "21/21 [==============================] - 0s 17ms/step - loss: 0.2635 - acc: 0.9118 - val_loss: 2.7884 - val_acc: 0.3810\n",
      "Epoch 16/50\n",
      "21/21 [==============================] - 0s 18ms/step - loss: 0.2402 - acc: 0.9238 - val_loss: 2.8700 - val_acc: 0.3929\n",
      "Epoch 17/50\n",
      "21/21 [==============================] - 0s 17ms/step - loss: 0.2461 - acc: 0.9118 - val_loss: 2.9291 - val_acc: 0.3631\n",
      "Epoch 18/50\n",
      "21/21 [==============================] - 0s 18ms/step - loss: 0.2566 - acc: 0.9163 - val_loss: 3.0572 - val_acc: 0.3631\n",
      "Epoch 19/50\n",
      "21/21 [==============================] - 0s 17ms/step - loss: 0.2217 - acc: 0.9253 - val_loss: 3.0691 - val_acc: 0.3869\n",
      "Epoch 20/50\n",
      "21/21 [==============================] - 0s 17ms/step - loss: 0.2524 - acc: 0.9178 - val_loss: 3.1316 - val_acc: 0.3810\n",
      "Epoch 21/50\n",
      "21/21 [==============================] - 0s 18ms/step - loss: 0.2894 - acc: 0.9088 - val_loss: 3.1785 - val_acc: 0.4048\n",
      "Epoch 22/50\n",
      "21/21 [==============================] - 0s 17ms/step - loss: 0.2450 - acc: 0.9118 - val_loss: 3.7320 - val_acc: 0.3810\n",
      "Epoch 23/50\n",
      "21/21 [==============================] - 0s 18ms/step - loss: 0.2547 - acc: 0.9088 - val_loss: 3.6225 - val_acc: 0.3512\n",
      "Epoch 24/50\n",
      "21/21 [==============================] - 0s 17ms/step - loss: 0.2337 - acc: 0.9178 - val_loss: 3.4759 - val_acc: 0.3988\n",
      "Epoch 25/50\n",
      "21/21 [==============================] - 0s 18ms/step - loss: 0.2477 - acc: 0.9178 - val_loss: 3.5507 - val_acc: 0.4167\n",
      "Epoch 26/50\n",
      "21/21 [==============================] - 0s 17ms/step - loss: 0.2104 - acc: 0.9327 - val_loss: 3.8087 - val_acc: 0.3571\n",
      "Epoch 27/50\n",
      "21/21 [==============================] - 0s 16ms/step - loss: 0.2334 - acc: 0.9238 - val_loss: 3.8894 - val_acc: 0.4107\n",
      "Epoch 28/50\n",
      "21/21 [==============================] - 0s 18ms/step - loss: 0.2081 - acc: 0.9312 - val_loss: 3.8219 - val_acc: 0.3690\n",
      "Epoch 29/50\n",
      "21/21 [==============================] - 0s 16ms/step - loss: 0.2463 - acc: 0.9297 - val_loss: 3.7239 - val_acc: 0.4107\n",
      "Epoch 30/50\n",
      "21/21 [==============================] - 0s 17ms/step - loss: 0.2439 - acc: 0.9253 - val_loss: 3.9564 - val_acc: 0.3988\n",
      "Epoch 31/50\n",
      "21/21 [==============================] - 0s 17ms/step - loss: 0.2731 - acc: 0.9193 - val_loss: 3.9671 - val_acc: 0.3869\n",
      "Epoch 32/50\n",
      "21/21 [==============================] - 0s 18ms/step - loss: 0.2295 - acc: 0.9372 - val_loss: 3.7969 - val_acc: 0.3810\n",
      "Epoch 33/50\n",
      "21/21 [==============================] - 0s 18ms/step - loss: 0.2232 - acc: 0.9178 - val_loss: 3.8842 - val_acc: 0.3869\n",
      "Epoch 34/50\n",
      "21/21 [==============================] - 0s 16ms/step - loss: 0.2208 - acc: 0.9283 - val_loss: 3.8704 - val_acc: 0.3869\n",
      "Epoch 35/50\n",
      "21/21 [==============================] - 0s 20ms/step - loss: 0.1993 - acc: 0.9462 - val_loss: 3.9065 - val_acc: 0.3810\n",
      "Epoch 36/50\n",
      "21/21 [==============================] - 0s 18ms/step - loss: 0.1959 - acc: 0.9417 - val_loss: 3.9525 - val_acc: 0.3750\n",
      "Epoch 37/50\n",
      "21/21 [==============================] - 0s 18ms/step - loss: 0.1789 - acc: 0.9387 - val_loss: 4.0732 - val_acc: 0.3750\n",
      "Epoch 38/50\n",
      "21/21 [==============================] - 0s 17ms/step - loss: 0.2844 - acc: 0.9118 - val_loss: 4.2702 - val_acc: 0.3869\n",
      "Epoch 39/50\n",
      "21/21 [==============================] - 0s 16ms/step - loss: 0.2215 - acc: 0.9268 - val_loss: 4.1880 - val_acc: 0.3690\n",
      "Epoch 40/50\n",
      "21/21 [==============================] - 0s 18ms/step - loss: 0.2621 - acc: 0.9238 - val_loss: 4.1358 - val_acc: 0.3690\n",
      "Epoch 41/50\n",
      "21/21 [==============================] - 0s 19ms/step - loss: 0.1873 - acc: 0.9462 - val_loss: 4.1155 - val_acc: 0.3810\n",
      "Epoch 42/50\n",
      "21/21 [==============================] - 0s 16ms/step - loss: 0.1679 - acc: 0.9357 - val_loss: 4.2417 - val_acc: 0.3810\n",
      "Epoch 43/50\n",
      "21/21 [==============================] - 0s 19ms/step - loss: 0.2189 - acc: 0.9342 - val_loss: 4.1706 - val_acc: 0.3988\n",
      "Epoch 44/50\n",
      "21/21 [==============================] - 0s 18ms/step - loss: 0.1628 - acc: 0.9477 - val_loss: 4.1190 - val_acc: 0.3869\n",
      "Epoch 45/50\n",
      "21/21 [==============================] - 0s 17ms/step - loss: 0.1674 - acc: 0.9462 - val_loss: 4.2670 - val_acc: 0.3810\n",
      "Epoch 46/50\n",
      "21/21 [==============================] - 0s 19ms/step - loss: 0.1785 - acc: 0.9432 - val_loss: 4.1875 - val_acc: 0.3631\n",
      "Epoch 47/50\n",
      "21/21 [==============================] - 0s 17ms/step - loss: 0.2067 - acc: 0.9297 - val_loss: 4.4934 - val_acc: 0.3869\n",
      "Epoch 48/50\n",
      "21/21 [==============================] - 0s 16ms/step - loss: 0.2401 - acc: 0.9268 - val_loss: 4.3987 - val_acc: 0.3810\n",
      "Epoch 49/50\n",
      "21/21 [==============================] - 0s 18ms/step - loss: 0.2339 - acc: 0.9357 - val_loss: 4.5161 - val_acc: 0.3869\n",
      "Epoch 50/50\n",
      "21/21 [==============================] - 0s 16ms/step - loss: 0.1964 - acc: 0.9462 - val_loss: 4.5461 - val_acc: 0.3750\n",
      "5/5 [==============================] - 0s 5ms/step - loss: 5.2694 - acc: 0.2733\n"
     ]
    },
    {
     "data": {
      "text/html": [
       "Waiting for W&B process to finish... <strong style=\"color:green\">(success).</strong>"
      ],
      "text/plain": [
       "<IPython.core.display.HTML object>"
      ]
     },
     "metadata": {},
     "output_type": "display_data"
    },
    {
     "data": {
      "text/html": [
       "<style>\n",
       "    table.wandb td:nth-child(1) { padding: 0 10px; text-align: left ; width: auto;} td:nth-child(2) {text-align: left ; width: 100%}\n",
       "    .wandb-row { display: flex; flex-direction: row; flex-wrap: wrap; justify-content: flex-start; width: 100% }\n",
       "    .wandb-col { display: flex; flex-direction: column; flex-basis: 100%; flex: 1; padding: 10px; }\n",
       "    </style>\n",
       "<div class=\"wandb-row\"><div class=\"wandb-col\"><h3>Run history:</h3><br/><table class=\"wandb\"><tr><td>test_acc</td><td>▁</td></tr><tr><td>test_loss</td><td>▁</td></tr><tr><td>train_acc</td><td>▁▃▄▅▆▆▇▇▇▇▇█████████████████████████████</td></tr><tr><td>train_loss</td><td>█▇▆▅▃▃▃▂▂▂▂▂▁▁▂▁▂▁▂▁▁▁▁▁▂▁▁▁▁▁▂▁▁▁▁▁▁▁▁▁</td></tr><tr><td>val_acc</td><td>▅▄█▇▂▇▃▃▅▆▃▂▅▂▂▅▆▄▁▆▂▇▃▇▅▄▅▅▃▃▅▃▄▄▆▅▂▅▄▃</td></tr><tr><td>val_loss</td><td>▁▁▁▁▂▂▂▃▃▄▄▄▄▅▅▅▅▆▆▆▆▇▆▆▇▆▇▇▇▇▇▇▇▇▇▇▇███</td></tr></table><br/></div><div class=\"wandb-col\"><h3>Run summary:</h3><br/><table class=\"wandb\"><tr><td>test_acc</td><td>0.27333</td></tr><tr><td>test_loss</td><td>5.26942</td></tr><tr><td>train_acc</td><td>0.94619</td></tr><tr><td>train_loss</td><td>0.19637</td></tr><tr><td>val_acc</td><td>0.375</td></tr><tr><td>val_loss</td><td>4.54606</td></tr></table><br/></div></div>"
      ],
      "text/plain": [
       "<IPython.core.display.HTML object>"
      ]
     },
     "metadata": {},
     "output_type": "display_data"
    },
    {
     "data": {
      "text/html": [
       " View run <strong style=\"color:#cdcd00\">breezy-sweep-3</strong> at: <a href='https://wandb.ai/msds_mlops2023_lt2/mlo-final-project/runs/atwgi5jn' target=\"_blank\">https://wandb.ai/msds_mlops2023_lt2/mlo-final-project/runs/atwgi5jn</a><br/>Synced 5 W&B file(s), 0 media file(s), 0 artifact file(s) and 0 other file(s)"
      ],
      "text/plain": [
       "<IPython.core.display.HTML object>"
      ]
     },
     "metadata": {},
     "output_type": "display_data"
    },
    {
     "data": {
      "text/html": [
       "Find logs at: <code>.\\wandb\\run-20230910_140020-atwgi5jn\\logs</code>"
      ],
      "text/plain": [
       "<IPython.core.display.HTML object>"
      ]
     },
     "metadata": {},
     "output_type": "display_data"
    },
    {
     "name": "stderr",
     "output_type": "stream",
     "text": [
      "\u001b[34m\u001b[1mwandb\u001b[0m: Agent Starting Run: ao9kivz6 with config:\n",
      "\u001b[34m\u001b[1mwandb\u001b[0m: \tarchitecture: CNN\n",
      "\u001b[34m\u001b[1mwandb\u001b[0m: \tdataset: Poems\n",
      "\u001b[34m\u001b[1mwandb\u001b[0m: \tembedding_dim: 512\n",
      "\u001b[34m\u001b[1mwandb\u001b[0m: \tepochs: 50\n",
      "\u001b[34m\u001b[1mwandb\u001b[0m: \tlearning_rate: 0.034798650122370774\n",
      "\u001b[34m\u001b[1mwandb\u001b[0m: \toptimizer: adam\n",
      "Failed to detect the name of this notebook, you can set it manually with the WANDB_NOTEBOOK_NAME environment variable to enable code saving.\n"
     ]
    },
    {
     "data": {
      "text/html": [
       "Tracking run with wandb version 0.15.10"
      ],
      "text/plain": [
       "<IPython.core.display.HTML object>"
      ]
     },
     "metadata": {},
     "output_type": "display_data"
    },
    {
     "data": {
      "text/html": [
       "Run data is saved locally in <code>c:\\Users\\Jesli's Laptop\\Desktop\\Acads\\MLO\\mlo-final-project\\code\\wandb\\run-20230910_140110-ao9kivz6</code>"
      ],
      "text/plain": [
       "<IPython.core.display.HTML object>"
      ]
     },
     "metadata": {},
     "output_type": "display_data"
    },
    {
     "data": {
      "text/html": [
       "Syncing run <strong><a href='https://wandb.ai/msds_mlops2023_lt2/mlo-final-project/runs/ao9kivz6' target=\"_blank\">fresh-sweep-4</a></strong> to <a href='https://wandb.ai/msds_mlops2023_lt2/mlo-final-project' target=\"_blank\">Weights & Biases</a> (<a href='https://wandb.me/run' target=\"_blank\">docs</a>)<br/>Sweep page: <a href='https://wandb.ai/msds_mlops2023_lt2/mlo-final-project/sweeps/39xyia0g' target=\"_blank\">https://wandb.ai/msds_mlops2023_lt2/mlo-final-project/sweeps/39xyia0g</a>"
      ],
      "text/plain": [
       "<IPython.core.display.HTML object>"
      ]
     },
     "metadata": {},
     "output_type": "display_data"
    },
    {
     "data": {
      "text/html": [
       " View project at <a href='https://wandb.ai/msds_mlops2023_lt2/mlo-final-project' target=\"_blank\">https://wandb.ai/msds_mlops2023_lt2/mlo-final-project</a>"
      ],
      "text/plain": [
       "<IPython.core.display.HTML object>"
      ]
     },
     "metadata": {},
     "output_type": "display_data"
    },
    {
     "data": {
      "text/html": [
       " View sweep at <a href='https://wandb.ai/msds_mlops2023_lt2/mlo-final-project/sweeps/39xyia0g' target=\"_blank\">https://wandb.ai/msds_mlops2023_lt2/mlo-final-project/sweeps/39xyia0g</a>"
      ],
      "text/plain": [
       "<IPython.core.display.HTML object>"
      ]
     },
     "metadata": {},
     "output_type": "display_data"
    },
    {
     "data": {
      "text/html": [
       " View run at <a href='https://wandb.ai/msds_mlops2023_lt2/mlo-final-project/runs/ao9kivz6' target=\"_blank\">https://wandb.ai/msds_mlops2023_lt2/mlo-final-project/runs/ao9kivz6</a>"
      ],
      "text/plain": [
       "<IPython.core.display.HTML object>"
      ]
     },
     "metadata": {},
     "output_type": "display_data"
    },
    {
     "name": "stderr",
     "output_type": "stream",
     "text": [
      "c:\\Users\\Jesli's Laptop\\Desktop\\Acads\\MLO\\mlo-final-project\\code\\model.py:36: FutureWarning: The default value of regex will change from True to False in a future version.\n",
      "  self.df_train['Poem'] = self.df_train['Poem'].str.replace('shade.When', 'shade. When')\n",
      "c:\\Users\\Jesli's Laptop\\Desktop\\Acads\\MLO\\mlo-final-project\\code\\model.py:37: FutureWarning: The default value of regex will change from True to False in a future version.\n",
      "  self.df_train['Poem'] = self.df_train['Poem'].str.replace('afraid.Now', 'afraid. Now')\n",
      "c:\\Users\\Jesli's Laptop\\Desktop\\Acads\\MLO\\mlo-final-project\\code\\model.py:39: FutureWarning: The default value of regex will change from True to False in a future version.\n",
      "  self.df_train['Poem'] = self.df_train['Poem'].str.replace('afraid.Now,', 'afraid. Now,')\n",
      "c:\\Users\\Jesli's Laptop\\Desktop\\Acads\\MLO\\mlo-final-project\\code\\model.py:40: FutureWarning: The default value of regex will change from True to False in a future version.\n",
      "  self.df_train['Poem'] = self.df_train['Poem'].str.replace('Big Game.Bigger', 'Big Game. Bigger')\n",
      "[nltk_data] Downloading package stopwords to C:\\Users\\Jesli's\n",
      "[nltk_data]     Laptop\\AppData\\Roaming\\nltk_data...\n",
      "[nltk_data]   Package stopwords is already up-to-date!\n"
     ]
    },
    {
     "name": "stdout",
     "output_type": "stream",
     "text": [
      "Epoch 1/50\n",
      "21/21 [==============================] - 2s 37ms/step - loss: 1.3557 - acc: 0.3363 - val_loss: 1.4313 - val_acc: 0.3452\n",
      "Epoch 2/50\n",
      "21/21 [==============================] - 1s 25ms/step - loss: 1.0667 - acc: 0.5426 - val_loss: 1.4806 - val_acc: 0.3690\n",
      "Epoch 3/50\n",
      "21/21 [==============================] - 1s 25ms/step - loss: 0.8748 - acc: 0.6472 - val_loss: 1.6440 - val_acc: 0.4048\n",
      "Epoch 4/50\n",
      "21/21 [==============================] - 1s 25ms/step - loss: 0.7553 - acc: 0.6996 - val_loss: 1.9792 - val_acc: 0.3571\n",
      "Epoch 5/50\n",
      "21/21 [==============================] - 1s 25ms/step - loss: 0.6927 - acc: 0.7324 - val_loss: 2.2347 - val_acc: 0.3155\n",
      "Epoch 6/50\n",
      "21/21 [==============================] - 1s 26ms/step - loss: 0.6152 - acc: 0.7683 - val_loss: 2.1616 - val_acc: 0.3750\n",
      "Epoch 7/50\n",
      "21/21 [==============================] - 1s 25ms/step - loss: 0.5040 - acc: 0.7937 - val_loss: 2.3879 - val_acc: 0.3512\n",
      "Epoch 8/50\n",
      "21/21 [==============================] - 1s 26ms/step - loss: 0.4521 - acc: 0.8296 - val_loss: 2.9194 - val_acc: 0.3512\n",
      "Epoch 9/50\n",
      "21/21 [==============================] - 1s 25ms/step - loss: 0.4519 - acc: 0.8221 - val_loss: 3.2209 - val_acc: 0.3452\n",
      "Epoch 10/50\n",
      "21/21 [==============================] - 1s 25ms/step - loss: 0.4087 - acc: 0.8655 - val_loss: 3.2582 - val_acc: 0.3571\n",
      "Epoch 11/50\n",
      "21/21 [==============================] - 1s 26ms/step - loss: 0.3822 - acc: 0.8640 - val_loss: 3.5515 - val_acc: 0.3571\n",
      "Epoch 12/50\n",
      "21/21 [==============================] - 1s 25ms/step - loss: 0.4149 - acc: 0.8505 - val_loss: 3.4514 - val_acc: 0.3333\n",
      "Epoch 13/50\n",
      "21/21 [==============================] - 1s 29ms/step - loss: 0.3350 - acc: 0.8879 - val_loss: 3.4286 - val_acc: 0.3333\n",
      "Epoch 14/50\n",
      "21/21 [==============================] - 1s 25ms/step - loss: 0.3565 - acc: 0.8759 - val_loss: 3.8248 - val_acc: 0.3690\n",
      "Epoch 15/50\n",
      "21/21 [==============================] - 1s 24ms/step - loss: 0.4599 - acc: 0.8729 - val_loss: 4.1851 - val_acc: 0.3452\n",
      "Epoch 16/50\n",
      "21/21 [==============================] - 1s 27ms/step - loss: 0.3628 - acc: 0.8804 - val_loss: 4.0669 - val_acc: 0.3512\n",
      "Epoch 17/50\n",
      "21/21 [==============================] - 1s 25ms/step - loss: 0.3603 - acc: 0.8834 - val_loss: 4.3026 - val_acc: 0.3333\n",
      "Epoch 18/50\n",
      "21/21 [==============================] - 1s 25ms/step - loss: 0.3780 - acc: 0.9043 - val_loss: 4.4627 - val_acc: 0.3393\n",
      "Epoch 19/50\n",
      "21/21 [==============================] - 1s 25ms/step - loss: 0.3910 - acc: 0.8834 - val_loss: 4.3116 - val_acc: 0.3810\n",
      "Epoch 20/50\n",
      "21/21 [==============================] - 1s 25ms/step - loss: 0.3069 - acc: 0.8984 - val_loss: 4.6380 - val_acc: 0.3214\n",
      "Epoch 21/50\n",
      "21/21 [==============================] - 1s 24ms/step - loss: 0.3609 - acc: 0.8864 - val_loss: 4.7056 - val_acc: 0.3333\n",
      "Epoch 22/50\n",
      "21/21 [==============================] - 1s 26ms/step - loss: 0.3518 - acc: 0.8879 - val_loss: 4.8854 - val_acc: 0.3512\n",
      "Epoch 23/50\n",
      "21/21 [==============================] - 1s 24ms/step - loss: 0.3390 - acc: 0.8939 - val_loss: 4.9525 - val_acc: 0.3393\n",
      "Epoch 24/50\n",
      "21/21 [==============================] - 1s 25ms/step - loss: 0.3646 - acc: 0.8864 - val_loss: 5.2553 - val_acc: 0.3452\n",
      "Epoch 25/50\n",
      "21/21 [==============================] - 1s 24ms/step - loss: 0.3676 - acc: 0.8879 - val_loss: 5.1633 - val_acc: 0.3333\n",
      "Epoch 26/50\n",
      "21/21 [==============================] - 1s 25ms/step - loss: 0.3215 - acc: 0.9073 - val_loss: 5.4065 - val_acc: 0.3274\n",
      "Epoch 27/50\n",
      "21/21 [==============================] - 1s 25ms/step - loss: 0.4129 - acc: 0.8849 - val_loss: 5.3156 - val_acc: 0.3452\n",
      "Epoch 28/50\n",
      "21/21 [==============================] - 1s 26ms/step - loss: 0.3306 - acc: 0.9013 - val_loss: 5.3778 - val_acc: 0.3274\n",
      "Epoch 29/50\n",
      "21/21 [==============================] - 1s 24ms/step - loss: 0.3771 - acc: 0.8984 - val_loss: 5.3793 - val_acc: 0.3155\n",
      "Epoch 30/50\n",
      "21/21 [==============================] - 1s 24ms/step - loss: 0.3043 - acc: 0.9178 - val_loss: 5.4615 - val_acc: 0.3333\n",
      "Epoch 31/50\n",
      "21/21 [==============================] - 1s 25ms/step - loss: 0.3680 - acc: 0.8999 - val_loss: 5.4531 - val_acc: 0.3393\n",
      "Epoch 32/50\n",
      "21/21 [==============================] - 1s 27ms/step - loss: 0.2968 - acc: 0.9193 - val_loss: 5.5992 - val_acc: 0.3393\n",
      "Epoch 33/50\n",
      "21/21 [==============================] - 1s 25ms/step - loss: 0.4019 - acc: 0.9043 - val_loss: 5.3548 - val_acc: 0.3333\n",
      "Epoch 34/50\n",
      "21/21 [==============================] - 1s 25ms/step - loss: 0.3712 - acc: 0.9118 - val_loss: 5.7677 - val_acc: 0.3393\n",
      "Epoch 35/50\n",
      "21/21 [==============================] - 1s 25ms/step - loss: 0.4003 - acc: 0.9028 - val_loss: 5.7599 - val_acc: 0.3274\n",
      "Epoch 36/50\n",
      "21/21 [==============================] - 1s 24ms/step - loss: 0.3152 - acc: 0.9058 - val_loss: 5.7880 - val_acc: 0.3571\n",
      "Epoch 37/50\n",
      "21/21 [==============================] - 1s 25ms/step - loss: 0.3647 - acc: 0.9043 - val_loss: 5.4189 - val_acc: 0.3512\n",
      "Epoch 38/50\n",
      "21/21 [==============================] - 1s 25ms/step - loss: 0.2810 - acc: 0.9148 - val_loss: 5.6051 - val_acc: 0.3333\n",
      "Epoch 39/50\n",
      "21/21 [==============================] - 1s 25ms/step - loss: 0.3173 - acc: 0.9133 - val_loss: 5.6607 - val_acc: 0.3274\n",
      "Epoch 40/50\n",
      "21/21 [==============================] - 1s 27ms/step - loss: 0.3589 - acc: 0.8999 - val_loss: 5.6008 - val_acc: 0.3512\n",
      "Epoch 41/50\n",
      "21/21 [==============================] - 1s 25ms/step - loss: 0.3309 - acc: 0.9148 - val_loss: 5.9728 - val_acc: 0.3333\n",
      "Epoch 42/50\n",
      "21/21 [==============================] - 1s 24ms/step - loss: 0.3287 - acc: 0.8984 - val_loss: 5.8938 - val_acc: 0.3512\n",
      "Epoch 43/50\n",
      "21/21 [==============================] - 1s 25ms/step - loss: 0.3524 - acc: 0.9073 - val_loss: 5.8358 - val_acc: 0.3393\n",
      "Epoch 44/50\n",
      "21/21 [==============================] - 1s 27ms/step - loss: 0.3055 - acc: 0.9118 - val_loss: 5.9220 - val_acc: 0.3452\n",
      "Epoch 45/50\n",
      "21/21 [==============================] - 1s 25ms/step - loss: 0.3961 - acc: 0.9043 - val_loss: 5.9663 - val_acc: 0.3393\n",
      "Epoch 46/50\n",
      "21/21 [==============================] - 1s 27ms/step - loss: 0.3483 - acc: 0.9013 - val_loss: 6.0144 - val_acc: 0.3512\n",
      "Epoch 47/50\n",
      "21/21 [==============================] - 1s 26ms/step - loss: 0.3107 - acc: 0.9208 - val_loss: 6.1844 - val_acc: 0.3393\n",
      "Epoch 48/50\n",
      "21/21 [==============================] - 1s 24ms/step - loss: 0.3529 - acc: 0.9163 - val_loss: 6.3720 - val_acc: 0.3452\n",
      "Epoch 49/50\n",
      "21/21 [==============================] - 1s 25ms/step - loss: 0.2673 - acc: 0.9208 - val_loss: 6.2668 - val_acc: 0.3452\n",
      "Epoch 50/50\n",
      "21/21 [==============================] - 1s 25ms/step - loss: 0.2976 - acc: 0.9088 - val_loss: 6.2711 - val_acc: 0.3333\n",
      "5/5 [==============================] - 0s 6ms/step - loss: 7.7905 - acc: 0.2333\n"
     ]
    },
    {
     "data": {
      "text/html": [
       "Waiting for W&B process to finish... <strong style=\"color:green\">(success).</strong>"
      ],
      "text/plain": [
       "<IPython.core.display.HTML object>"
      ]
     },
     "metadata": {},
     "output_type": "display_data"
    },
    {
     "data": {
      "text/html": [
       "<style>\n",
       "    table.wandb td:nth-child(1) { padding: 0 10px; text-align: left ; width: auto;} td:nth-child(2) {text-align: left ; width: 100%}\n",
       "    .wandb-row { display: flex; flex-direction: row; flex-wrap: wrap; justify-content: flex-start; width: 100% }\n",
       "    .wandb-col { display: flex; flex-direction: column; flex-basis: 100%; flex: 1; padding: 10px; }\n",
       "    </style>\n",
       "<div class=\"wandb-row\"><div class=\"wandb-col\"><h3>Run history:</h3><br/><table class=\"wandb\"><tr><td>test_acc</td><td>▁</td></tr><tr><td>test_loss</td><td>▁</td></tr><tr><td>train_acc</td><td>▁▃▅▅▆▆▇▇▇▇█▇████████████████████████████</td></tr><tr><td>train_loss</td><td>█▆▅▄▃▂▂▂▂▂▁▁▂▂▂▂▂▁▁▂▁▂▁▂▂▁▂▂▁▂▁▁▁▁▁▁▁▁▁▁</td></tr><tr><td>val_acc</td><td>▃▅█▄▆▄▄▃▄▂▂▅▄▂▃▆▂▄▃▃▂▃▂▁▃▃▂▃▄▄▂▂▂▄▃▃▄▃▃▂</td></tr><tr><td>val_loss</td><td>▁▁▁▂▂▂▃▄▄▄▄▄▅▅▅▅▆▆▆▆▇▇▇▇▇▇▇▇▇▇▇▇▇▇▇▇▇███</td></tr></table><br/></div><div class=\"wandb-col\"><h3>Run summary:</h3><br/><table class=\"wandb\"><tr><td>test_acc</td><td>0.23333</td></tr><tr><td>test_loss</td><td>7.79048</td></tr><tr><td>train_acc</td><td>0.90882</td></tr><tr><td>train_loss</td><td>0.29758</td></tr><tr><td>val_acc</td><td>0.33333</td></tr><tr><td>val_loss</td><td>6.27106</td></tr></table><br/></div></div>"
      ],
      "text/plain": [
       "<IPython.core.display.HTML object>"
      ]
     },
     "metadata": {},
     "output_type": "display_data"
    },
    {
     "data": {
      "text/html": [
       " View run <strong style=\"color:#cdcd00\">fresh-sweep-4</strong> at: <a href='https://wandb.ai/msds_mlops2023_lt2/mlo-final-project/runs/ao9kivz6' target=\"_blank\">https://wandb.ai/msds_mlops2023_lt2/mlo-final-project/runs/ao9kivz6</a><br/>Synced 5 W&B file(s), 0 media file(s), 0 artifact file(s) and 0 other file(s)"
      ],
      "text/plain": [
       "<IPython.core.display.HTML object>"
      ]
     },
     "metadata": {},
     "output_type": "display_data"
    },
    {
     "data": {
      "text/html": [
       "Find logs at: <code>.\\wandb\\run-20230910_140110-ao9kivz6\\logs</code>"
      ],
      "text/plain": [
       "<IPython.core.display.HTML object>"
      ]
     },
     "metadata": {},
     "output_type": "display_data"
    },
    {
     "name": "stderr",
     "output_type": "stream",
     "text": [
      "\u001b[34m\u001b[1mwandb\u001b[0m: Agent Starting Run: cagkljx2 with config:\n",
      "\u001b[34m\u001b[1mwandb\u001b[0m: \tarchitecture: CNN\n",
      "\u001b[34m\u001b[1mwandb\u001b[0m: \tdataset: Poems\n",
      "\u001b[34m\u001b[1mwandb\u001b[0m: \tembedding_dim: 128\n",
      "\u001b[34m\u001b[1mwandb\u001b[0m: \tepochs: 50\n",
      "\u001b[34m\u001b[1mwandb\u001b[0m: \tlearning_rate: 0.01250186130601954\n",
      "\u001b[34m\u001b[1mwandb\u001b[0m: \toptimizer: adam\n",
      "Failed to detect the name of this notebook, you can set it manually with the WANDB_NOTEBOOK_NAME environment variable to enable code saving.\n"
     ]
    },
    {
     "data": {
      "text/html": [
       "Tracking run with wandb version 0.15.10"
      ],
      "text/plain": [
       "<IPython.core.display.HTML object>"
      ]
     },
     "metadata": {},
     "output_type": "display_data"
    },
    {
     "data": {
      "text/html": [
       "Run data is saved locally in <code>c:\\Users\\Jesli's Laptop\\Desktop\\Acads\\MLO\\mlo-final-project\\code\\wandb\\run-20230910_140203-cagkljx2</code>"
      ],
      "text/plain": [
       "<IPython.core.display.HTML object>"
      ]
     },
     "metadata": {},
     "output_type": "display_data"
    },
    {
     "data": {
      "text/html": [
       "Syncing run <strong><a href='https://wandb.ai/msds_mlops2023_lt2/mlo-final-project/runs/cagkljx2' target=\"_blank\">restful-sweep-5</a></strong> to <a href='https://wandb.ai/msds_mlops2023_lt2/mlo-final-project' target=\"_blank\">Weights & Biases</a> (<a href='https://wandb.me/run' target=\"_blank\">docs</a>)<br/>Sweep page: <a href='https://wandb.ai/msds_mlops2023_lt2/mlo-final-project/sweeps/39xyia0g' target=\"_blank\">https://wandb.ai/msds_mlops2023_lt2/mlo-final-project/sweeps/39xyia0g</a>"
      ],
      "text/plain": [
       "<IPython.core.display.HTML object>"
      ]
     },
     "metadata": {},
     "output_type": "display_data"
    },
    {
     "data": {
      "text/html": [
       " View project at <a href='https://wandb.ai/msds_mlops2023_lt2/mlo-final-project' target=\"_blank\">https://wandb.ai/msds_mlops2023_lt2/mlo-final-project</a>"
      ],
      "text/plain": [
       "<IPython.core.display.HTML object>"
      ]
     },
     "metadata": {},
     "output_type": "display_data"
    },
    {
     "data": {
      "text/html": [
       " View sweep at <a href='https://wandb.ai/msds_mlops2023_lt2/mlo-final-project/sweeps/39xyia0g' target=\"_blank\">https://wandb.ai/msds_mlops2023_lt2/mlo-final-project/sweeps/39xyia0g</a>"
      ],
      "text/plain": [
       "<IPython.core.display.HTML object>"
      ]
     },
     "metadata": {},
     "output_type": "display_data"
    },
    {
     "data": {
      "text/html": [
       " View run at <a href='https://wandb.ai/msds_mlops2023_lt2/mlo-final-project/runs/cagkljx2' target=\"_blank\">https://wandb.ai/msds_mlops2023_lt2/mlo-final-project/runs/cagkljx2</a>"
      ],
      "text/plain": [
       "<IPython.core.display.HTML object>"
      ]
     },
     "metadata": {},
     "output_type": "display_data"
    },
    {
     "name": "stderr",
     "output_type": "stream",
     "text": [
      "c:\\Users\\Jesli's Laptop\\Desktop\\Acads\\MLO\\mlo-final-project\\code\\model.py:36: FutureWarning: The default value of regex will change from True to False in a future version.\n",
      "  self.df_train['Poem'] = self.df_train['Poem'].str.replace('shade.When', 'shade. When')\n",
      "c:\\Users\\Jesli's Laptop\\Desktop\\Acads\\MLO\\mlo-final-project\\code\\model.py:37: FutureWarning: The default value of regex will change from True to False in a future version.\n",
      "  self.df_train['Poem'] = self.df_train['Poem'].str.replace('afraid.Now', 'afraid. Now')\n",
      "c:\\Users\\Jesli's Laptop\\Desktop\\Acads\\MLO\\mlo-final-project\\code\\model.py:39: FutureWarning: The default value of regex will change from True to False in a future version.\n",
      "  self.df_train['Poem'] = self.df_train['Poem'].str.replace('afraid.Now,', 'afraid. Now,')\n",
      "c:\\Users\\Jesli's Laptop\\Desktop\\Acads\\MLO\\mlo-final-project\\code\\model.py:40: FutureWarning: The default value of regex will change from True to False in a future version.\n",
      "  self.df_train['Poem'] = self.df_train['Poem'].str.replace('Big Game.Bigger', 'Big Game. Bigger')\n",
      "[nltk_data] Downloading package stopwords to C:\\Users\\Jesli's\n",
      "[nltk_data]     Laptop\\AppData\\Roaming\\nltk_data...\n",
      "[nltk_data]   Package stopwords is already up-to-date!\n"
     ]
    },
    {
     "name": "stdout",
     "output_type": "stream",
     "text": [
      "Epoch 1/50\n",
      "21/21 [==============================] - 2s 29ms/step - loss: 1.3658 - acc: 0.2810 - val_loss: 1.3470 - val_acc: 0.3095\n",
      "Epoch 2/50\n",
      "21/21 [==============================] - 0s 15ms/step - loss: 1.2878 - acc: 0.4215 - val_loss: 1.3015 - val_acc: 0.3869\n",
      "Epoch 3/50\n",
      "21/21 [==============================] - 0s 12ms/step - loss: 1.1647 - acc: 0.5157 - val_loss: 1.2421 - val_acc: 0.4048\n",
      "Epoch 4/50\n",
      "21/21 [==============================] - 0s 15ms/step - loss: 1.0230 - acc: 0.6173 - val_loss: 1.2550 - val_acc: 0.3929\n",
      "Epoch 5/50\n",
      "21/21 [==============================] - 0s 12ms/step - loss: 0.8629 - acc: 0.6846 - val_loss: 1.2741 - val_acc: 0.3929\n",
      "Epoch 6/50\n",
      "21/21 [==============================] - 0s 12ms/step - loss: 0.7417 - acc: 0.7294 - val_loss: 1.3867 - val_acc: 0.3929\n",
      "Epoch 7/50\n",
      "21/21 [==============================] - 0s 16ms/step - loss: 0.6773 - acc: 0.7818 - val_loss: 1.4146 - val_acc: 0.3869\n",
      "Epoch 8/50\n",
      "21/21 [==============================] - 0s 14ms/step - loss: 0.6044 - acc: 0.7833 - val_loss: 1.4943 - val_acc: 0.3929\n",
      "Epoch 9/50\n",
      "21/21 [==============================] - 0s 14ms/step - loss: 0.5164 - acc: 0.8371 - val_loss: 1.5994 - val_acc: 0.3690\n",
      "Epoch 10/50\n",
      "21/21 [==============================] - 0s 12ms/step - loss: 0.4858 - acc: 0.8356 - val_loss: 1.7493 - val_acc: 0.3690\n",
      "Epoch 11/50\n",
      "21/21 [==============================] - 0s 13ms/step - loss: 0.4359 - acc: 0.8475 - val_loss: 1.7745 - val_acc: 0.3512\n",
      "Epoch 12/50\n",
      "21/21 [==============================] - 0s 13ms/step - loss: 0.3945 - acc: 0.8819 - val_loss: 1.9123 - val_acc: 0.3333\n",
      "Epoch 13/50\n",
      "21/21 [==============================] - 0s 12ms/step - loss: 0.3725 - acc: 0.8759 - val_loss: 1.9632 - val_acc: 0.3512\n",
      "Epoch 14/50\n",
      "21/21 [==============================] - 0s 12ms/step - loss: 0.3415 - acc: 0.8804 - val_loss: 2.0664 - val_acc: 0.3512\n",
      "Epoch 15/50\n",
      "21/21 [==============================] - 0s 12ms/step - loss: 0.3082 - acc: 0.9073 - val_loss: 2.2442 - val_acc: 0.3452\n",
      "Epoch 16/50\n",
      "21/21 [==============================] - 0s 13ms/step - loss: 0.2976 - acc: 0.9133 - val_loss: 2.3009 - val_acc: 0.3571\n",
      "Epoch 17/50\n",
      "21/21 [==============================] - 0s 13ms/step - loss: 0.2682 - acc: 0.9178 - val_loss: 2.4026 - val_acc: 0.3512\n",
      "Epoch 18/50\n",
      "21/21 [==============================] - 0s 13ms/step - loss: 0.2533 - acc: 0.9118 - val_loss: 2.5167 - val_acc: 0.3393\n",
      "Epoch 19/50\n",
      "21/21 [==============================] - 0s 12ms/step - loss: 0.2213 - acc: 0.9297 - val_loss: 2.5888 - val_acc: 0.3452\n",
      "Epoch 20/50\n",
      "21/21 [==============================] - 0s 12ms/step - loss: 0.2368 - acc: 0.9312 - val_loss: 2.6646 - val_acc: 0.3571\n",
      "Epoch 21/50\n",
      "21/21 [==============================] - 0s 13ms/step - loss: 0.2339 - acc: 0.9148 - val_loss: 2.8511 - val_acc: 0.3333\n",
      "Epoch 22/50\n",
      "21/21 [==============================] - 0s 12ms/step - loss: 0.1993 - acc: 0.9432 - val_loss: 2.9436 - val_acc: 0.3393\n",
      "Epoch 23/50\n",
      "21/21 [==============================] - 0s 12ms/step - loss: 0.1969 - acc: 0.9327 - val_loss: 2.8925 - val_acc: 0.3512\n",
      "Epoch 24/50\n",
      "21/21 [==============================] - 0s 13ms/step - loss: 0.2169 - acc: 0.9312 - val_loss: 3.1804 - val_acc: 0.3155\n",
      "Epoch 25/50\n",
      "21/21 [==============================] - 0s 15ms/step - loss: 0.1825 - acc: 0.9492 - val_loss: 3.1798 - val_acc: 0.3274\n",
      "Epoch 26/50\n",
      "21/21 [==============================] - 0s 20ms/step - loss: 0.1820 - acc: 0.9492 - val_loss: 3.1353 - val_acc: 0.3512\n",
      "Epoch 27/50\n",
      "21/21 [==============================] - 0s 20ms/step - loss: 0.1831 - acc: 0.9283 - val_loss: 3.2766 - val_acc: 0.3333\n",
      "Epoch 28/50\n",
      "21/21 [==============================] - 0s 21ms/step - loss: 0.1704 - acc: 0.9417 - val_loss: 3.4055 - val_acc: 0.3333\n",
      "Epoch 29/50\n",
      "21/21 [==============================] - 0s 21ms/step - loss: 0.1788 - acc: 0.9372 - val_loss: 3.5218 - val_acc: 0.3393\n",
      "Epoch 30/50\n",
      "21/21 [==============================] - 0s 19ms/step - loss: 0.1553 - acc: 0.9402 - val_loss: 3.6006 - val_acc: 0.3274\n",
      "Epoch 31/50\n",
      "21/21 [==============================] - 0s 18ms/step - loss: 0.1448 - acc: 0.9552 - val_loss: 3.6509 - val_acc: 0.3333\n",
      "Epoch 32/50\n",
      "21/21 [==============================] - 0s 19ms/step - loss: 0.1530 - acc: 0.9447 - val_loss: 3.6809 - val_acc: 0.3571\n",
      "Epoch 33/50\n",
      "21/21 [==============================] - 0s 19ms/step - loss: 0.1371 - acc: 0.9581 - val_loss: 3.6939 - val_acc: 0.3452\n",
      "Epoch 34/50\n",
      "21/21 [==============================] - 0s 19ms/step - loss: 0.1623 - acc: 0.9447 - val_loss: 3.7681 - val_acc: 0.3333\n",
      "Epoch 35/50\n",
      "21/21 [==============================] - 0s 20ms/step - loss: 0.1272 - acc: 0.9596 - val_loss: 3.8642 - val_acc: 0.3333\n",
      "Epoch 36/50\n",
      "21/21 [==============================] - 0s 20ms/step - loss: 0.1341 - acc: 0.9552 - val_loss: 3.9814 - val_acc: 0.3333\n",
      "Epoch 37/50\n",
      "21/21 [==============================] - 0s 18ms/step - loss: 0.1651 - acc: 0.9432 - val_loss: 4.0421 - val_acc: 0.3333\n",
      "Epoch 38/50\n",
      "21/21 [==============================] - 0s 19ms/step - loss: 0.1609 - acc: 0.9447 - val_loss: 3.9257 - val_acc: 0.3571\n",
      "Epoch 39/50\n",
      "21/21 [==============================] - 0s 14ms/step - loss: 0.1545 - acc: 0.9417 - val_loss: 4.2012 - val_acc: 0.3333\n",
      "Epoch 40/50\n",
      "21/21 [==============================] - 0s 14ms/step - loss: 0.1323 - acc: 0.9537 - val_loss: 4.2078 - val_acc: 0.3333\n",
      "Epoch 41/50\n",
      "21/21 [==============================] - 0s 13ms/step - loss: 0.1435 - acc: 0.9552 - val_loss: 4.1254 - val_acc: 0.3274\n",
      "Epoch 42/50\n",
      "21/21 [==============================] - 0s 14ms/step - loss: 0.1306 - acc: 0.9552 - val_loss: 4.3337 - val_acc: 0.3155\n",
      "Epoch 43/50\n",
      "21/21 [==============================] - 0s 12ms/step - loss: 0.1313 - acc: 0.9537 - val_loss: 4.3105 - val_acc: 0.3274\n",
      "Epoch 44/50\n",
      "21/21 [==============================] - 0s 14ms/step - loss: 0.1825 - acc: 0.9387 - val_loss: 4.2763 - val_acc: 0.3333\n",
      "Epoch 45/50\n",
      "21/21 [==============================] - 0s 13ms/step - loss: 0.1490 - acc: 0.9417 - val_loss: 4.4857 - val_acc: 0.3155\n",
      "Epoch 46/50\n",
      "21/21 [==============================] - 0s 14ms/step - loss: 0.1511 - acc: 0.9522 - val_loss: 4.4125 - val_acc: 0.3274\n",
      "Epoch 47/50\n",
      "21/21 [==============================] - 0s 14ms/step - loss: 0.1511 - acc: 0.9402 - val_loss: 4.5123 - val_acc: 0.3155\n",
      "Epoch 48/50\n",
      "21/21 [==============================] - 0s 14ms/step - loss: 0.1298 - acc: 0.9537 - val_loss: 4.5689 - val_acc: 0.3214\n",
      "Epoch 49/50\n",
      "21/21 [==============================] - 0s 13ms/step - loss: 0.1408 - acc: 0.9462 - val_loss: 4.4275 - val_acc: 0.3393\n",
      "Epoch 50/50\n",
      "21/21 [==============================] - 0s 12ms/step - loss: 0.1219 - acc: 0.9537 - val_loss: 4.6945 - val_acc: 0.3274\n",
      "5/5 [==============================] - 0s 5ms/step - loss: 5.1923 - acc: 0.2333\n"
     ]
    },
    {
     "data": {
      "text/html": [
       "Waiting for W&B process to finish... <strong style=\"color:green\">(success).</strong>"
      ],
      "text/plain": [
       "<IPython.core.display.HTML object>"
      ]
     },
     "metadata": {},
     "output_type": "display_data"
    },
    {
     "data": {
      "text/html": [
       "<style>\n",
       "    table.wandb td:nth-child(1) { padding: 0 10px; text-align: left ; width: auto;} td:nth-child(2) {text-align: left ; width: 100%}\n",
       "    .wandb-row { display: flex; flex-direction: row; flex-wrap: wrap; justify-content: flex-start; width: 100% }\n",
       "    .wandb-col { display: flex; flex-direction: column; flex-basis: 100%; flex: 1; padding: 10px; }\n",
       "    </style>\n",
       "<div class=\"wandb-row\"><div class=\"wandb-col\"><h3>Run history:</h3><br/><table class=\"wandb\"><tr><td>test_acc</td><td>▁</td></tr><tr><td>test_loss</td><td>▁</td></tr><tr><td>train_acc</td><td>▁▂▃▄▆▆▆▇▇▇▇▇████████████████████████████</td></tr><tr><td>train_loss</td><td>██▇▆▄▄▄▃▃▃▂▂▂▂▂▂▂▁▁▂▁▁▁▁▁▁▁▁▁▁▁▁▁▁▁▁▁▁▁▁</td></tr><tr><td>val_acc</td><td>▁▇█▇▇▇▇▅▄▃▄▄▄▄▃▄▃▃▄▁▄▃▃▃▃▄▄▃▃▃▄▃▂▁▂▃▂▁▂▂</td></tr><tr><td>val_loss</td><td>▁▁▁▁▁▁▂▂▂▂▂▃▃▃▄▄▄▄▄▅▅▅▅▆▆▆▆▆▇▇▆▇▇▇▇▇▇███</td></tr></table><br/></div><div class=\"wandb-col\"><h3>Run summary:</h3><br/><table class=\"wandb\"><tr><td>test_acc</td><td>0.23333</td></tr><tr><td>test_loss</td><td>5.19229</td></tr><tr><td>train_acc</td><td>0.95366</td></tr><tr><td>train_loss</td><td>0.12193</td></tr><tr><td>val_acc</td><td>0.32738</td></tr><tr><td>val_loss</td><td>4.69452</td></tr></table><br/></div></div>"
      ],
      "text/plain": [
       "<IPython.core.display.HTML object>"
      ]
     },
     "metadata": {},
     "output_type": "display_data"
    },
    {
     "data": {
      "text/html": [
       " View run <strong style=\"color:#cdcd00\">restful-sweep-5</strong> at: <a href='https://wandb.ai/msds_mlops2023_lt2/mlo-final-project/runs/cagkljx2' target=\"_blank\">https://wandb.ai/msds_mlops2023_lt2/mlo-final-project/runs/cagkljx2</a><br/>Synced 5 W&B file(s), 0 media file(s), 0 artifact file(s) and 0 other file(s)"
      ],
      "text/plain": [
       "<IPython.core.display.HTML object>"
      ]
     },
     "metadata": {},
     "output_type": "display_data"
    },
    {
     "data": {
      "text/html": [
       "Find logs at: <code>.\\wandb\\run-20230910_140203-cagkljx2\\logs</code>"
      ],
      "text/plain": [
       "<IPython.core.display.HTML object>"
      ]
     },
     "metadata": {},
     "output_type": "display_data"
    },
    {
     "name": "stderr",
     "output_type": "stream",
     "text": [
      "\u001b[34m\u001b[1mwandb\u001b[0m: Agent Starting Run: zww52kd2 with config:\n",
      "\u001b[34m\u001b[1mwandb\u001b[0m: \tarchitecture: CNN\n",
      "\u001b[34m\u001b[1mwandb\u001b[0m: \tdataset: Poems\n",
      "\u001b[34m\u001b[1mwandb\u001b[0m: \tembedding_dim: 256\n",
      "\u001b[34m\u001b[1mwandb\u001b[0m: \tepochs: 50\n",
      "\u001b[34m\u001b[1mwandb\u001b[0m: \tlearning_rate: 0.03520467288717173\n",
      "\u001b[34m\u001b[1mwandb\u001b[0m: \toptimizer: sgd\n",
      "Failed to detect the name of this notebook, you can set it manually with the WANDB_NOTEBOOK_NAME environment variable to enable code saving.\n"
     ]
    },
    {
     "data": {
      "text/html": [
       "Tracking run with wandb version 0.15.10"
      ],
      "text/plain": [
       "<IPython.core.display.HTML object>"
      ]
     },
     "metadata": {},
     "output_type": "display_data"
    },
    {
     "data": {
      "text/html": [
       "Run data is saved locally in <code>c:\\Users\\Jesli's Laptop\\Desktop\\Acads\\MLO\\mlo-final-project\\code\\wandb\\run-20230910_140246-zww52kd2</code>"
      ],
      "text/plain": [
       "<IPython.core.display.HTML object>"
      ]
     },
     "metadata": {},
     "output_type": "display_data"
    },
    {
     "data": {
      "text/html": [
       "Syncing run <strong><a href='https://wandb.ai/msds_mlops2023_lt2/mlo-final-project/runs/zww52kd2' target=\"_blank\">graceful-sweep-6</a></strong> to <a href='https://wandb.ai/msds_mlops2023_lt2/mlo-final-project' target=\"_blank\">Weights & Biases</a> (<a href='https://wandb.me/run' target=\"_blank\">docs</a>)<br/>Sweep page: <a href='https://wandb.ai/msds_mlops2023_lt2/mlo-final-project/sweeps/39xyia0g' target=\"_blank\">https://wandb.ai/msds_mlops2023_lt2/mlo-final-project/sweeps/39xyia0g</a>"
      ],
      "text/plain": [
       "<IPython.core.display.HTML object>"
      ]
     },
     "metadata": {},
     "output_type": "display_data"
    },
    {
     "data": {
      "text/html": [
       " View project at <a href='https://wandb.ai/msds_mlops2023_lt2/mlo-final-project' target=\"_blank\">https://wandb.ai/msds_mlops2023_lt2/mlo-final-project</a>"
      ],
      "text/plain": [
       "<IPython.core.display.HTML object>"
      ]
     },
     "metadata": {},
     "output_type": "display_data"
    },
    {
     "data": {
      "text/html": [
       " View sweep at <a href='https://wandb.ai/msds_mlops2023_lt2/mlo-final-project/sweeps/39xyia0g' target=\"_blank\">https://wandb.ai/msds_mlops2023_lt2/mlo-final-project/sweeps/39xyia0g</a>"
      ],
      "text/plain": [
       "<IPython.core.display.HTML object>"
      ]
     },
     "metadata": {},
     "output_type": "display_data"
    },
    {
     "data": {
      "text/html": [
       " View run at <a href='https://wandb.ai/msds_mlops2023_lt2/mlo-final-project/runs/zww52kd2' target=\"_blank\">https://wandb.ai/msds_mlops2023_lt2/mlo-final-project/runs/zww52kd2</a>"
      ],
      "text/plain": [
       "<IPython.core.display.HTML object>"
      ]
     },
     "metadata": {},
     "output_type": "display_data"
    },
    {
     "name": "stderr",
     "output_type": "stream",
     "text": [
      "c:\\Users\\Jesli's Laptop\\Desktop\\Acads\\MLO\\mlo-final-project\\code\\model.py:36: FutureWarning: The default value of regex will change from True to False in a future version.\n",
      "  self.df_train['Poem'] = self.df_train['Poem'].str.replace('shade.When', 'shade. When')\n",
      "c:\\Users\\Jesli's Laptop\\Desktop\\Acads\\MLO\\mlo-final-project\\code\\model.py:37: FutureWarning: The default value of regex will change from True to False in a future version.\n",
      "  self.df_train['Poem'] = self.df_train['Poem'].str.replace('afraid.Now', 'afraid. Now')\n",
      "c:\\Users\\Jesli's Laptop\\Desktop\\Acads\\MLO\\mlo-final-project\\code\\model.py:39: FutureWarning: The default value of regex will change from True to False in a future version.\n",
      "  self.df_train['Poem'] = self.df_train['Poem'].str.replace('afraid.Now,', 'afraid. Now,')\n",
      "c:\\Users\\Jesli's Laptop\\Desktop\\Acads\\MLO\\mlo-final-project\\code\\model.py:40: FutureWarning: The default value of regex will change from True to False in a future version.\n",
      "  self.df_train['Poem'] = self.df_train['Poem'].str.replace('Big Game.Bigger', 'Big Game. Bigger')\n",
      "[nltk_data] Downloading package stopwords to C:\\Users\\Jesli's\n",
      "[nltk_data]     Laptop\\AppData\\Roaming\\nltk_data...\n",
      "[nltk_data]   Package stopwords is already up-to-date!\n"
     ]
    },
    {
     "name": "stdout",
     "output_type": "stream",
     "text": [
      "Epoch 1/50\n",
      "21/21 [==============================] - 2s 28ms/step - loss: 1.3809 - acc: 0.2780 - val_loss: 1.3760 - val_acc: 0.2917\n",
      "Epoch 2/50\n",
      "21/21 [==============================] - 0s 17ms/step - loss: 1.3758 - acc: 0.2780 - val_loss: 1.3712 - val_acc: 0.2857\n",
      "Epoch 3/50\n",
      "21/21 [==============================] - 0s 14ms/step - loss: 1.3735 - acc: 0.2780 - val_loss: 1.3679 - val_acc: 0.3036\n",
      "Epoch 4/50\n",
      "21/21 [==============================] - 0s 16ms/step - loss: 1.3702 - acc: 0.2975 - val_loss: 1.3656 - val_acc: 0.3452\n",
      "Epoch 5/50\n",
      "21/21 [==============================] - 0s 18ms/step - loss: 1.3694 - acc: 0.3034 - val_loss: 1.3638 - val_acc: 0.3393\n",
      "Epoch 6/50\n",
      "21/21 [==============================] - 0s 18ms/step - loss: 1.3665 - acc: 0.2780 - val_loss: 1.3624 - val_acc: 0.2917\n",
      "Epoch 7/50\n",
      "21/21 [==============================] - 0s 14ms/step - loss: 1.3684 - acc: 0.3079 - val_loss: 1.3616 - val_acc: 0.2917\n",
      "Epoch 8/50\n",
      "21/21 [==============================] - 0s 18ms/step - loss: 1.3669 - acc: 0.2885 - val_loss: 1.3609 - val_acc: 0.2976\n",
      "Epoch 9/50\n",
      "21/21 [==============================] - 0s 15ms/step - loss: 1.3669 - acc: 0.3049 - val_loss: 1.3604 - val_acc: 0.3333\n",
      "Epoch 10/50\n",
      "21/21 [==============================] - 0s 15ms/step - loss: 1.3662 - acc: 0.2885 - val_loss: 1.3599 - val_acc: 0.3214\n",
      "Epoch 11/50\n",
      "21/21 [==============================] - 0s 16ms/step - loss: 1.3671 - acc: 0.2795 - val_loss: 1.3594 - val_acc: 0.2976\n",
      "Epoch 12/50\n",
      "21/21 [==============================] - 0s 16ms/step - loss: 1.3644 - acc: 0.2870 - val_loss: 1.3591 - val_acc: 0.3333\n",
      "Epoch 13/50\n",
      "21/21 [==============================] - 0s 14ms/step - loss: 1.3662 - acc: 0.3004 - val_loss: 1.3587 - val_acc: 0.3155\n",
      "Epoch 14/50\n",
      "21/21 [==============================] - 0s 17ms/step - loss: 1.3655 - acc: 0.3034 - val_loss: 1.3584 - val_acc: 0.3274\n",
      "Epoch 15/50\n",
      "21/21 [==============================] - 0s 16ms/step - loss: 1.3655 - acc: 0.2900 - val_loss: 1.3580 - val_acc: 0.2976\n",
      "Epoch 16/50\n",
      "21/21 [==============================] - 0s 16ms/step - loss: 1.3644 - acc: 0.3139 - val_loss: 1.3579 - val_acc: 0.2976\n",
      "Epoch 17/50\n",
      "21/21 [==============================] - 0s 14ms/step - loss: 1.3651 - acc: 0.3109 - val_loss: 1.3576 - val_acc: 0.3274\n",
      "Epoch 18/50\n",
      "21/21 [==============================] - 0s 14ms/step - loss: 1.3653 - acc: 0.3094 - val_loss: 1.3573 - val_acc: 0.3095\n",
      "Epoch 19/50\n",
      "21/21 [==============================] - 0s 14ms/step - loss: 1.3647 - acc: 0.3094 - val_loss: 1.3572 - val_acc: 0.3274\n",
      "Epoch 20/50\n",
      "21/21 [==============================] - 0s 17ms/step - loss: 1.3645 - acc: 0.3154 - val_loss: 1.3571 - val_acc: 0.3214\n",
      "Epoch 21/50\n",
      "21/21 [==============================] - 0s 16ms/step - loss: 1.3635 - acc: 0.2915 - val_loss: 1.3569 - val_acc: 0.3155\n",
      "Epoch 22/50\n",
      "21/21 [==============================] - 0s 14ms/step - loss: 1.3644 - acc: 0.2885 - val_loss: 1.3569 - val_acc: 0.3155\n",
      "Epoch 23/50\n",
      "21/21 [==============================] - 0s 16ms/step - loss: 1.3646 - acc: 0.3019 - val_loss: 1.3568 - val_acc: 0.3214\n",
      "Epoch 24/50\n",
      "21/21 [==============================] - 0s 15ms/step - loss: 1.3637 - acc: 0.3214 - val_loss: 1.3567 - val_acc: 0.3214\n",
      "Epoch 25/50\n",
      "21/21 [==============================] - 0s 16ms/step - loss: 1.3633 - acc: 0.3034 - val_loss: 1.3565 - val_acc: 0.3155\n",
      "Epoch 26/50\n",
      "21/21 [==============================] - 0s 17ms/step - loss: 1.3643 - acc: 0.2915 - val_loss: 1.3565 - val_acc: 0.2976\n",
      "Epoch 27/50\n",
      "21/21 [==============================] - 0s 16ms/step - loss: 1.3626 - acc: 0.3124 - val_loss: 1.3563 - val_acc: 0.2857\n",
      "Epoch 28/50\n",
      "21/21 [==============================] - 0s 15ms/step - loss: 1.3639 - acc: 0.2960 - val_loss: 1.3562 - val_acc: 0.2857\n",
      "Epoch 29/50\n",
      "21/21 [==============================] - 0s 17ms/step - loss: 1.3625 - acc: 0.3154 - val_loss: 1.3562 - val_acc: 0.2798\n",
      "Epoch 30/50\n",
      "21/21 [==============================] - 0s 17ms/step - loss: 1.3637 - acc: 0.2930 - val_loss: 1.3561 - val_acc: 0.2857\n",
      "Epoch 31/50\n",
      "21/21 [==============================] - 0s 14ms/step - loss: 1.3638 - acc: 0.2975 - val_loss: 1.3560 - val_acc: 0.2857\n",
      "Epoch 32/50\n",
      "21/21 [==============================] - 0s 16ms/step - loss: 1.3618 - acc: 0.3154 - val_loss: 1.3560 - val_acc: 0.2798\n",
      "Epoch 33/50\n",
      "21/21 [==============================] - 0s 14ms/step - loss: 1.3619 - acc: 0.3199 - val_loss: 1.3558 - val_acc: 0.2738\n",
      "Epoch 34/50\n",
      "21/21 [==============================] - 0s 16ms/step - loss: 1.3618 - acc: 0.3184 - val_loss: 1.3557 - val_acc: 0.2798\n",
      "Epoch 35/50\n",
      "21/21 [==============================] - 0s 16ms/step - loss: 1.3620 - acc: 0.3214 - val_loss: 1.3557 - val_acc: 0.2738\n",
      "Epoch 36/50\n",
      "21/21 [==============================] - 0s 15ms/step - loss: 1.3623 - acc: 0.3229 - val_loss: 1.3555 - val_acc: 0.2798\n",
      "Epoch 37/50\n",
      "21/21 [==============================] - 0s 15ms/step - loss: 1.3624 - acc: 0.3004 - val_loss: 1.3556 - val_acc: 0.2738\n",
      "Epoch 38/50\n",
      "21/21 [==============================] - 0s 16ms/step - loss: 1.3634 - acc: 0.3184 - val_loss: 1.3556 - val_acc: 0.2679\n",
      "Epoch 39/50\n",
      "21/21 [==============================] - 0s 14ms/step - loss: 1.3615 - acc: 0.3139 - val_loss: 1.3554 - val_acc: 0.2738\n",
      "Epoch 40/50\n",
      "21/21 [==============================] - 0s 14ms/step - loss: 1.3629 - acc: 0.2915 - val_loss: 1.3555 - val_acc: 0.2679\n",
      "Epoch 41/50\n",
      "21/21 [==============================] - 0s 15ms/step - loss: 1.3611 - acc: 0.3049 - val_loss: 1.3555 - val_acc: 0.2679\n",
      "Epoch 42/50\n",
      "21/21 [==============================] - 0s 14ms/step - loss: 1.3625 - acc: 0.2975 - val_loss: 1.3554 - val_acc: 0.2679\n",
      "Epoch 43/50\n",
      "21/21 [==============================] - 0s 15ms/step - loss: 1.3625 - acc: 0.2975 - val_loss: 1.3553 - val_acc: 0.2679\n",
      "Epoch 44/50\n",
      "21/21 [==============================] - 0s 14ms/step - loss: 1.3610 - acc: 0.3274 - val_loss: 1.3553 - val_acc: 0.2679\n",
      "Epoch 45/50\n",
      "21/21 [==============================] - 0s 14ms/step - loss: 1.3627 - acc: 0.2945 - val_loss: 1.3552 - val_acc: 0.2560\n",
      "Epoch 46/50\n",
      "21/21 [==============================] - 0s 14ms/step - loss: 1.3611 - acc: 0.3184 - val_loss: 1.3549 - val_acc: 0.2679\n",
      "Epoch 47/50\n",
      "21/21 [==============================] - 0s 17ms/step - loss: 1.3613 - acc: 0.3169 - val_loss: 1.3548 - val_acc: 0.2679\n",
      "Epoch 48/50\n",
      "21/21 [==============================] - 0s 16ms/step - loss: 1.3610 - acc: 0.3199 - val_loss: 1.3547 - val_acc: 0.2679\n",
      "Epoch 49/50\n",
      "21/21 [==============================] - 0s 16ms/step - loss: 1.3610 - acc: 0.3214 - val_loss: 1.3547 - val_acc: 0.2679\n",
      "Epoch 50/50\n",
      "21/21 [==============================] - 0s 15ms/step - loss: 1.3602 - acc: 0.3094 - val_loss: 1.3546 - val_acc: 0.2798\n",
      "5/5 [==============================] - 0s 5ms/step - loss: 1.6040 - acc: 0.1000\n"
     ]
    },
    {
     "data": {
      "text/html": [
       "Waiting for W&B process to finish... <strong style=\"color:green\">(success).</strong>"
      ],
      "text/plain": [
       "<IPython.core.display.HTML object>"
      ]
     },
     "metadata": {},
     "output_type": "display_data"
    },
    {
     "data": {
      "text/html": [
       "<style>\n",
       "    table.wandb td:nth-child(1) { padding: 0 10px; text-align: left ; width: auto;} td:nth-child(2) {text-align: left ; width: 100%}\n",
       "    .wandb-row { display: flex; flex-direction: row; flex-wrap: wrap; justify-content: flex-start; width: 100% }\n",
       "    .wandb-col { display: flex; flex-direction: column; flex-basis: 100%; flex: 1; padding: 10px; }\n",
       "    </style>\n",
       "<div class=\"wandb-row\"><div class=\"wandb-col\"><h3>Run history:</h3><br/><table class=\"wandb\"><tr><td>test_acc</td><td>▁</td></tr><tr><td>test_loss</td><td>▁</td></tr><tr><td>train_acc</td><td>▁▁▁▄▁▅▂▅▁▂▄▅▆▆▅▅▃▂▄▇▃▆▄▆▄▆▇▇▇▄▇▆▅▄▄█▇▇▇▅</td></tr><tr><td>train_loss</td><td>█▆▆▄▃▄▃▃▃▂▃▃▂▃▃▃▂▂▃▂▂▂▂▂▂▂▂▂▂▂▂▁▁▂▂▁▁▁▁▁</td></tr><tr><td>val_acc</td><td>▃▃▄█▃▃▄▇▄▇▅▆▄▆▅▆▅▅▆▆▄▃▃▂▃▂▂▂▂▂▁▂▁▁▁▁▁▁▁▂</td></tr><tr><td>val_loss</td><td>█▆▅▅▄▃▃▃▃▂▂▂▂▂▂▂▂▂▂▂▂▂▂▂▁▁▁▁▁▁▁▁▁▁▁▁▁▁▁▁</td></tr></table><br/></div><div class=\"wandb-col\"><h3>Run summary:</h3><br/><table class=\"wandb\"><tr><td>test_acc</td><td>0.1</td></tr><tr><td>test_loss</td><td>1.60402</td></tr><tr><td>train_acc</td><td>0.30942</td></tr><tr><td>train_loss</td><td>1.36018</td></tr><tr><td>val_acc</td><td>0.27976</td></tr><tr><td>val_loss</td><td>1.35459</td></tr></table><br/></div></div>"
      ],
      "text/plain": [
       "<IPython.core.display.HTML object>"
      ]
     },
     "metadata": {},
     "output_type": "display_data"
    },
    {
     "data": {
      "text/html": [
       " View run <strong style=\"color:#cdcd00\">graceful-sweep-6</strong> at: <a href='https://wandb.ai/msds_mlops2023_lt2/mlo-final-project/runs/zww52kd2' target=\"_blank\">https://wandb.ai/msds_mlops2023_lt2/mlo-final-project/runs/zww52kd2</a><br/>Synced 5 W&B file(s), 0 media file(s), 0 artifact file(s) and 0 other file(s)"
      ],
      "text/plain": [
       "<IPython.core.display.HTML object>"
      ]
     },
     "metadata": {},
     "output_type": "display_data"
    },
    {
     "data": {
      "text/html": [
       "Find logs at: <code>.\\wandb\\run-20230910_140246-zww52kd2\\logs</code>"
      ],
      "text/plain": [
       "<IPython.core.display.HTML object>"
      ]
     },
     "metadata": {},
     "output_type": "display_data"
    },
    {
     "name": "stderr",
     "output_type": "stream",
     "text": [
      "\u001b[34m\u001b[1mwandb\u001b[0m: Agent Starting Run: 9026myud with config:\n",
      "\u001b[34m\u001b[1mwandb\u001b[0m: \tarchitecture: CNN\n",
      "\u001b[34m\u001b[1mwandb\u001b[0m: \tdataset: Poems\n",
      "\u001b[34m\u001b[1mwandb\u001b[0m: \tembedding_dim: 512\n",
      "\u001b[34m\u001b[1mwandb\u001b[0m: \tepochs: 50\n",
      "\u001b[34m\u001b[1mwandb\u001b[0m: \tlearning_rate: 0.04414319972381693\n",
      "\u001b[34m\u001b[1mwandb\u001b[0m: \toptimizer: sgd\n",
      "Failed to detect the name of this notebook, you can set it manually with the WANDB_NOTEBOOK_NAME environment variable to enable code saving.\n"
     ]
    },
    {
     "data": {
      "text/html": [
       "Tracking run with wandb version 0.15.10"
      ],
      "text/plain": [
       "<IPython.core.display.HTML object>"
      ]
     },
     "metadata": {},
     "output_type": "display_data"
    },
    {
     "data": {
      "text/html": [
       "Run data is saved locally in <code>c:\\Users\\Jesli's Laptop\\Desktop\\Acads\\MLO\\mlo-final-project\\code\\wandb\\run-20230910_140329-9026myud</code>"
      ],
      "text/plain": [
       "<IPython.core.display.HTML object>"
      ]
     },
     "metadata": {},
     "output_type": "display_data"
    },
    {
     "data": {
      "text/html": [
       "Syncing run <strong><a href='https://wandb.ai/msds_mlops2023_lt2/mlo-final-project/runs/9026myud' target=\"_blank\">smooth-sweep-7</a></strong> to <a href='https://wandb.ai/msds_mlops2023_lt2/mlo-final-project' target=\"_blank\">Weights & Biases</a> (<a href='https://wandb.me/run' target=\"_blank\">docs</a>)<br/>Sweep page: <a href='https://wandb.ai/msds_mlops2023_lt2/mlo-final-project/sweeps/39xyia0g' target=\"_blank\">https://wandb.ai/msds_mlops2023_lt2/mlo-final-project/sweeps/39xyia0g</a>"
      ],
      "text/plain": [
       "<IPython.core.display.HTML object>"
      ]
     },
     "metadata": {},
     "output_type": "display_data"
    },
    {
     "data": {
      "text/html": [
       " View project at <a href='https://wandb.ai/msds_mlops2023_lt2/mlo-final-project' target=\"_blank\">https://wandb.ai/msds_mlops2023_lt2/mlo-final-project</a>"
      ],
      "text/plain": [
       "<IPython.core.display.HTML object>"
      ]
     },
     "metadata": {},
     "output_type": "display_data"
    },
    {
     "data": {
      "text/html": [
       " View sweep at <a href='https://wandb.ai/msds_mlops2023_lt2/mlo-final-project/sweeps/39xyia0g' target=\"_blank\">https://wandb.ai/msds_mlops2023_lt2/mlo-final-project/sweeps/39xyia0g</a>"
      ],
      "text/plain": [
       "<IPython.core.display.HTML object>"
      ]
     },
     "metadata": {},
     "output_type": "display_data"
    },
    {
     "data": {
      "text/html": [
       " View run at <a href='https://wandb.ai/msds_mlops2023_lt2/mlo-final-project/runs/9026myud' target=\"_blank\">https://wandb.ai/msds_mlops2023_lt2/mlo-final-project/runs/9026myud</a>"
      ],
      "text/plain": [
       "<IPython.core.display.HTML object>"
      ]
     },
     "metadata": {},
     "output_type": "display_data"
    },
    {
     "name": "stderr",
     "output_type": "stream",
     "text": [
      "c:\\Users\\Jesli's Laptop\\Desktop\\Acads\\MLO\\mlo-final-project\\code\\model.py:36: FutureWarning: The default value of regex will change from True to False in a future version.\n",
      "  self.df_train['Poem'] = self.df_train['Poem'].str.replace('shade.When', 'shade. When')\n",
      "c:\\Users\\Jesli's Laptop\\Desktop\\Acads\\MLO\\mlo-final-project\\code\\model.py:37: FutureWarning: The default value of regex will change from True to False in a future version.\n",
      "  self.df_train['Poem'] = self.df_train['Poem'].str.replace('afraid.Now', 'afraid. Now')\n",
      "c:\\Users\\Jesli's Laptop\\Desktop\\Acads\\MLO\\mlo-final-project\\code\\model.py:39: FutureWarning: The default value of regex will change from True to False in a future version.\n",
      "  self.df_train['Poem'] = self.df_train['Poem'].str.replace('afraid.Now,', 'afraid. Now,')\n",
      "c:\\Users\\Jesli's Laptop\\Desktop\\Acads\\MLO\\mlo-final-project\\code\\model.py:40: FutureWarning: The default value of regex will change from True to False in a future version.\n",
      "  self.df_train['Poem'] = self.df_train['Poem'].str.replace('Big Game.Bigger', 'Big Game. Bigger')\n",
      "[nltk_data] Downloading package stopwords to C:\\Users\\Jesli's\n",
      "[nltk_data]     Laptop\\AppData\\Roaming\\nltk_data...\n",
      "[nltk_data]   Package stopwords is already up-to-date!\n"
     ]
    },
    {
     "name": "stdout",
     "output_type": "stream",
     "text": [
      "Epoch 1/50\n",
      "21/21 [==============================] - 2s 46ms/step - loss: 1.3821 - acc: 0.2825 - val_loss: 1.3753 - val_acc: 0.3036\n",
      "Epoch 2/50\n",
      "21/21 [==============================] - 1s 28ms/step - loss: 1.3764 - acc: 0.2855 - val_loss: 1.3684 - val_acc: 0.2976\n",
      "Epoch 3/50\n",
      "21/21 [==============================] - 0s 20ms/step - loss: 1.3728 - acc: 0.2885 - val_loss: 1.3640 - val_acc: 0.2976\n",
      "Epoch 4/50\n",
      "21/21 [==============================] - 0s 20ms/step - loss: 1.3714 - acc: 0.2825 - val_loss: 1.3617 - val_acc: 0.3036\n",
      "Epoch 5/50\n",
      "21/21 [==============================] - 0s 22ms/step - loss: 1.3692 - acc: 0.2885 - val_loss: 1.3597 - val_acc: 0.3036\n",
      "Epoch 6/50\n",
      "21/21 [==============================] - 0s 22ms/step - loss: 1.3676 - acc: 0.2825 - val_loss: 1.3583 - val_acc: 0.3036\n",
      "Epoch 7/50\n",
      "21/21 [==============================] - 0s 20ms/step - loss: 1.3676 - acc: 0.2750 - val_loss: 1.3573 - val_acc: 0.3095\n",
      "Epoch 8/50\n",
      "21/21 [==============================] - 0s 22ms/step - loss: 1.3664 - acc: 0.3004 - val_loss: 1.3565 - val_acc: 0.3036\n",
      "Epoch 9/50\n",
      "21/21 [==============================] - 0s 24ms/step - loss: 1.3651 - acc: 0.2975 - val_loss: 1.3562 - val_acc: 0.3155\n",
      "Epoch 10/50\n",
      "21/21 [==============================] - 1s 29ms/step - loss: 1.3657 - acc: 0.2975 - val_loss: 1.3556 - val_acc: 0.3095\n",
      "Epoch 11/50\n",
      "21/21 [==============================] - 0s 23ms/step - loss: 1.3654 - acc: 0.2915 - val_loss: 1.3553 - val_acc: 0.3036\n",
      "Epoch 12/50\n",
      "21/21 [==============================] - 0s 20ms/step - loss: 1.3647 - acc: 0.2795 - val_loss: 1.3547 - val_acc: 0.3333\n",
      "Epoch 13/50\n",
      "21/21 [==============================] - 0s 20ms/step - loss: 1.3648 - acc: 0.3019 - val_loss: 1.3546 - val_acc: 0.3333\n",
      "Epoch 14/50\n",
      "21/21 [==============================] - 0s 22ms/step - loss: 1.3652 - acc: 0.3064 - val_loss: 1.3545 - val_acc: 0.2976\n",
      "Epoch 15/50\n",
      "21/21 [==============================] - 0s 19ms/step - loss: 1.3641 - acc: 0.2960 - val_loss: 1.3544 - val_acc: 0.3274\n",
      "Epoch 16/50\n",
      "21/21 [==============================] - 0s 22ms/step - loss: 1.3649 - acc: 0.2930 - val_loss: 1.3541 - val_acc: 0.3214\n",
      "Epoch 17/50\n",
      "21/21 [==============================] - 0s 22ms/step - loss: 1.3637 - acc: 0.3079 - val_loss: 1.3539 - val_acc: 0.3155\n",
      "Epoch 18/50\n",
      "21/21 [==============================] - 0s 20ms/step - loss: 1.3631 - acc: 0.2945 - val_loss: 1.3538 - val_acc: 0.3512\n",
      "Epoch 19/50\n",
      "21/21 [==============================] - 0s 20ms/step - loss: 1.3629 - acc: 0.2990 - val_loss: 1.3538 - val_acc: 0.3155\n",
      "Epoch 20/50\n",
      "21/21 [==============================] - 0s 19ms/step - loss: 1.3641 - acc: 0.3049 - val_loss: 1.3537 - val_acc: 0.3393\n",
      "Epoch 21/50\n",
      "21/21 [==============================] - 0s 20ms/step - loss: 1.3622 - acc: 0.3169 - val_loss: 1.3535 - val_acc: 0.3214\n",
      "Epoch 22/50\n",
      "21/21 [==============================] - 0s 22ms/step - loss: 1.3639 - acc: 0.3049 - val_loss: 1.3534 - val_acc: 0.3274\n",
      "Epoch 23/50\n",
      "21/21 [==============================] - 0s 21ms/step - loss: 1.3611 - acc: 0.3363 - val_loss: 1.3533 - val_acc: 0.3155\n",
      "Epoch 24/50\n",
      "21/21 [==============================] - 0s 22ms/step - loss: 1.3621 - acc: 0.3288 - val_loss: 1.3533 - val_acc: 0.3214\n",
      "Epoch 25/50\n",
      "21/21 [==============================] - 0s 20ms/step - loss: 1.3633 - acc: 0.2990 - val_loss: 1.3531 - val_acc: 0.3155\n",
      "Epoch 26/50\n",
      "21/21 [==============================] - 0s 19ms/step - loss: 1.3621 - acc: 0.3154 - val_loss: 1.3530 - val_acc: 0.3155\n",
      "Epoch 27/50\n",
      "21/21 [==============================] - 0s 19ms/step - loss: 1.3636 - acc: 0.2990 - val_loss: 1.3531 - val_acc: 0.3274\n",
      "Epoch 28/50\n",
      "21/21 [==============================] - 0s 19ms/step - loss: 1.3618 - acc: 0.3139 - val_loss: 1.3533 - val_acc: 0.3274\n",
      "Epoch 29/50\n",
      "21/21 [==============================] - 0s 19ms/step - loss: 1.3631 - acc: 0.3139 - val_loss: 1.3532 - val_acc: 0.2976\n",
      "Epoch 30/50\n",
      "21/21 [==============================] - 0s 20ms/step - loss: 1.3607 - acc: 0.3079 - val_loss: 1.3532 - val_acc: 0.2917\n",
      "Epoch 31/50\n",
      "21/21 [==============================] - 0s 22ms/step - loss: 1.3613 - acc: 0.2990 - val_loss: 1.3531 - val_acc: 0.2857\n",
      "Epoch 32/50\n",
      "21/21 [==============================] - 0s 20ms/step - loss: 1.3596 - acc: 0.3064 - val_loss: 1.3531 - val_acc: 0.2917\n",
      "Epoch 33/50\n",
      "21/21 [==============================] - 0s 22ms/step - loss: 1.3606 - acc: 0.3229 - val_loss: 1.3529 - val_acc: 0.2917\n",
      "Epoch 34/50\n",
      "21/21 [==============================] - 0s 22ms/step - loss: 1.3596 - acc: 0.3049 - val_loss: 1.3529 - val_acc: 0.3036\n",
      "Epoch 35/50\n",
      "21/21 [==============================] - 0s 21ms/step - loss: 1.3599 - acc: 0.3124 - val_loss: 1.3529 - val_acc: 0.2976\n",
      "Epoch 36/50\n",
      "21/21 [==============================] - 0s 22ms/step - loss: 1.3610 - acc: 0.2975 - val_loss: 1.3531 - val_acc: 0.3155\n",
      "Epoch 37/50\n",
      "21/21 [==============================] - 0s 20ms/step - loss: 1.3610 - acc: 0.3244 - val_loss: 1.3529 - val_acc: 0.3036\n",
      "Epoch 38/50\n",
      "21/21 [==============================] - 0s 20ms/step - loss: 1.3609 - acc: 0.2930 - val_loss: 1.3530 - val_acc: 0.2976\n",
      "Epoch 39/50\n",
      "21/21 [==============================] - 0s 20ms/step - loss: 1.3607 - acc: 0.3094 - val_loss: 1.3531 - val_acc: 0.3155\n",
      "Epoch 40/50\n",
      "21/21 [==============================] - 0s 19ms/step - loss: 1.3598 - acc: 0.3049 - val_loss: 1.3528 - val_acc: 0.3036\n",
      "Epoch 41/50\n",
      "21/21 [==============================] - 0s 20ms/step - loss: 1.3601 - acc: 0.3049 - val_loss: 1.3529 - val_acc: 0.3095\n",
      "Epoch 42/50\n",
      "21/21 [==============================] - 0s 22ms/step - loss: 1.3598 - acc: 0.3244 - val_loss: 1.3528 - val_acc: 0.3036\n",
      "Epoch 43/50\n",
      "21/21 [==============================] - 0s 20ms/step - loss: 1.3610 - acc: 0.3049 - val_loss: 1.3527 - val_acc: 0.2917\n",
      "Epoch 44/50\n",
      "21/21 [==============================] - 0s 19ms/step - loss: 1.3587 - acc: 0.3139 - val_loss: 1.3528 - val_acc: 0.3095\n",
      "Epoch 45/50\n",
      "21/21 [==============================] - 0s 20ms/step - loss: 1.3577 - acc: 0.3019 - val_loss: 1.3527 - val_acc: 0.3214\n",
      "Epoch 46/50\n",
      "21/21 [==============================] - 0s 20ms/step - loss: 1.3600 - acc: 0.2990 - val_loss: 1.3527 - val_acc: 0.2976\n",
      "Epoch 47/50\n",
      "21/21 [==============================] - 0s 22ms/step - loss: 1.3593 - acc: 0.3423 - val_loss: 1.3529 - val_acc: 0.3095\n",
      "Epoch 48/50\n",
      "21/21 [==============================] - 0s 21ms/step - loss: 1.3585 - acc: 0.3109 - val_loss: 1.3528 - val_acc: 0.2976\n",
      "Epoch 49/50\n",
      "21/21 [==============================] - 0s 20ms/step - loss: 1.3589 - acc: 0.3229 - val_loss: 1.3526 - val_acc: 0.2976\n",
      "Epoch 50/50\n",
      "21/21 [==============================] - 0s 21ms/step - loss: 1.3586 - acc: 0.3124 - val_loss: 1.3526 - val_acc: 0.3095\n",
      "5/5 [==============================] - 0s 7ms/step - loss: 1.5937 - acc: 0.1933\n"
     ]
    },
    {
     "data": {
      "text/html": [
       "Waiting for W&B process to finish... <strong style=\"color:green\">(success).</strong>"
      ],
      "text/plain": [
       "<IPython.core.display.HTML object>"
      ]
     },
     "metadata": {},
     "output_type": "display_data"
    },
    {
     "data": {
      "text/html": [
       "<style>\n",
       "    table.wandb td:nth-child(1) { padding: 0 10px; text-align: left ; width: auto;} td:nth-child(2) {text-align: left ; width: 100%}\n",
       "    .wandb-row { display: flex; flex-direction: row; flex-wrap: wrap; justify-content: flex-start; width: 100% }\n",
       "    .wandb-col { display: flex; flex-direction: column; flex-basis: 100%; flex: 1; padding: 10px; }\n",
       "    </style>\n",
       "<div class=\"wandb-row\"><div class=\"wandb-col\"><h3>Run history:</h3><br/><table class=\"wandb\"><tr><td>test_acc</td><td>▁</td></tr><tr><td>test_loss</td><td>▁</td></tr><tr><td>train_acc</td><td>▂▂▂▂▂▁▄▃▃▁▄▄▃▄▃▃▅▄▇▇▅▃▅▅▃▄▆▄▃▆▃▅▄▆▄▅▃█▅▅</td></tr><tr><td>train_loss</td><td>█▆▅▅▄▄▃▃▃▃▃▃▃▃▂▂▂▃▂▂▂▃▂▂▂▁▂▁▂▂▂▂▁▁▂▁▁▁▁▁</td></tr><tr><td>val_acc</td><td>▃▂▂▃▃▄▃▄▃▆▆▂▅▄█▄▅▅▄▅▄▅▅▂▁▂▂▃▄▃▂▄▄▃▂▄▂▄▂▄</td></tr><tr><td>val_loss</td><td>█▆▅▄▃▂▂▂▂▂▂▂▁▁▁▁▁▁▁▁▁▁▁▁▁▁▁▁▁▁▁▁▁▁▁▁▁▁▁▁</td></tr></table><br/></div><div class=\"wandb-col\"><h3>Run summary:</h3><br/><table class=\"wandb\"><tr><td>test_acc</td><td>0.19333</td></tr><tr><td>test_loss</td><td>1.59365</td></tr><tr><td>train_acc</td><td>0.31241</td></tr><tr><td>train_loss</td><td>1.35859</td></tr><tr><td>val_acc</td><td>0.30952</td></tr><tr><td>val_loss</td><td>1.35264</td></tr></table><br/></div></div>"
      ],
      "text/plain": [
       "<IPython.core.display.HTML object>"
      ]
     },
     "metadata": {},
     "output_type": "display_data"
    },
    {
     "data": {
      "text/html": [
       " View run <strong style=\"color:#cdcd00\">smooth-sweep-7</strong> at: <a href='https://wandb.ai/msds_mlops2023_lt2/mlo-final-project/runs/9026myud' target=\"_blank\">https://wandb.ai/msds_mlops2023_lt2/mlo-final-project/runs/9026myud</a><br/>Synced 5 W&B file(s), 0 media file(s), 0 artifact file(s) and 0 other file(s)"
      ],
      "text/plain": [
       "<IPython.core.display.HTML object>"
      ]
     },
     "metadata": {},
     "output_type": "display_data"
    },
    {
     "data": {
      "text/html": [
       "Find logs at: <code>.\\wandb\\run-20230910_140329-9026myud\\logs</code>"
      ],
      "text/plain": [
       "<IPython.core.display.HTML object>"
      ]
     },
     "metadata": {},
     "output_type": "display_data"
    },
    {
     "name": "stderr",
     "output_type": "stream",
     "text": [
      "\u001b[34m\u001b[1mwandb\u001b[0m: Agent Starting Run: nevqedel with config:\n",
      "\u001b[34m\u001b[1mwandb\u001b[0m: \tarchitecture: CNN\n",
      "\u001b[34m\u001b[1mwandb\u001b[0m: \tdataset: Poems\n",
      "\u001b[34m\u001b[1mwandb\u001b[0m: \tembedding_dim: 128\n",
      "\u001b[34m\u001b[1mwandb\u001b[0m: \tepochs: 50\n",
      "\u001b[34m\u001b[1mwandb\u001b[0m: \tlearning_rate: 0.03360284308073839\n",
      "\u001b[34m\u001b[1mwandb\u001b[0m: \toptimizer: sgd\n",
      "Failed to detect the name of this notebook, you can set it manually with the WANDB_NOTEBOOK_NAME environment variable to enable code saving.\n"
     ]
    },
    {
     "data": {
      "text/html": [
       "Tracking run with wandb version 0.15.10"
      ],
      "text/plain": [
       "<IPython.core.display.HTML object>"
      ]
     },
     "metadata": {},
     "output_type": "display_data"
    },
    {
     "data": {
      "text/html": [
       "Run data is saved locally in <code>c:\\Users\\Jesli's Laptop\\Desktop\\Acads\\MLO\\mlo-final-project\\code\\wandb\\run-20230910_140417-nevqedel</code>"
      ],
      "text/plain": [
       "<IPython.core.display.HTML object>"
      ]
     },
     "metadata": {},
     "output_type": "display_data"
    },
    {
     "data": {
      "text/html": [
       "Syncing run <strong><a href='https://wandb.ai/msds_mlops2023_lt2/mlo-final-project/runs/nevqedel' target=\"_blank\">ancient-sweep-8</a></strong> to <a href='https://wandb.ai/msds_mlops2023_lt2/mlo-final-project' target=\"_blank\">Weights & Biases</a> (<a href='https://wandb.me/run' target=\"_blank\">docs</a>)<br/>Sweep page: <a href='https://wandb.ai/msds_mlops2023_lt2/mlo-final-project/sweeps/39xyia0g' target=\"_blank\">https://wandb.ai/msds_mlops2023_lt2/mlo-final-project/sweeps/39xyia0g</a>"
      ],
      "text/plain": [
       "<IPython.core.display.HTML object>"
      ]
     },
     "metadata": {},
     "output_type": "display_data"
    },
    {
     "data": {
      "text/html": [
       " View project at <a href='https://wandb.ai/msds_mlops2023_lt2/mlo-final-project' target=\"_blank\">https://wandb.ai/msds_mlops2023_lt2/mlo-final-project</a>"
      ],
      "text/plain": [
       "<IPython.core.display.HTML object>"
      ]
     },
     "metadata": {},
     "output_type": "display_data"
    },
    {
     "data": {
      "text/html": [
       " View sweep at <a href='https://wandb.ai/msds_mlops2023_lt2/mlo-final-project/sweeps/39xyia0g' target=\"_blank\">https://wandb.ai/msds_mlops2023_lt2/mlo-final-project/sweeps/39xyia0g</a>"
      ],
      "text/plain": [
       "<IPython.core.display.HTML object>"
      ]
     },
     "metadata": {},
     "output_type": "display_data"
    },
    {
     "data": {
      "text/html": [
       " View run at <a href='https://wandb.ai/msds_mlops2023_lt2/mlo-final-project/runs/nevqedel' target=\"_blank\">https://wandb.ai/msds_mlops2023_lt2/mlo-final-project/runs/nevqedel</a>"
      ],
      "text/plain": [
       "<IPython.core.display.HTML object>"
      ]
     },
     "metadata": {},
     "output_type": "display_data"
    },
    {
     "name": "stderr",
     "output_type": "stream",
     "text": [
      "c:\\Users\\Jesli's Laptop\\Desktop\\Acads\\MLO\\mlo-final-project\\code\\model.py:36: FutureWarning: The default value of regex will change from True to False in a future version.\n",
      "  self.df_train['Poem'] = self.df_train['Poem'].str.replace('shade.When', 'shade. When')\n",
      "c:\\Users\\Jesli's Laptop\\Desktop\\Acads\\MLO\\mlo-final-project\\code\\model.py:37: FutureWarning: The default value of regex will change from True to False in a future version.\n",
      "  self.df_train['Poem'] = self.df_train['Poem'].str.replace('afraid.Now', 'afraid. Now')\n",
      "c:\\Users\\Jesli's Laptop\\Desktop\\Acads\\MLO\\mlo-final-project\\code\\model.py:39: FutureWarning: The default value of regex will change from True to False in a future version.\n",
      "  self.df_train['Poem'] = self.df_train['Poem'].str.replace('afraid.Now,', 'afraid. Now,')\n",
      "c:\\Users\\Jesli's Laptop\\Desktop\\Acads\\MLO\\mlo-final-project\\code\\model.py:40: FutureWarning: The default value of regex will change from True to False in a future version.\n",
      "  self.df_train['Poem'] = self.df_train['Poem'].str.replace('Big Game.Bigger', 'Big Game. Bigger')\n",
      "[nltk_data] Downloading package stopwords to C:\\Users\\Jesli's\n",
      "[nltk_data]     Laptop\\AppData\\Roaming\\nltk_data...\n",
      "[nltk_data]   Package stopwords is already up-to-date!\n"
     ]
    },
    {
     "name": "stdout",
     "output_type": "stream",
     "text": [
      "Epoch 1/50\n",
      "21/21 [==============================] - 1s 23ms/step - loss: 1.3808 - acc: 0.2631 - val_loss: 1.3766 - val_acc: 0.2857\n",
      "Epoch 2/50\n",
      "21/21 [==============================] - 0s 11ms/step - loss: 1.3747 - acc: 0.2765 - val_loss: 1.3724 - val_acc: 0.2798\n",
      "Epoch 3/50\n",
      "21/21 [==============================] - 0s 12ms/step - loss: 1.3717 - acc: 0.2765 - val_loss: 1.3698 - val_acc: 0.2798\n",
      "Epoch 4/50\n",
      "21/21 [==============================] - 0s 11ms/step - loss: 1.3696 - acc: 0.2960 - val_loss: 1.3681 - val_acc: 0.2738\n",
      "Epoch 5/50\n",
      "21/21 [==============================] - 0s 11ms/step - loss: 1.3666 - acc: 0.2900 - val_loss: 1.3668 - val_acc: 0.2738\n",
      "Epoch 6/50\n",
      "21/21 [==============================] - 0s 12ms/step - loss: 1.3658 - acc: 0.2915 - val_loss: 1.3661 - val_acc: 0.2738\n",
      "Epoch 7/50\n",
      "21/21 [==============================] - 0s 12ms/step - loss: 1.3654 - acc: 0.2885 - val_loss: 1.3654 - val_acc: 0.2738\n",
      "Epoch 8/50\n",
      "21/21 [==============================] - 0s 12ms/step - loss: 1.3643 - acc: 0.2900 - val_loss: 1.3650 - val_acc: 0.2798\n",
      "Epoch 9/50\n",
      "21/21 [==============================] - 0s 13ms/step - loss: 1.3645 - acc: 0.2960 - val_loss: 1.3645 - val_acc: 0.2738\n",
      "Epoch 10/50\n",
      "21/21 [==============================] - 0s 13ms/step - loss: 1.3647 - acc: 0.2945 - val_loss: 1.3642 - val_acc: 0.2679\n",
      "Epoch 11/50\n",
      "21/21 [==============================] - 0s 11ms/step - loss: 1.3628 - acc: 0.3064 - val_loss: 1.3639 - val_acc: 0.2679\n",
      "Epoch 12/50\n",
      "21/21 [==============================] - 0s 11ms/step - loss: 1.3634 - acc: 0.2975 - val_loss: 1.3637 - val_acc: 0.2679\n",
      "Epoch 13/50\n",
      "21/21 [==============================] - 0s 11ms/step - loss: 1.3633 - acc: 0.2960 - val_loss: 1.3635 - val_acc: 0.2679\n",
      "Epoch 14/50\n",
      "21/21 [==============================] - 0s 11ms/step - loss: 1.3631 - acc: 0.3109 - val_loss: 1.3635 - val_acc: 0.2679\n",
      "Epoch 15/50\n",
      "21/21 [==============================] - 0s 12ms/step - loss: 1.3636 - acc: 0.2900 - val_loss: 1.3632 - val_acc: 0.2857\n",
      "Epoch 16/50\n",
      "21/21 [==============================] - 0s 12ms/step - loss: 1.3636 - acc: 0.3019 - val_loss: 1.3630 - val_acc: 0.2738\n",
      "Epoch 17/50\n",
      "21/21 [==============================] - 0s 11ms/step - loss: 1.3626 - acc: 0.2885 - val_loss: 1.3627 - val_acc: 0.2917\n",
      "Epoch 18/50\n",
      "21/21 [==============================] - 0s 11ms/step - loss: 1.3632 - acc: 0.2915 - val_loss: 1.3627 - val_acc: 0.2917\n",
      "Epoch 19/50\n",
      "21/21 [==============================] - 0s 12ms/step - loss: 1.3632 - acc: 0.2870 - val_loss: 1.3627 - val_acc: 0.2976\n",
      "Epoch 20/50\n",
      "21/21 [==============================] - 0s 11ms/step - loss: 1.3627 - acc: 0.2930 - val_loss: 1.3625 - val_acc: 0.3036\n",
      "Epoch 21/50\n",
      "21/21 [==============================] - 0s 11ms/step - loss: 1.3636 - acc: 0.3019 - val_loss: 1.3624 - val_acc: 0.3036\n",
      "Epoch 22/50\n",
      "21/21 [==============================] - 0s 11ms/step - loss: 1.3633 - acc: 0.2900 - val_loss: 1.3622 - val_acc: 0.2976\n",
      "Epoch 23/50\n",
      "21/21 [==============================] - 0s 12ms/step - loss: 1.3627 - acc: 0.3049 - val_loss: 1.3622 - val_acc: 0.2976\n",
      "Epoch 24/50\n",
      "21/21 [==============================] - 0s 12ms/step - loss: 1.3628 - acc: 0.2855 - val_loss: 1.3621 - val_acc: 0.2976\n",
      "Epoch 25/50\n",
      "21/21 [==============================] - 0s 11ms/step - loss: 1.3615 - acc: 0.2990 - val_loss: 1.3620 - val_acc: 0.2976\n",
      "Epoch 26/50\n",
      "21/21 [==============================] - 0s 12ms/step - loss: 1.3625 - acc: 0.3034 - val_loss: 1.3618 - val_acc: 0.2976\n",
      "Epoch 27/50\n",
      "21/21 [==============================] - 0s 13ms/step - loss: 1.3633 - acc: 0.2960 - val_loss: 1.3616 - val_acc: 0.2976\n",
      "Epoch 28/50\n",
      "21/21 [==============================] - 0s 11ms/step - loss: 1.3628 - acc: 0.2930 - val_loss: 1.3614 - val_acc: 0.2976\n",
      "Epoch 29/50\n",
      "21/21 [==============================] - 0s 12ms/step - loss: 1.3621 - acc: 0.2885 - val_loss: 1.3612 - val_acc: 0.2976\n",
      "Epoch 30/50\n",
      "21/21 [==============================] - 0s 12ms/step - loss: 1.3618 - acc: 0.2960 - val_loss: 1.3612 - val_acc: 0.2976\n",
      "Epoch 31/50\n",
      "21/21 [==============================] - 0s 12ms/step - loss: 1.3604 - acc: 0.3004 - val_loss: 1.3610 - val_acc: 0.3036\n",
      "Epoch 32/50\n",
      "21/21 [==============================] - 0s 13ms/step - loss: 1.3633 - acc: 0.3034 - val_loss: 1.3610 - val_acc: 0.3036\n",
      "Epoch 33/50\n",
      "21/21 [==============================] - 0s 13ms/step - loss: 1.3625 - acc: 0.3034 - val_loss: 1.3609 - val_acc: 0.3036\n",
      "Epoch 34/50\n",
      "21/21 [==============================] - 0s 11ms/step - loss: 1.3611 - acc: 0.3199 - val_loss: 1.3607 - val_acc: 0.3036\n",
      "Epoch 35/50\n",
      "21/21 [==============================] - 0s 13ms/step - loss: 1.3614 - acc: 0.3184 - val_loss: 1.3605 - val_acc: 0.3095\n",
      "Epoch 36/50\n",
      "21/21 [==============================] - 0s 14ms/step - loss: 1.3621 - acc: 0.3094 - val_loss: 1.3605 - val_acc: 0.3036\n",
      "Epoch 37/50\n",
      "21/21 [==============================] - 0s 11ms/step - loss: 1.3600 - acc: 0.3079 - val_loss: 1.3604 - val_acc: 0.3095\n",
      "Epoch 38/50\n",
      "21/21 [==============================] - 0s 8ms/step - loss: 1.3616 - acc: 0.3079 - val_loss: 1.3602 - val_acc: 0.3155\n",
      "Epoch 39/50\n",
      "21/21 [==============================] - 0s 8ms/step - loss: 1.3614 - acc: 0.3034 - val_loss: 1.3601 - val_acc: 0.3095\n",
      "Epoch 40/50\n",
      "21/21 [==============================] - 0s 6ms/step - loss: 1.3612 - acc: 0.3109 - val_loss: 1.3600 - val_acc: 0.3095\n",
      "Epoch 41/50\n",
      "21/21 [==============================] - 0s 10ms/step - loss: 1.3605 - acc: 0.3049 - val_loss: 1.3598 - val_acc: 0.3095\n",
      "Epoch 42/50\n",
      "21/21 [==============================] - 0s 13ms/step - loss: 1.3607 - acc: 0.2960 - val_loss: 1.3597 - val_acc: 0.3155\n",
      "Epoch 43/50\n",
      "21/21 [==============================] - 0s 12ms/step - loss: 1.3601 - acc: 0.3049 - val_loss: 1.3597 - val_acc: 0.3095\n",
      "Epoch 44/50\n",
      "21/21 [==============================] - 0s 11ms/step - loss: 1.3614 - acc: 0.2825 - val_loss: 1.3596 - val_acc: 0.3036\n",
      "Epoch 45/50\n",
      "21/21 [==============================] - 0s 11ms/step - loss: 1.3596 - acc: 0.3019 - val_loss: 1.3595 - val_acc: 0.3036\n",
      "Epoch 46/50\n",
      "21/21 [==============================] - 0s 11ms/step - loss: 1.3607 - acc: 0.2990 - val_loss: 1.3593 - val_acc: 0.3095\n",
      "Epoch 47/50\n",
      "21/21 [==============================] - 0s 12ms/step - loss: 1.3596 - acc: 0.3034 - val_loss: 1.3593 - val_acc: 0.3095\n",
      "Epoch 48/50\n",
      "21/21 [==============================] - 0s 11ms/step - loss: 1.3603 - acc: 0.3019 - val_loss: 1.3593 - val_acc: 0.3036\n",
      "Epoch 49/50\n",
      "21/21 [==============================] - 0s 11ms/step - loss: 1.3619 - acc: 0.2900 - val_loss: 1.3592 - val_acc: 0.3036\n",
      "Epoch 50/50\n",
      "21/21 [==============================] - 0s 12ms/step - loss: 1.3613 - acc: 0.3274 - val_loss: 1.3591 - val_acc: 0.3036\n",
      "5/5 [==============================] - 0s 5ms/step - loss: 1.6112 - acc: 0.1267\n"
     ]
    },
    {
     "data": {
      "text/html": [
       "Waiting for W&B process to finish... <strong style=\"color:green\">(success).</strong>"
      ],
      "text/plain": [
       "<IPython.core.display.HTML object>"
      ]
     },
     "metadata": {},
     "output_type": "display_data"
    },
    {
     "data": {
      "text/html": [
       "<style>\n",
       "    table.wandb td:nth-child(1) { padding: 0 10px; text-align: left ; width: auto;} td:nth-child(2) {text-align: left ; width: 100%}\n",
       "    .wandb-row { display: flex; flex-direction: row; flex-wrap: wrap; justify-content: flex-start; width: 100% }\n",
       "    .wandb-col { display: flex; flex-direction: column; flex-basis: 100%; flex: 1; padding: 10px; }\n",
       "    </style>\n",
       "<div class=\"wandb-row\"><div class=\"wandb-col\"><h3>Run history:</h3><br/><table class=\"wandb\"><tr><td>test_acc</td><td>▁</td></tr><tr><td>test_loss</td><td>▁</td></tr><tr><td>train_acc</td><td>▁▂▂▅▄▄▄▅▆▅▅▆▅▄▄▄▅▄▆▃▅▅▄▄▅▅▅▇▆▆▆▅▆▅▆▃▅▅▅█</td></tr><tr><td>train_loss</td><td>█▆▅▄▃▃▃▃▂▂▂▂▂▂▂▂▂▂▂▂▂▂▂▂▁▂▂▁▂▁▂▂▁▁▁▂▁▁▁▂</td></tr><tr><td>val_acc</td><td>▄▃▃▂▂▂▃▂▁▁▁▁▂▄▄▅▆▅▅▅▅▅▅▅▆▆▆▆▆▇█▇▇█▇▆▇▇▆▆</td></tr><tr><td>val_loss</td><td>█▆▅▅▄▄▃▃▃▃▃▃▃▂▂▂▂▂▂▂▂▂▂▂▂▂▂▂▂▂▁▁▁▁▁▁▁▁▁▁</td></tr></table><br/></div><div class=\"wandb-col\"><h3>Run summary:</h3><br/><table class=\"wandb\"><tr><td>test_acc</td><td>0.12667</td></tr><tr><td>test_loss</td><td>1.61117</td></tr><tr><td>train_acc</td><td>0.32735</td></tr><tr><td>train_loss</td><td>1.36129</td></tr><tr><td>val_acc</td><td>0.30357</td></tr><tr><td>val_loss</td><td>1.35914</td></tr></table><br/></div></div>"
      ],
      "text/plain": [
       "<IPython.core.display.HTML object>"
      ]
     },
     "metadata": {},
     "output_type": "display_data"
    },
    {
     "data": {
      "text/html": [
       " View run <strong style=\"color:#cdcd00\">ancient-sweep-8</strong> at: <a href='https://wandb.ai/msds_mlops2023_lt2/mlo-final-project/runs/nevqedel' target=\"_blank\">https://wandb.ai/msds_mlops2023_lt2/mlo-final-project/runs/nevqedel</a><br/>Synced 5 W&B file(s), 0 media file(s), 0 artifact file(s) and 0 other file(s)"
      ],
      "text/plain": [
       "<IPython.core.display.HTML object>"
      ]
     },
     "metadata": {},
     "output_type": "display_data"
    },
    {
     "data": {
      "text/html": [
       "Find logs at: <code>.\\wandb\\run-20230910_140417-nevqedel\\logs</code>"
      ],
      "text/plain": [
       "<IPython.core.display.HTML object>"
      ]
     },
     "metadata": {},
     "output_type": "display_data"
    },
    {
     "name": "stderr",
     "output_type": "stream",
     "text": [
      "\u001b[34m\u001b[1mwandb\u001b[0m: Agent Starting Run: dh8gdfv6 with config:\n",
      "\u001b[34m\u001b[1mwandb\u001b[0m: \tarchitecture: CNN\n",
      "\u001b[34m\u001b[1mwandb\u001b[0m: \tdataset: Poems\n",
      "\u001b[34m\u001b[1mwandb\u001b[0m: \tembedding_dim: 512\n",
      "\u001b[34m\u001b[1mwandb\u001b[0m: \tepochs: 50\n",
      "\u001b[34m\u001b[1mwandb\u001b[0m: \tlearning_rate: 0.028248401211375573\n",
      "\u001b[34m\u001b[1mwandb\u001b[0m: \toptimizer: adam\n",
      "Failed to detect the name of this notebook, you can set it manually with the WANDB_NOTEBOOK_NAME environment variable to enable code saving.\n"
     ]
    },
    {
     "data": {
      "text/html": [
       "Tracking run with wandb version 0.15.10"
      ],
      "text/plain": [
       "<IPython.core.display.HTML object>"
      ]
     },
     "metadata": {},
     "output_type": "display_data"
    },
    {
     "data": {
      "text/html": [
       "Run data is saved locally in <code>c:\\Users\\Jesli's Laptop\\Desktop\\Acads\\MLO\\mlo-final-project\\code\\wandb\\run-20230910_140454-dh8gdfv6</code>"
      ],
      "text/plain": [
       "<IPython.core.display.HTML object>"
      ]
     },
     "metadata": {},
     "output_type": "display_data"
    },
    {
     "data": {
      "text/html": [
       "Syncing run <strong><a href='https://wandb.ai/msds_mlops2023_lt2/mlo-final-project/runs/dh8gdfv6' target=\"_blank\">desert-sweep-9</a></strong> to <a href='https://wandb.ai/msds_mlops2023_lt2/mlo-final-project' target=\"_blank\">Weights & Biases</a> (<a href='https://wandb.me/run' target=\"_blank\">docs</a>)<br/>Sweep page: <a href='https://wandb.ai/msds_mlops2023_lt2/mlo-final-project/sweeps/39xyia0g' target=\"_blank\">https://wandb.ai/msds_mlops2023_lt2/mlo-final-project/sweeps/39xyia0g</a>"
      ],
      "text/plain": [
       "<IPython.core.display.HTML object>"
      ]
     },
     "metadata": {},
     "output_type": "display_data"
    },
    {
     "data": {
      "text/html": [
       " View project at <a href='https://wandb.ai/msds_mlops2023_lt2/mlo-final-project' target=\"_blank\">https://wandb.ai/msds_mlops2023_lt2/mlo-final-project</a>"
      ],
      "text/plain": [
       "<IPython.core.display.HTML object>"
      ]
     },
     "metadata": {},
     "output_type": "display_data"
    },
    {
     "data": {
      "text/html": [
       " View sweep at <a href='https://wandb.ai/msds_mlops2023_lt2/mlo-final-project/sweeps/39xyia0g' target=\"_blank\">https://wandb.ai/msds_mlops2023_lt2/mlo-final-project/sweeps/39xyia0g</a>"
      ],
      "text/plain": [
       "<IPython.core.display.HTML object>"
      ]
     },
     "metadata": {},
     "output_type": "display_data"
    },
    {
     "data": {
      "text/html": [
       " View run at <a href='https://wandb.ai/msds_mlops2023_lt2/mlo-final-project/runs/dh8gdfv6' target=\"_blank\">https://wandb.ai/msds_mlops2023_lt2/mlo-final-project/runs/dh8gdfv6</a>"
      ],
      "text/plain": [
       "<IPython.core.display.HTML object>"
      ]
     },
     "metadata": {},
     "output_type": "display_data"
    },
    {
     "name": "stderr",
     "output_type": "stream",
     "text": [
      "c:\\Users\\Jesli's Laptop\\Desktop\\Acads\\MLO\\mlo-final-project\\code\\model.py:36: FutureWarning: The default value of regex will change from True to False in a future version.\n",
      "  self.df_train['Poem'] = self.df_train['Poem'].str.replace('shade.When', 'shade. When')\n",
      "c:\\Users\\Jesli's Laptop\\Desktop\\Acads\\MLO\\mlo-final-project\\code\\model.py:37: FutureWarning: The default value of regex will change from True to False in a future version.\n",
      "  self.df_train['Poem'] = self.df_train['Poem'].str.replace('afraid.Now', 'afraid. Now')\n",
      "c:\\Users\\Jesli's Laptop\\Desktop\\Acads\\MLO\\mlo-final-project\\code\\model.py:39: FutureWarning: The default value of regex will change from True to False in a future version.\n",
      "  self.df_train['Poem'] = self.df_train['Poem'].str.replace('afraid.Now,', 'afraid. Now,')\n",
      "c:\\Users\\Jesli's Laptop\\Desktop\\Acads\\MLO\\mlo-final-project\\code\\model.py:40: FutureWarning: The default value of regex will change from True to False in a future version.\n",
      "  self.df_train['Poem'] = self.df_train['Poem'].str.replace('Big Game.Bigger', 'Big Game. Bigger')\n",
      "[nltk_data] Downloading package stopwords to C:\\Users\\Jesli's\n",
      "[nltk_data]     Laptop\\AppData\\Roaming\\nltk_data...\n",
      "[nltk_data]   Package stopwords is already up-to-date!\n"
     ]
    },
    {
     "name": "stdout",
     "output_type": "stream",
     "text": [
      "Epoch 1/50\n",
      "21/21 [==============================] - 2s 36ms/step - loss: 1.3852 - acc: 0.3303 - val_loss: 1.3354 - val_acc: 0.3095\n",
      "Epoch 2/50\n",
      "21/21 [==============================] - 1s 24ms/step - loss: 1.1521 - acc: 0.4993 - val_loss: 1.2621 - val_acc: 0.4286\n",
      "Epoch 3/50\n",
      "21/21 [==============================] - 1s 25ms/step - loss: 0.9610 - acc: 0.6054 - val_loss: 1.4649 - val_acc: 0.4167\n",
      "Epoch 4/50\n",
      "21/21 [==============================] - 1s 25ms/step - loss: 0.7770 - acc: 0.6697 - val_loss: 1.4555 - val_acc: 0.4583\n",
      "Epoch 5/50\n",
      "21/21 [==============================] - 1s 25ms/step - loss: 0.6132 - acc: 0.7623 - val_loss: 1.5400 - val_acc: 0.4464\n",
      "Epoch 6/50\n",
      "21/21 [==============================] - 1s 25ms/step - loss: 0.5277 - acc: 0.8281 - val_loss: 1.7100 - val_acc: 0.4821\n",
      "Epoch 7/50\n",
      "21/21 [==============================] - 1s 27ms/step - loss: 0.5143 - acc: 0.8012 - val_loss: 1.8093 - val_acc: 0.5060\n",
      "Epoch 8/50\n",
      "21/21 [==============================] - 1s 25ms/step - loss: 0.4938 - acc: 0.8057 - val_loss: 2.0653 - val_acc: 0.4464\n",
      "Epoch 9/50\n",
      "21/21 [==============================] - 1s 25ms/step - loss: 0.4328 - acc: 0.8356 - val_loss: 2.0933 - val_acc: 0.4524\n",
      "Epoch 10/50\n",
      "21/21 [==============================] - 1s 25ms/step - loss: 0.3889 - acc: 0.8714 - val_loss: 2.3089 - val_acc: 0.4345\n",
      "Epoch 11/50\n",
      "21/21 [==============================] - 1s 24ms/step - loss: 0.3840 - acc: 0.8714 - val_loss: 2.3891 - val_acc: 0.4583\n",
      "Epoch 12/50\n",
      "21/21 [==============================] - 1s 25ms/step - loss: 0.3979 - acc: 0.8685 - val_loss: 2.6323 - val_acc: 0.4762\n",
      "Epoch 13/50\n",
      "21/21 [==============================] - 1s 27ms/step - loss: 0.4082 - acc: 0.8595 - val_loss: 2.6380 - val_acc: 0.4464\n",
      "Epoch 14/50\n",
      "21/21 [==============================] - 1s 27ms/step - loss: 0.3336 - acc: 0.8969 - val_loss: 2.7735 - val_acc: 0.4107\n",
      "Epoch 15/50\n",
      "21/21 [==============================] - 1s 27ms/step - loss: 0.3349 - acc: 0.8909 - val_loss: 3.0759 - val_acc: 0.4762\n",
      "Epoch 16/50\n",
      "21/21 [==============================] - 1s 30ms/step - loss: 0.3905 - acc: 0.8759 - val_loss: 3.0011 - val_acc: 0.4345\n",
      "Epoch 17/50\n",
      "21/21 [==============================] - 1s 29ms/step - loss: 0.3067 - acc: 0.9028 - val_loss: 2.9823 - val_acc: 0.4583\n",
      "Epoch 18/50\n",
      "21/21 [==============================] - 1s 27ms/step - loss: 0.3367 - acc: 0.8939 - val_loss: 3.0323 - val_acc: 0.4762\n",
      "Epoch 19/50\n",
      "21/21 [==============================] - 1s 28ms/step - loss: 0.3134 - acc: 0.9058 - val_loss: 3.1012 - val_acc: 0.3988\n",
      "Epoch 20/50\n",
      "21/21 [==============================] - 1s 26ms/step - loss: 0.3364 - acc: 0.8999 - val_loss: 3.1109 - val_acc: 0.4464\n",
      "Epoch 21/50\n",
      "21/21 [==============================] - 1s 26ms/step - loss: 0.3289 - acc: 0.8969 - val_loss: 3.3997 - val_acc: 0.4405\n",
      "Epoch 22/50\n",
      "21/21 [==============================] - 1s 24ms/step - loss: 0.3336 - acc: 0.8879 - val_loss: 3.5511 - val_acc: 0.4107\n",
      "Epoch 23/50\n",
      "21/21 [==============================] - 1s 25ms/step - loss: 0.3594 - acc: 0.8924 - val_loss: 3.5960 - val_acc: 0.4286\n",
      "Epoch 24/50\n",
      "21/21 [==============================] - 0s 23ms/step - loss: 0.3320 - acc: 0.8939 - val_loss: 3.8377 - val_acc: 0.3988\n",
      "Epoch 25/50\n",
      "21/21 [==============================] - 0s 23ms/step - loss: 0.3075 - acc: 0.9148 - val_loss: 3.7413 - val_acc: 0.4524\n",
      "Epoch 26/50\n",
      "21/21 [==============================] - 1s 26ms/step - loss: 0.3758 - acc: 0.8894 - val_loss: 3.5544 - val_acc: 0.4464\n",
      "Epoch 27/50\n",
      "21/21 [==============================] - 1s 26ms/step - loss: 0.3416 - acc: 0.8984 - val_loss: 3.7071 - val_acc: 0.4048\n",
      "Epoch 28/50\n",
      "21/21 [==============================] - 1s 27ms/step - loss: 0.3066 - acc: 0.9103 - val_loss: 3.5804 - val_acc: 0.4345\n",
      "Epoch 29/50\n",
      "21/21 [==============================] - 0s 23ms/step - loss: 0.3839 - acc: 0.8939 - val_loss: 3.5965 - val_acc: 0.4524\n",
      "Epoch 30/50\n",
      "21/21 [==============================] - 1s 25ms/step - loss: 0.2915 - acc: 0.9148 - val_loss: 3.8155 - val_acc: 0.4107\n",
      "Epoch 31/50\n",
      "21/21 [==============================] - 1s 25ms/step - loss: 0.2901 - acc: 0.9193 - val_loss: 3.7422 - val_acc: 0.4464\n",
      "Epoch 32/50\n",
      "21/21 [==============================] - 1s 25ms/step - loss: 0.3199 - acc: 0.8984 - val_loss: 3.9477 - val_acc: 0.3750\n",
      "Epoch 33/50\n",
      "21/21 [==============================] - 0s 22ms/step - loss: 0.3230 - acc: 0.9013 - val_loss: 3.7156 - val_acc: 0.4583\n",
      "Epoch 34/50\n",
      "21/21 [==============================] - 0s 23ms/step - loss: 0.3294 - acc: 0.8984 - val_loss: 4.0998 - val_acc: 0.4107\n",
      "Epoch 35/50\n",
      "21/21 [==============================] - 1s 24ms/step - loss: 0.3504 - acc: 0.8924 - val_loss: 4.0912 - val_acc: 0.4286\n",
      "Epoch 36/50\n",
      "21/21 [==============================] - 0s 23ms/step - loss: 0.3271 - acc: 0.9073 - val_loss: 3.8541 - val_acc: 0.4643\n",
      "Epoch 37/50\n",
      "21/21 [==============================] - 1s 24ms/step - loss: 0.2865 - acc: 0.9223 - val_loss: 3.8977 - val_acc: 0.4286\n",
      "Epoch 38/50\n",
      "21/21 [==============================] - 0s 23ms/step - loss: 0.2535 - acc: 0.9238 - val_loss: 3.9346 - val_acc: 0.4345\n",
      "Epoch 39/50\n",
      "21/21 [==============================] - 0s 24ms/step - loss: 0.2980 - acc: 0.9178 - val_loss: 3.9089 - val_acc: 0.4464\n",
      "Epoch 40/50\n",
      "21/21 [==============================] - 0s 20ms/step - loss: 0.3078 - acc: 0.9268 - val_loss: 3.7410 - val_acc: 0.4048\n",
      "Epoch 41/50\n",
      "21/21 [==============================] - 0s 20ms/step - loss: 0.3197 - acc: 0.9073 - val_loss: 3.8854 - val_acc: 0.4405\n",
      "Epoch 42/50\n",
      "21/21 [==============================] - 0s 20ms/step - loss: 0.2155 - acc: 0.9417 - val_loss: 3.8897 - val_acc: 0.4345\n",
      "Epoch 43/50\n",
      "21/21 [==============================] - 0s 21ms/step - loss: 0.2285 - acc: 0.9253 - val_loss: 4.0721 - val_acc: 0.4464\n",
      "Epoch 44/50\n",
      "21/21 [==============================] - 0s 21ms/step - loss: 0.2740 - acc: 0.9297 - val_loss: 3.9657 - val_acc: 0.4405\n",
      "Epoch 45/50\n",
      "21/21 [==============================] - 0s 21ms/step - loss: 0.2989 - acc: 0.9088 - val_loss: 3.9762 - val_acc: 0.4464\n",
      "Epoch 46/50\n",
      "21/21 [==============================] - 0s 21ms/step - loss: 0.3138 - acc: 0.9253 - val_loss: 4.0210 - val_acc: 0.4048\n",
      "Epoch 47/50\n",
      "21/21 [==============================] - 0s 21ms/step - loss: 0.3209 - acc: 0.9193 - val_loss: 3.9877 - val_acc: 0.4048\n",
      "Epoch 48/50\n",
      "21/21 [==============================] - 0s 22ms/step - loss: 0.2419 - acc: 0.9223 - val_loss: 4.0639 - val_acc: 0.4405\n",
      "Epoch 49/50\n",
      "21/21 [==============================] - 0s 20ms/step - loss: 0.2425 - acc: 0.9193 - val_loss: 4.3215 - val_acc: 0.4345\n",
      "Epoch 50/50\n",
      "21/21 [==============================] - 0s 21ms/step - loss: 0.3120 - acc: 0.9103 - val_loss: 4.1009 - val_acc: 0.4345\n",
      "5/5 [==============================] - 0s 4ms/step - loss: 5.5452 - acc: 0.2667\n"
     ]
    },
    {
     "data": {
      "text/html": [
       "Waiting for W&B process to finish... <strong style=\"color:green\">(success).</strong>"
      ],
      "text/plain": [
       "<IPython.core.display.HTML object>"
      ]
     },
     "metadata": {},
     "output_type": "display_data"
    },
    {
     "data": {
      "text/html": [
       "<style>\n",
       "    table.wandb td:nth-child(1) { padding: 0 10px; text-align: left ; width: auto;} td:nth-child(2) {text-align: left ; width: 100%}\n",
       "    .wandb-row { display: flex; flex-direction: row; flex-wrap: wrap; justify-content: flex-start; width: 100% }\n",
       "    .wandb-col { display: flex; flex-direction: column; flex-basis: 100%; flex: 1; padding: 10px; }\n",
       "    </style>\n",
       "<div class=\"wandb-row\"><div class=\"wandb-col\"><h3>Run history:</h3><br/><table class=\"wandb\"><tr><td>test_acc</td><td>▁</td></tr><tr><td>test_loss</td><td>▁</td></tr><tr><td>train_acc</td><td>▁▃▄▅▇▆▆▇▇▇▇▇▇█▇█▇▇▇▇▇██▇████████████████</td></tr><tr><td>train_loss</td><td>█▇▅▄▃▃▃▂▂▂▂▂▂▂▂▂▂▂▂▂▂▂▂▂▁▂▂▂▂▁▁▁▂▁▁▁▂▂▁▂</td></tr><tr><td>val_acc</td><td>▁▅▅▆▇█▆▆▆▇▆▅▅▆▇▄▆▅▅▄▆▄▅▆▆▃▆▅▇▅▅▆▆▅▆▆▄▄▆▅</td></tr><tr><td>val_loss</td><td>▁▁▂▁▂▂▃▃▄▄▄▅▅▅▅▆▆▇▇▇▇▇▇▇▇█▇█▇▇██▇▇██████</td></tr></table><br/></div><div class=\"wandb-col\"><h3>Run summary:</h3><br/><table class=\"wandb\"><tr><td>test_acc</td><td>0.26667</td></tr><tr><td>test_loss</td><td>5.54521</td></tr><tr><td>train_acc</td><td>0.91031</td></tr><tr><td>train_loss</td><td>0.312</td></tr><tr><td>val_acc</td><td>0.43452</td></tr><tr><td>val_loss</td><td>4.10086</td></tr></table><br/></div></div>"
      ],
      "text/plain": [
       "<IPython.core.display.HTML object>"
      ]
     },
     "metadata": {},
     "output_type": "display_data"
    },
    {
     "data": {
      "text/html": [
       " View run <strong style=\"color:#cdcd00\">desert-sweep-9</strong> at: <a href='https://wandb.ai/msds_mlops2023_lt2/mlo-final-project/runs/dh8gdfv6' target=\"_blank\">https://wandb.ai/msds_mlops2023_lt2/mlo-final-project/runs/dh8gdfv6</a><br/>Synced 5 W&B file(s), 0 media file(s), 0 artifact file(s) and 0 other file(s)"
      ],
      "text/plain": [
       "<IPython.core.display.HTML object>"
      ]
     },
     "metadata": {},
     "output_type": "display_data"
    },
    {
     "data": {
      "text/html": [
       "Find logs at: <code>.\\wandb\\run-20230910_140454-dh8gdfv6\\logs</code>"
      ],
      "text/plain": [
       "<IPython.core.display.HTML object>"
      ]
     },
     "metadata": {},
     "output_type": "display_data"
    },
    {
     "name": "stderr",
     "output_type": "stream",
     "text": [
      "\u001b[34m\u001b[1mwandb\u001b[0m: Sweep Agent: Waiting for job.\n",
      "\u001b[34m\u001b[1mwandb\u001b[0m: Job received.\n",
      "\u001b[34m\u001b[1mwandb\u001b[0m: Agent Starting Run: 43vvhq9g with config:\n",
      "\u001b[34m\u001b[1mwandb\u001b[0m: \tarchitecture: CNN\n",
      "\u001b[34m\u001b[1mwandb\u001b[0m: \tdataset: Poems\n",
      "\u001b[34m\u001b[1mwandb\u001b[0m: \tembedding_dim: 128\n",
      "\u001b[34m\u001b[1mwandb\u001b[0m: \tepochs: 50\n",
      "\u001b[34m\u001b[1mwandb\u001b[0m: \tlearning_rate: 0.07485483670959024\n",
      "\u001b[34m\u001b[1mwandb\u001b[0m: \toptimizer: adam\n",
      "Failed to detect the name of this notebook, you can set it manually with the WANDB_NOTEBOOK_NAME environment variable to enable code saving.\n"
     ]
    },
    {
     "data": {
      "text/html": [
       "Tracking run with wandb version 0.15.10"
      ],
      "text/plain": [
       "<IPython.core.display.HTML object>"
      ]
     },
     "metadata": {},
     "output_type": "display_data"
    },
    {
     "data": {
      "text/html": [
       "Run data is saved locally in <code>c:\\Users\\Jesli's Laptop\\Desktop\\Acads\\MLO\\mlo-final-project\\code\\wandb\\run-20230910_140554-43vvhq9g</code>"
      ],
      "text/plain": [
       "<IPython.core.display.HTML object>"
      ]
     },
     "metadata": {},
     "output_type": "display_data"
    },
    {
     "data": {
      "text/html": [
       "Syncing run <strong><a href='https://wandb.ai/msds_mlops2023_lt2/mlo-final-project/runs/43vvhq9g' target=\"_blank\">copper-sweep-10</a></strong> to <a href='https://wandb.ai/msds_mlops2023_lt2/mlo-final-project' target=\"_blank\">Weights & Biases</a> (<a href='https://wandb.me/run' target=\"_blank\">docs</a>)<br/>Sweep page: <a href='https://wandb.ai/msds_mlops2023_lt2/mlo-final-project/sweeps/39xyia0g' target=\"_blank\">https://wandb.ai/msds_mlops2023_lt2/mlo-final-project/sweeps/39xyia0g</a>"
      ],
      "text/plain": [
       "<IPython.core.display.HTML object>"
      ]
     },
     "metadata": {},
     "output_type": "display_data"
    },
    {
     "data": {
      "text/html": [
       " View project at <a href='https://wandb.ai/msds_mlops2023_lt2/mlo-final-project' target=\"_blank\">https://wandb.ai/msds_mlops2023_lt2/mlo-final-project</a>"
      ],
      "text/plain": [
       "<IPython.core.display.HTML object>"
      ]
     },
     "metadata": {},
     "output_type": "display_data"
    },
    {
     "data": {
      "text/html": [
       " View sweep at <a href='https://wandb.ai/msds_mlops2023_lt2/mlo-final-project/sweeps/39xyia0g' target=\"_blank\">https://wandb.ai/msds_mlops2023_lt2/mlo-final-project/sweeps/39xyia0g</a>"
      ],
      "text/plain": [
       "<IPython.core.display.HTML object>"
      ]
     },
     "metadata": {},
     "output_type": "display_data"
    },
    {
     "data": {
      "text/html": [
       " View run at <a href='https://wandb.ai/msds_mlops2023_lt2/mlo-final-project/runs/43vvhq9g' target=\"_blank\">https://wandb.ai/msds_mlops2023_lt2/mlo-final-project/runs/43vvhq9g</a>"
      ],
      "text/plain": [
       "<IPython.core.display.HTML object>"
      ]
     },
     "metadata": {},
     "output_type": "display_data"
    },
    {
     "name": "stdout",
     "output_type": "stream",
     "text": [
      "Epoch 1/50\n"
     ]
    },
    {
     "name": "stderr",
     "output_type": "stream",
     "text": [
      "c:\\Users\\Jesli's Laptop\\Desktop\\Acads\\MLO\\mlo-final-project\\code\\model.py:36: FutureWarning: The default value of regex will change from True to False in a future version.\n",
      "  self.df_train['Poem'] = self.df_train['Poem'].str.replace('shade.When', 'shade. When')\n",
      "c:\\Users\\Jesli's Laptop\\Desktop\\Acads\\MLO\\mlo-final-project\\code\\model.py:37: FutureWarning: The default value of regex will change from True to False in a future version.\n",
      "  self.df_train['Poem'] = self.df_train['Poem'].str.replace('afraid.Now', 'afraid. Now')\n",
      "c:\\Users\\Jesli's Laptop\\Desktop\\Acads\\MLO\\mlo-final-project\\code\\model.py:39: FutureWarning: The default value of regex will change from True to False in a future version.\n",
      "  self.df_train['Poem'] = self.df_train['Poem'].str.replace('afraid.Now,', 'afraid. Now,')\n",
      "c:\\Users\\Jesli's Laptop\\Desktop\\Acads\\MLO\\mlo-final-project\\code\\model.py:40: FutureWarning: The default value of regex will change from True to False in a future version.\n",
      "  self.df_train['Poem'] = self.df_train['Poem'].str.replace('Big Game.Bigger', 'Big Game. Bigger')\n",
      "[nltk_data] Downloading package stopwords to C:\\Users\\Jesli's\n",
      "[nltk_data]     Laptop\\AppData\\Roaming\\nltk_data...\n",
      "[nltk_data]   Package stopwords is already up-to-date!\n"
     ]
    },
    {
     "name": "stdout",
     "output_type": "stream",
     "text": [
      "21/21 [==============================] - 1s 29ms/step - loss: 1.3652 - acc: 0.3214 - val_loss: 1.3065 - val_acc: 0.3512\n",
      "Epoch 2/50\n",
      "21/21 [==============================] - 0s 8ms/step - loss: 1.0953 - acc: 0.5336 - val_loss: 1.6583 - val_acc: 0.3155\n",
      "Epoch 3/50\n",
      "21/21 [==============================] - 0s 8ms/step - loss: 0.9544 - acc: 0.6428 - val_loss: 1.6745 - val_acc: 0.4048\n",
      "Epoch 4/50\n",
      "21/21 [==============================] - 0s 8ms/step - loss: 0.7917 - acc: 0.7010 - val_loss: 2.0539 - val_acc: 0.2917\n",
      "Epoch 5/50\n",
      "21/21 [==============================] - 0s 7ms/step - loss: 0.7225 - acc: 0.7010 - val_loss: 2.1032 - val_acc: 0.3333\n",
      "Epoch 6/50\n",
      "21/21 [==============================] - 0s 8ms/step - loss: 0.5981 - acc: 0.7668 - val_loss: 2.1006 - val_acc: 0.3988\n",
      "Epoch 7/50\n",
      "21/21 [==============================] - 0s 8ms/step - loss: 0.5707 - acc: 0.7862 - val_loss: 2.4090 - val_acc: 0.3452\n",
      "Epoch 8/50\n",
      "21/21 [==============================] - 0s 8ms/step - loss: 0.5360 - acc: 0.7848 - val_loss: 2.8847 - val_acc: 0.3452\n",
      "Epoch 9/50\n",
      "21/21 [==============================] - 0s 8ms/step - loss: 0.5131 - acc: 0.8072 - val_loss: 2.8922 - val_acc: 0.3571\n",
      "Epoch 10/50\n",
      "21/21 [==============================] - 0s 8ms/step - loss: 0.4407 - acc: 0.8490 - val_loss: 3.0315 - val_acc: 0.3571\n",
      "Epoch 11/50\n",
      "21/21 [==============================] - 0s 8ms/step - loss: 0.3925 - acc: 0.8640 - val_loss: 3.1739 - val_acc: 0.3810\n",
      "Epoch 12/50\n",
      "21/21 [==============================] - 0s 8ms/step - loss: 0.4840 - acc: 0.8266 - val_loss: 3.2830 - val_acc: 0.3571\n",
      "Epoch 13/50\n",
      "21/21 [==============================] - 0s 8ms/step - loss: 0.4130 - acc: 0.8595 - val_loss: 3.3418 - val_acc: 0.3869\n",
      "Epoch 14/50\n",
      "21/21 [==============================] - 0s 8ms/step - loss: 0.4162 - acc: 0.8580 - val_loss: 3.6243 - val_acc: 0.3512\n",
      "Epoch 15/50\n",
      "21/21 [==============================] - 0s 9ms/step - loss: 0.3753 - acc: 0.8774 - val_loss: 3.7957 - val_acc: 0.3571\n",
      "Epoch 16/50\n",
      "21/21 [==============================] - 0s 8ms/step - loss: 0.3852 - acc: 0.8640 - val_loss: 3.8081 - val_acc: 0.3869\n",
      "Epoch 17/50\n",
      "21/21 [==============================] - 0s 8ms/step - loss: 0.3949 - acc: 0.8744 - val_loss: 4.0332 - val_acc: 0.3929\n",
      "Epoch 18/50\n",
      "21/21 [==============================] - 0s 8ms/step - loss: 0.3690 - acc: 0.8849 - val_loss: 3.9370 - val_acc: 0.3750\n",
      "Epoch 19/50\n",
      "21/21 [==============================] - 0s 8ms/step - loss: 0.3849 - acc: 0.8744 - val_loss: 4.4843 - val_acc: 0.3929\n",
      "Epoch 20/50\n",
      "21/21 [==============================] - 0s 8ms/step - loss: 0.4430 - acc: 0.8759 - val_loss: 4.2213 - val_acc: 0.3452\n",
      "Epoch 21/50\n",
      "21/21 [==============================] - 0s 8ms/step - loss: 0.3802 - acc: 0.8894 - val_loss: 4.4832 - val_acc: 0.3512\n",
      "Epoch 22/50\n",
      "21/21 [==============================] - 0s 8ms/step - loss: 0.4044 - acc: 0.8774 - val_loss: 4.5004 - val_acc: 0.3929\n",
      "Epoch 23/50\n",
      "21/21 [==============================] - 0s 8ms/step - loss: 0.3800 - acc: 0.8969 - val_loss: 4.3853 - val_acc: 0.3631\n",
      "Epoch 24/50\n",
      "21/21 [==============================] - 0s 8ms/step - loss: 0.4056 - acc: 0.8550 - val_loss: 4.6758 - val_acc: 0.3631\n",
      "Epoch 25/50\n",
      "21/21 [==============================] - 0s 8ms/step - loss: 0.3754 - acc: 0.8700 - val_loss: 5.0655 - val_acc: 0.3690\n",
      "Epoch 26/50\n",
      "21/21 [==============================] - 0s 8ms/step - loss: 0.3285 - acc: 0.8984 - val_loss: 4.8695 - val_acc: 0.3690\n",
      "Epoch 27/50\n",
      "21/21 [==============================] - 0s 8ms/step - loss: 0.3159 - acc: 0.8969 - val_loss: 4.9445 - val_acc: 0.3690\n",
      "Epoch 28/50\n",
      "21/21 [==============================] - 0s 8ms/step - loss: 0.3504 - acc: 0.8999 - val_loss: 5.1169 - val_acc: 0.3690\n",
      "Epoch 29/50\n",
      "21/21 [==============================] - 0s 8ms/step - loss: 0.3763 - acc: 0.8849 - val_loss: 5.0791 - val_acc: 0.3512\n",
      "Epoch 30/50\n",
      "21/21 [==============================] - 0s 8ms/step - loss: 0.3848 - acc: 0.8894 - val_loss: 4.9340 - val_acc: 0.3810\n",
      "Epoch 31/50\n",
      "21/21 [==============================] - 0s 8ms/step - loss: 0.3873 - acc: 0.8939 - val_loss: 5.0708 - val_acc: 0.3631\n",
      "Epoch 32/50\n",
      "21/21 [==============================] - 0s 8ms/step - loss: 0.4244 - acc: 0.8714 - val_loss: 5.1693 - val_acc: 0.3690\n",
      "Epoch 33/50\n",
      "21/21 [==============================] - 0s 10ms/step - loss: 0.3345 - acc: 0.8954 - val_loss: 5.1139 - val_acc: 0.3690\n",
      "Epoch 34/50\n",
      "21/21 [==============================] - 0s 9ms/step - loss: 0.4923 - acc: 0.8700 - val_loss: 5.2501 - val_acc: 0.3571\n",
      "Epoch 35/50\n",
      "21/21 [==============================] - 0s 8ms/step - loss: 0.3769 - acc: 0.8879 - val_loss: 5.3044 - val_acc: 0.3631\n",
      "Epoch 36/50\n",
      "21/21 [==============================] - 0s 8ms/step - loss: 0.3621 - acc: 0.8999 - val_loss: 5.2776 - val_acc: 0.3452\n",
      "Epoch 37/50\n",
      "21/21 [==============================] - 0s 8ms/step - loss: 0.3946 - acc: 0.8894 - val_loss: 5.1709 - val_acc: 0.3750\n",
      "Epoch 38/50\n",
      "21/21 [==============================] - 0s 8ms/step - loss: 0.3549 - acc: 0.8969 - val_loss: 5.4799 - val_acc: 0.3810\n",
      "Epoch 39/50\n",
      "21/21 [==============================] - 0s 8ms/step - loss: 0.3943 - acc: 0.9103 - val_loss: 5.2481 - val_acc: 0.3512\n",
      "Epoch 40/50\n",
      "21/21 [==============================] - 0s 8ms/step - loss: 0.2895 - acc: 0.9193 - val_loss: 5.5588 - val_acc: 0.3571\n",
      "Epoch 41/50\n",
      "21/21 [==============================] - 0s 8ms/step - loss: 0.3168 - acc: 0.9103 - val_loss: 5.2936 - val_acc: 0.3631\n",
      "Epoch 42/50\n",
      "21/21 [==============================] - 0s 8ms/step - loss: 0.3625 - acc: 0.9043 - val_loss: 5.3790 - val_acc: 0.3690\n",
      "Epoch 43/50\n",
      "21/21 [==============================] - 0s 8ms/step - loss: 0.3439 - acc: 0.8969 - val_loss: 5.5078 - val_acc: 0.3452\n",
      "Epoch 44/50\n",
      "21/21 [==============================] - 0s 8ms/step - loss: 0.3002 - acc: 0.9013 - val_loss: 5.6032 - val_acc: 0.3571\n",
      "Epoch 45/50\n",
      "21/21 [==============================] - 0s 8ms/step - loss: 0.3279 - acc: 0.9133 - val_loss: 5.7905 - val_acc: 0.3750\n",
      "Epoch 46/50\n",
      "21/21 [==============================] - 0s 8ms/step - loss: 0.3506 - acc: 0.8939 - val_loss: 5.7172 - val_acc: 0.3690\n",
      "Epoch 47/50\n",
      "21/21 [==============================] - 0s 8ms/step - loss: 0.2610 - acc: 0.9312 - val_loss: 5.8725 - val_acc: 0.3810\n",
      "Epoch 48/50\n",
      "21/21 [==============================] - 0s 8ms/step - loss: 0.2920 - acc: 0.9178 - val_loss: 5.9000 - val_acc: 0.3750\n",
      "Epoch 49/50\n",
      "21/21 [==============================] - 0s 8ms/step - loss: 0.2402 - acc: 0.9342 - val_loss: 6.0904 - val_acc: 0.3631\n",
      "Epoch 50/50\n",
      "21/21 [==============================] - 0s 8ms/step - loss: 0.3459 - acc: 0.9297 - val_loss: 5.5738 - val_acc: 0.3631\n",
      "5/5 [==============================] - 0s 3ms/step - loss: 6.6664 - acc: 0.3200\n"
     ]
    },
    {
     "data": {
      "text/html": [
       "Waiting for W&B process to finish... <strong style=\"color:green\">(success).</strong>"
      ],
      "text/plain": [
       "<IPython.core.display.HTML object>"
      ]
     },
     "metadata": {},
     "output_type": "display_data"
    },
    {
     "data": {
      "text/html": [
       "<style>\n",
       "    table.wandb td:nth-child(1) { padding: 0 10px; text-align: left ; width: auto;} td:nth-child(2) {text-align: left ; width: 100%}\n",
       "    .wandb-row { display: flex; flex-direction: row; flex-wrap: wrap; justify-content: flex-start; width: 100% }\n",
       "    .wandb-col { display: flex; flex-direction: column; flex-basis: 100%; flex: 1; padding: 10px; }\n",
       "    </style>\n",
       "<div class=\"wandb-row\"><div class=\"wandb-col\"><h3>Run history:</h3><br/><table class=\"wandb\"><tr><td>test_acc</td><td>▁</td></tr><tr><td>test_loss</td><td>▁</td></tr><tr><td>train_acc</td><td>▁▃▅▅▆▆▆▇▇▇▇▇▇▇▇▇█▇█▇███▇█▇█▇████████████</td></tr><tr><td>train_loss</td><td>█▆▅▄▃▃▃▃▂▂▂▂▂▂▂▂▂▂▂▂▁▁▂▂▂▂▁▂▂▂▂▂▁▂▂▁▂▁▁▂</td></tr><tr><td>val_acc</td><td>▅▂█▁█▄▄▅▇▅▇▅▇▇▆▇▅▇▅▅▆▆▆▅▅▆▆▅▄▆▇▅▅▆▄▅▆▇▆▅</td></tr><tr><td>val_loss</td><td>▁▂▂▂▂▃▃▃▄▄▄▅▅▅▅▆▆▆▆▆▆▇▇▇▇▇▇▇▇▇▇▇▇▇▇█████</td></tr></table><br/></div><div class=\"wandb-col\"><h3>Run summary:</h3><br/><table class=\"wandb\"><tr><td>test_acc</td><td>0.32</td></tr><tr><td>test_loss</td><td>6.66643</td></tr><tr><td>train_acc</td><td>0.92975</td></tr><tr><td>train_loss</td><td>0.34588</td></tr><tr><td>val_acc</td><td>0.3631</td></tr><tr><td>val_loss</td><td>5.57378</td></tr></table><br/></div></div>"
      ],
      "text/plain": [
       "<IPython.core.display.HTML object>"
      ]
     },
     "metadata": {},
     "output_type": "display_data"
    },
    {
     "data": {
      "text/html": [
       " View run <strong style=\"color:#cdcd00\">copper-sweep-10</strong> at: <a href='https://wandb.ai/msds_mlops2023_lt2/mlo-final-project/runs/43vvhq9g' target=\"_blank\">https://wandb.ai/msds_mlops2023_lt2/mlo-final-project/runs/43vvhq9g</a><br/>Synced 5 W&B file(s), 0 media file(s), 0 artifact file(s) and 0 other file(s)"
      ],
      "text/plain": [
       "<IPython.core.display.HTML object>"
      ]
     },
     "metadata": {},
     "output_type": "display_data"
    },
    {
     "data": {
      "text/html": [
       "Find logs at: <code>.\\wandb\\run-20230910_140554-43vvhq9g\\logs</code>"
      ],
      "text/plain": [
       "<IPython.core.display.HTML object>"
      ]
     },
     "metadata": {},
     "output_type": "display_data"
    },
    {
     "name": "stderr",
     "output_type": "stream",
     "text": [
      "\u001b[34m\u001b[1mwandb\u001b[0m: Agent Starting Run: kt439d3z with config:\n",
      "\u001b[34m\u001b[1mwandb\u001b[0m: \tarchitecture: CNN\n",
      "\u001b[34m\u001b[1mwandb\u001b[0m: \tdataset: Poems\n",
      "\u001b[34m\u001b[1mwandb\u001b[0m: \tembedding_dim: 128\n",
      "\u001b[34m\u001b[1mwandb\u001b[0m: \tepochs: 50\n",
      "\u001b[34m\u001b[1mwandb\u001b[0m: \tlearning_rate: 0.09571373664412952\n",
      "\u001b[34m\u001b[1mwandb\u001b[0m: \toptimizer: adam\n",
      "Failed to detect the name of this notebook, you can set it manually with the WANDB_NOTEBOOK_NAME environment variable to enable code saving.\n"
     ]
    },
    {
     "data": {
      "text/html": [
       "Tracking run with wandb version 0.15.10"
      ],
      "text/plain": [
       "<IPython.core.display.HTML object>"
      ]
     },
     "metadata": {},
     "output_type": "display_data"
    },
    {
     "data": {
      "text/html": [
       "Run data is saved locally in <code>c:\\Users\\Jesli's Laptop\\Desktop\\Acads\\MLO\\mlo-final-project\\code\\wandb\\run-20230910_140915-kt439d3z</code>"
      ],
      "text/plain": [
       "<IPython.core.display.HTML object>"
      ]
     },
     "metadata": {},
     "output_type": "display_data"
    },
    {
     "data": {
      "text/html": [
       "Syncing run <strong><a href='https://wandb.ai/msds_mlops2023_lt2/mlo-final-project/runs/kt439d3z' target=\"_blank\">lunar-sweep-11</a></strong> to <a href='https://wandb.ai/msds_mlops2023_lt2/mlo-final-project' target=\"_blank\">Weights & Biases</a> (<a href='https://wandb.me/run' target=\"_blank\">docs</a>)<br/>Sweep page: <a href='https://wandb.ai/msds_mlops2023_lt2/mlo-final-project/sweeps/39xyia0g' target=\"_blank\">https://wandb.ai/msds_mlops2023_lt2/mlo-final-project/sweeps/39xyia0g</a>"
      ],
      "text/plain": [
       "<IPython.core.display.HTML object>"
      ]
     },
     "metadata": {},
     "output_type": "display_data"
    },
    {
     "data": {
      "text/html": [
       " View project at <a href='https://wandb.ai/msds_mlops2023_lt2/mlo-final-project' target=\"_blank\">https://wandb.ai/msds_mlops2023_lt2/mlo-final-project</a>"
      ],
      "text/plain": [
       "<IPython.core.display.HTML object>"
      ]
     },
     "metadata": {},
     "output_type": "display_data"
    },
    {
     "data": {
      "text/html": [
       " View sweep at <a href='https://wandb.ai/msds_mlops2023_lt2/mlo-final-project/sweeps/39xyia0g' target=\"_blank\">https://wandb.ai/msds_mlops2023_lt2/mlo-final-project/sweeps/39xyia0g</a>"
      ],
      "text/plain": [
       "<IPython.core.display.HTML object>"
      ]
     },
     "metadata": {},
     "output_type": "display_data"
    },
    {
     "data": {
      "text/html": [
       " View run at <a href='https://wandb.ai/msds_mlops2023_lt2/mlo-final-project/runs/kt439d3z' target=\"_blank\">https://wandb.ai/msds_mlops2023_lt2/mlo-final-project/runs/kt439d3z</a>"
      ],
      "text/plain": [
       "<IPython.core.display.HTML object>"
      ]
     },
     "metadata": {},
     "output_type": "display_data"
    },
    {
     "name": "stdout",
     "output_type": "stream",
     "text": [
      "Epoch 1/50\n"
     ]
    },
    {
     "name": "stderr",
     "output_type": "stream",
     "text": [
      "c:\\Users\\Jesli's Laptop\\Desktop\\Acads\\MLO\\mlo-final-project\\code\\model.py:36: FutureWarning: The default value of regex will change from True to False in a future version.\n",
      "  self.df_train['Poem'] = self.df_train['Poem'].str.replace('shade.When', 'shade. When')\n",
      "c:\\Users\\Jesli's Laptop\\Desktop\\Acads\\MLO\\mlo-final-project\\code\\model.py:37: FutureWarning: The default value of regex will change from True to False in a future version.\n",
      "  self.df_train['Poem'] = self.df_train['Poem'].str.replace('afraid.Now', 'afraid. Now')\n",
      "c:\\Users\\Jesli's Laptop\\Desktop\\Acads\\MLO\\mlo-final-project\\code\\model.py:39: FutureWarning: The default value of regex will change from True to False in a future version.\n",
      "  self.df_train['Poem'] = self.df_train['Poem'].str.replace('afraid.Now,', 'afraid. Now,')\n",
      "c:\\Users\\Jesli's Laptop\\Desktop\\Acads\\MLO\\mlo-final-project\\code\\model.py:40: FutureWarning: The default value of regex will change from True to False in a future version.\n",
      "  self.df_train['Poem'] = self.df_train['Poem'].str.replace('Big Game.Bigger', 'Big Game. Bigger')\n",
      "[nltk_data] Downloading package stopwords to C:\\Users\\Jesli's\n",
      "[nltk_data]     Laptop\\AppData\\Roaming\\nltk_data...\n",
      "[nltk_data]   Package stopwords is already up-to-date!\n"
     ]
    },
    {
     "name": "stdout",
     "output_type": "stream",
     "text": [
      "21/21 [==============================] - 1s 15ms/step - loss: 1.4297 - acc: 0.3274 - val_loss: 1.2609 - val_acc: 0.3690\n",
      "Epoch 2/50\n",
      "21/21 [==============================] - 0s 8ms/step - loss: 1.0703 - acc: 0.5590 - val_loss: 1.5500 - val_acc: 0.4167\n",
      "Epoch 3/50\n",
      "21/21 [==============================] - 0s 8ms/step - loss: 0.9367 - acc: 0.6293 - val_loss: 1.7858 - val_acc: 0.3036\n",
      "Epoch 4/50\n",
      "21/21 [==============================] - 0s 9ms/step - loss: 0.8187 - acc: 0.6846 - val_loss: 1.5879 - val_acc: 0.4286\n",
      "Epoch 5/50\n",
      "21/21 [==============================] - 0s 9ms/step - loss: 0.7428 - acc: 0.7324 - val_loss: 2.1152 - val_acc: 0.3690\n",
      "Epoch 6/50\n",
      "21/21 [==============================] - 0s 8ms/step - loss: 0.7526 - acc: 0.7250 - val_loss: 2.1896 - val_acc: 0.3810\n",
      "Epoch 7/50\n",
      "21/21 [==============================] - 0s 8ms/step - loss: 0.6954 - acc: 0.7489 - val_loss: 2.1712 - val_acc: 0.3929\n",
      "Epoch 8/50\n",
      "21/21 [==============================] - 0s 8ms/step - loss: 0.5392 - acc: 0.8012 - val_loss: 2.6747 - val_acc: 0.3869\n",
      "Epoch 9/50\n",
      "21/21 [==============================] - 0s 8ms/step - loss: 0.5935 - acc: 0.7982 - val_loss: 2.5879 - val_acc: 0.3869\n",
      "Epoch 10/50\n",
      "21/21 [==============================] - 0s 8ms/step - loss: 0.5579 - acc: 0.8102 - val_loss: 2.9789 - val_acc: 0.3512\n",
      "Epoch 11/50\n",
      "21/21 [==============================] - 0s 8ms/step - loss: 0.4921 - acc: 0.8281 - val_loss: 3.3255 - val_acc: 0.3274\n",
      "Epoch 12/50\n",
      "21/21 [==============================] - 0s 8ms/step - loss: 0.5091 - acc: 0.8550 - val_loss: 3.3272 - val_acc: 0.4167\n",
      "Epoch 13/50\n",
      "21/21 [==============================] - 0s 8ms/step - loss: 0.5410 - acc: 0.8236 - val_loss: 3.4341 - val_acc: 0.3452\n",
      "Epoch 14/50\n",
      "21/21 [==============================] - 0s 9ms/step - loss: 0.5154 - acc: 0.8341 - val_loss: 3.7797 - val_acc: 0.3036\n",
      "Epoch 15/50\n",
      "21/21 [==============================] - 0s 8ms/step - loss: 0.5349 - acc: 0.8176 - val_loss: 3.6319 - val_acc: 0.3214\n",
      "Epoch 16/50\n",
      "21/21 [==============================] - 0s 10ms/step - loss: 0.4504 - acc: 0.8655 - val_loss: 3.6531 - val_acc: 0.3333\n",
      "Epoch 17/50\n",
      "21/21 [==============================] - 0s 9ms/step - loss: 0.4533 - acc: 0.8535 - val_loss: 4.1961 - val_acc: 0.3155\n",
      "Epoch 18/50\n",
      "21/21 [==============================] - 0s 10ms/step - loss: 0.4498 - acc: 0.8460 - val_loss: 4.2242 - val_acc: 0.3690\n",
      "Epoch 19/50\n",
      "21/21 [==============================] - 0s 9ms/step - loss: 0.4384 - acc: 0.8714 - val_loss: 4.7122 - val_acc: 0.3333\n",
      "Epoch 20/50\n",
      "21/21 [==============================] - 0s 8ms/step - loss: 0.5500 - acc: 0.8490 - val_loss: 4.6828 - val_acc: 0.3452\n",
      "Epoch 21/50\n",
      "21/21 [==============================] - 0s 8ms/step - loss: 0.3797 - acc: 0.8924 - val_loss: 4.9381 - val_acc: 0.3452\n",
      "Epoch 22/50\n",
      "21/21 [==============================] - 0s 9ms/step - loss: 0.5455 - acc: 0.8550 - val_loss: 5.2243 - val_acc: 0.2857\n",
      "Epoch 23/50\n",
      "21/21 [==============================] - 0s 9ms/step - loss: 0.4956 - acc: 0.8475 - val_loss: 4.9937 - val_acc: 0.3690\n",
      "Epoch 24/50\n",
      "21/21 [==============================] - 0s 8ms/step - loss: 0.4142 - acc: 0.8864 - val_loss: 5.1006 - val_acc: 0.3452\n",
      "Epoch 25/50\n",
      "21/21 [==============================] - 0s 8ms/step - loss: 0.4032 - acc: 0.8879 - val_loss: 5.1635 - val_acc: 0.3333\n",
      "Epoch 26/50\n",
      "21/21 [==============================] - 0s 8ms/step - loss: 0.5015 - acc: 0.8714 - val_loss: 5.2102 - val_acc: 0.3631\n",
      "Epoch 27/50\n",
      "21/21 [==============================] - 0s 8ms/step - loss: 0.4649 - acc: 0.8729 - val_loss: 5.0902 - val_acc: 0.3512\n",
      "Epoch 28/50\n",
      "21/21 [==============================] - 0s 8ms/step - loss: 0.4870 - acc: 0.8700 - val_loss: 5.0042 - val_acc: 0.3333\n",
      "Epoch 29/50\n",
      "21/21 [==============================] - 0s 8ms/step - loss: 0.3751 - acc: 0.8894 - val_loss: 4.7541 - val_acc: 0.3571\n",
      "Epoch 30/50\n",
      "21/21 [==============================] - 0s 8ms/step - loss: 0.3657 - acc: 0.9043 - val_loss: 5.1967 - val_acc: 0.3690\n",
      "Epoch 31/50\n",
      "21/21 [==============================] - 0s 8ms/step - loss: 0.4958 - acc: 0.8744 - val_loss: 5.6159 - val_acc: 0.3393\n",
      "Epoch 32/50\n",
      "21/21 [==============================] - 0s 8ms/step - loss: 0.4887 - acc: 0.8655 - val_loss: 5.7537 - val_acc: 0.3393\n",
      "Epoch 33/50\n",
      "21/21 [==============================] - 0s 8ms/step - loss: 0.5022 - acc: 0.8655 - val_loss: 5.8238 - val_acc: 0.3214\n",
      "Epoch 34/50\n",
      "21/21 [==============================] - 0s 8ms/step - loss: 0.4558 - acc: 0.8774 - val_loss: 5.4871 - val_acc: 0.3333\n",
      "Epoch 35/50\n",
      "21/21 [==============================] - 0s 9ms/step - loss: 0.4117 - acc: 0.8804 - val_loss: 5.7789 - val_acc: 0.3393\n",
      "Epoch 36/50\n",
      "21/21 [==============================] - 0s 8ms/step - loss: 0.4650 - acc: 0.8849 - val_loss: 5.8958 - val_acc: 0.3214\n",
      "Epoch 37/50\n",
      "21/21 [==============================] - 0s 8ms/step - loss: 0.3829 - acc: 0.8924 - val_loss: 5.7492 - val_acc: 0.3452\n",
      "Epoch 38/50\n",
      "21/21 [==============================] - 0s 8ms/step - loss: 0.4299 - acc: 0.8894 - val_loss: 6.4457 - val_acc: 0.3214\n",
      "Epoch 39/50\n",
      "21/21 [==============================] - 0s 8ms/step - loss: 0.4326 - acc: 0.8849 - val_loss: 6.3590 - val_acc: 0.3393\n",
      "Epoch 40/50\n",
      "21/21 [==============================] - 0s 8ms/step - loss: 0.5407 - acc: 0.8670 - val_loss: 6.4236 - val_acc: 0.3690\n",
      "Epoch 41/50\n",
      "21/21 [==============================] - 0s 8ms/step - loss: 0.4741 - acc: 0.8834 - val_loss: 6.3702 - val_acc: 0.3274\n",
      "Epoch 42/50\n",
      "21/21 [==============================] - 0s 8ms/step - loss: 0.3930 - acc: 0.8894 - val_loss: 7.1719 - val_acc: 0.3452\n",
      "Epoch 43/50\n",
      "21/21 [==============================] - 0s 8ms/step - loss: 0.5067 - acc: 0.8834 - val_loss: 6.7517 - val_acc: 0.3333\n",
      "Epoch 44/50\n",
      "21/21 [==============================] - 0s 8ms/step - loss: 0.4719 - acc: 0.8789 - val_loss: 7.0214 - val_acc: 0.3750\n",
      "Epoch 45/50\n",
      "21/21 [==============================] - 0s 8ms/step - loss: 0.5965 - acc: 0.8700 - val_loss: 7.0663 - val_acc: 0.3750\n",
      "Epoch 46/50\n",
      "21/21 [==============================] - 0s 8ms/step - loss: 0.5130 - acc: 0.8909 - val_loss: 7.1259 - val_acc: 0.2976\n",
      "Epoch 47/50\n",
      "21/21 [==============================] - 0s 8ms/step - loss: 0.5164 - acc: 0.8789 - val_loss: 6.7575 - val_acc: 0.3690\n",
      "Epoch 48/50\n",
      "21/21 [==============================] - 0s 8ms/step - loss: 0.5364 - acc: 0.8834 - val_loss: 6.7231 - val_acc: 0.3452\n",
      "Epoch 49/50\n",
      "21/21 [==============================] - 0s 8ms/step - loss: 0.4026 - acc: 0.9028 - val_loss: 7.0849 - val_acc: 0.3274\n",
      "Epoch 50/50\n",
      "21/21 [==============================] - 0s 8ms/step - loss: 0.4613 - acc: 0.8954 - val_loss: 7.2955 - val_acc: 0.3571\n",
      "5/5 [==============================] - 0s 3ms/step - loss: 8.5379 - acc: 0.2533\n"
     ]
    },
    {
     "data": {
      "text/html": [
       "Waiting for W&B process to finish... <strong style=\"color:green\">(success).</strong>"
      ],
      "text/plain": [
       "<IPython.core.display.HTML object>"
      ]
     },
     "metadata": {},
     "output_type": "display_data"
    },
    {
     "data": {
      "text/html": [
       "<style>\n",
       "    table.wandb td:nth-child(1) { padding: 0 10px; text-align: left ; width: auto;} td:nth-child(2) {text-align: left ; width: 100%}\n",
       "    .wandb-row { display: flex; flex-direction: row; flex-wrap: wrap; justify-content: flex-start; width: 100% }\n",
       "    .wandb-col { display: flex; flex-direction: column; flex-basis: 100%; flex: 1; padding: 10px; }\n",
       "    </style>\n",
       "<div class=\"wandb-row\"><div class=\"wandb-col\"><h3>Run history:</h3><br/><table class=\"wandb\"><tr><td>test_acc</td><td>▁</td></tr><tr><td>test_loss</td><td>▁</td></tr><tr><td>train_acc</td><td>▁▄▅▅▆▆▇▇▇█▇▇█▇▇███▇█████████████████████</td></tr><tr><td>train_loss</td><td>█▆▅▄▄▃▂▂▂▂▂▂▁▂▁▁▁▂▂▁▂▂▂▁▂▂▂▂▂▁▁▁▂▁▂▂▂▂▂▂</td></tr><tr><td>val_acc</td><td>▅▇▂█▆▆▆▆▃▇▄▂▃▂▅▃▄▁▅▄▅▄▃▅▄▄▃▃▃▄▃▄▃▄▃▅▂▅▄▅</td></tr><tr><td>val_loss</td><td>▁▁▂▁▂▂▃▃▃▃▄▄▄▄▄▅▅▆▅▅▆▅▅▅▆▆▆▆▆▆▇▇▇█▇██▇▇█</td></tr></table><br/></div><div class=\"wandb-col\"><h3>Run summary:</h3><br/><table class=\"wandb\"><tr><td>test_acc</td><td>0.25333</td></tr><tr><td>test_loss</td><td>8.53791</td></tr><tr><td>train_acc</td><td>0.89537</td></tr><tr><td>train_loss</td><td>0.46126</td></tr><tr><td>val_acc</td><td>0.35714</td></tr><tr><td>val_loss</td><td>7.29549</td></tr></table><br/></div></div>"
      ],
      "text/plain": [
       "<IPython.core.display.HTML object>"
      ]
     },
     "metadata": {},
     "output_type": "display_data"
    },
    {
     "data": {
      "text/html": [
       " View run <strong style=\"color:#cdcd00\">lunar-sweep-11</strong> at: <a href='https://wandb.ai/msds_mlops2023_lt2/mlo-final-project/runs/kt439d3z' target=\"_blank\">https://wandb.ai/msds_mlops2023_lt2/mlo-final-project/runs/kt439d3z</a><br/>Synced 5 W&B file(s), 0 media file(s), 0 artifact file(s) and 0 other file(s)"
      ],
      "text/plain": [
       "<IPython.core.display.HTML object>"
      ]
     },
     "metadata": {},
     "output_type": "display_data"
    },
    {
     "data": {
      "text/html": [
       "Find logs at: <code>.\\wandb\\run-20230910_140915-kt439d3z\\logs</code>"
      ],
      "text/plain": [
       "<IPython.core.display.HTML object>"
      ]
     },
     "metadata": {},
     "output_type": "display_data"
    }
   ],
   "source": [
    "# define hyperparam search function\n",
    "def hyperparam_search(config=None):\n",
    "    # Initialize a new wandb run\n",
    "    with wandb.init(config=config):\n",
    "        # If called by wandb.agent, as below,\n",
    "        # this config will be set by Sweep Controller\n",
    "        config = wandb.config\n",
    "        # use config params\n",
    "        learning_rate = config.learning_rate\n",
    "        optimizer = config.optimizer\n",
    "        embedding_dim = config.embedding_dim\n",
    "        epochs = config.epochs\n",
    "\n",
    "        # define model\n",
    "        _model = poem_classifier_model()\n",
    "\n",
    "        _model.load_data()\n",
    "        _model.preprocess()\n",
    "        _model.train(embd_dim=embedding_dim, epochs=epochs, lr=learning_rate, optimizer=optimizer)\n",
    "\n",
    "        for i in range(epochs):\n",
    "            wandb.log({\"train_loss\": _model.trained_model.history['loss'][i],\n",
    "                       \"train_acc\": _model.trained_model.history['acc'][i],\n",
    "                       \"val_loss\": _model.trained_model.history['val_loss'][i], \n",
    "                       \"val_acc\": _model.trained_model.history['val_acc'][i]})\n",
    "        \n",
    "        results = _model.test()\n",
    "        wandb.log({\"test_loss\": results[0], \"test_acc\": results[1]})\n",
    "\n",
    "wandb.agent(sweep_id, hyperparam_search, count=10) # count - num iters"
   ]
  },
  {
   "cell_type": "code",
   "execution_count": 9,
   "metadata": {},
   "outputs": [],
   "source": [
    "wandb.finish()"
   ]
  },
  {
   "cell_type": "code",
   "execution_count": null,
   "metadata": {},
   "outputs": [],
   "source": []
  }
 ],
 "metadata": {
  "kernelspec": {
   "display_name": "Python 3",
   "language": "python",
   "name": "python3"
  },
  "language_info": {
   "codemirror_mode": {
    "name": "ipython",
    "version": 3
   },
   "file_extension": ".py",
   "mimetype": "text/x-python",
   "name": "python",
   "nbconvert_exporter": "python",
   "pygments_lexer": "ipython3",
   "version": "3.9.2"
  },
  "orig_nbformat": 4
 },
 "nbformat": 4,
 "nbformat_minor": 2
}
