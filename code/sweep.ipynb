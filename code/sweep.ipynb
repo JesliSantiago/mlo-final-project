{
 "cells": [
  {
   "cell_type": "markdown",
   "metadata": {},
   "source": [
    "# Sweeps notebook"
   ]
  },
  {
   "cell_type": "code",
   "execution_count": 1,
   "metadata": {},
   "outputs": [
    {
     "name": "stderr",
     "output_type": "stream",
     "text": [
      "c:\\Users\\Jesli's Laptop\\AppData\\Local\\Programs\\Python\\Python39\\lib\\site-packages\\torchaudio\\backend\\utils.py:74: UserWarning: No audio backend is available.\n",
      "  warnings.warn(\"No audio backend is available.\")\n"
     ]
    }
   ],
   "source": [
    "import numpy as np\n",
    "import matplotlib.pyplot as plt\n",
    "import pprint\n",
    "import os\n",
    "import re\n",
    "import json\n",
    "import sys\n",
    "import wandb\n",
    "from model import *\n",
    "from pytorch_lightning.loggers import WandbLogger\n",
    "import tensorflow"
   ]
  },
  {
   "cell_type": "code",
   "execution_count": 2,
   "metadata": {},
   "outputs": [],
   "source": [
    "# Define sweep config\n",
    "sweep_config = {\n",
    "    'method': 'random' # random, grid, or bayes\n",
    "    }"
   ]
  },
  {
   "cell_type": "code",
   "execution_count": 3,
   "metadata": {},
   "outputs": [],
   "source": [
    "# Define metric\n",
    "metric = {\n",
    "    'name': 'val_loss',\n",
    "    'goal': 'minimize'   # minimize or maximize\n",
    "    }\n",
    "# add in sweep_config\n",
    "sweep_config['metric'] = metric"
   ]
  },
  {
   "cell_type": "code",
   "execution_count": 4,
   "metadata": {},
   "outputs": [],
   "source": [
    "epochs = 10\n",
    "count = 3\n",
    "architecture = 'CNN'\n",
    "dataset = 'Poems'\n",
    "# Define hyperparameter space\n",
    "parameters_dict = {\n",
    "    'optimizer': {\n",
    "        'values': ['adam', 'sgd']\n",
    "        },\n",
    "    'embedding_dim': {\n",
    "        'values': [128, 256, 512]\n",
    "        },\n",
    "    }\n",
    "# we can indicate the distribution for continuous variables\n",
    "parameters_dict.update({\n",
    "    'learning_rate': {\n",
    "        # a flat distribution between 0 and 0.1\n",
    "        'distribution': 'uniform',\n",
    "        'min': 0.0001,\n",
    "        'max': 0.1\n",
    "      }\n",
    "    })\n",
    "# we set values that we want to track but don't want to change, just indicate 1 value\n",
    "parameters_dict.update({\n",
    "    'epochs': {'value': epochs},\n",
    "    \"architecture\":{'value': architecture},\n",
    "    \"dataset\": {'value': dataset},        \n",
    "    })\n",
    "# add params in sweep_config\n",
    "sweep_config['parameters'] = parameters_dict"
   ]
  },
  {
   "cell_type": "code",
   "execution_count": 5,
   "metadata": {},
   "outputs": [
    {
     "name": "stdout",
     "output_type": "stream",
     "text": [
      "{'method': 'random',\n",
      " 'metric': {'goal': 'minimize', 'name': 'val_loss'},\n",
      " 'parameters': {'architecture': {'value': 'CNN'},\n",
      "                'dataset': {'value': 'Poems'},\n",
      "                'embedding_dim': {'values': [128, 256, 512]},\n",
      "                'epochs': {'value': 10},\n",
      "                'learning_rate': {'distribution': 'uniform',\n",
      "                                  'max': 0.1,\n",
      "                                  'min': 0.0001},\n",
      "                'optimizer': {'values': ['adam', 'sgd']}}}\n"
     ]
    }
   ],
   "source": [
    "pprint.pprint(sweep_config)"
   ]
  },
  {
   "cell_type": "code",
   "execution_count": 6,
   "metadata": {},
   "outputs": [
    {
     "name": "stderr",
     "output_type": "stream",
     "text": [
      "Failed to detect the name of this notebook, you can set it manually with the WANDB_NOTEBOOK_NAME environment variable to enable code saving.\n",
      "\u001b[34m\u001b[1mwandb\u001b[0m: Currently logged in as: \u001b[33mjjdsantiago3\u001b[0m (\u001b[33mmsds_mlops2023_lt2\u001b[0m). Use \u001b[1m`wandb login --relogin`\u001b[0m to force relogin\n"
     ]
    },
    {
     "data": {
      "text/plain": [
       "True"
      ]
     },
     "execution_count": 6,
     "metadata": {},
     "output_type": "execute_result"
    }
   ],
   "source": [
    "# Log in to weights and biases\n",
    "wandb.login()"
   ]
  },
  {
   "cell_type": "code",
   "execution_count": 7,
   "metadata": {},
   "outputs": [
    {
     "name": "stdout",
     "output_type": "stream",
     "text": [
      "Create sweep with ID: su7b1vnn\n",
      "Sweep URL: https://wandb.ai/msds_mlops2023_lt2/mlo-final-project/sweeps/su7b1vnn\n"
     ]
    }
   ],
   "source": [
    "sweep_id = wandb.sweep(sweep_config, project=\"mlo-final-project\")"
   ]
  },
  {
   "cell_type": "code",
   "execution_count": 8,
   "metadata": {},
   "outputs": [
    {
     "name": "stderr",
     "output_type": "stream",
     "text": [
      "\u001b[34m\u001b[1mwandb\u001b[0m: Agent Starting Run: iucm24k0 with config:\n",
      "\u001b[34m\u001b[1mwandb\u001b[0m: \tarchitecture: CNN\n",
      "\u001b[34m\u001b[1mwandb\u001b[0m: \tdataset: Poems\n",
      "\u001b[34m\u001b[1mwandb\u001b[0m: \tembedding_dim: 128\n",
      "\u001b[34m\u001b[1mwandb\u001b[0m: \tepochs: 10\n",
      "\u001b[34m\u001b[1mwandb\u001b[0m: \tlearning_rate: 0.05715589243162577\n",
      "\u001b[34m\u001b[1mwandb\u001b[0m: \toptimizer: adam\n",
      "Failed to detect the name of this notebook, you can set it manually with the WANDB_NOTEBOOK_NAME environment variable to enable code saving.\n"
     ]
    },
    {
     "data": {
      "text/html": [
       "Tracking run with wandb version 0.15.10"
      ],
      "text/plain": [
       "<IPython.core.display.HTML object>"
      ]
     },
     "metadata": {},
     "output_type": "display_data"
    },
    {
     "data": {
      "text/html": [
       "Run data is saved locally in <code>c:\\Users\\Jesli's Laptop\\Desktop\\Acads\\MLO\\mlo-final-project\\code\\wandb\\run-20230910_193222-iucm24k0</code>"
      ],
      "text/plain": [
       "<IPython.core.display.HTML object>"
      ]
     },
     "metadata": {},
     "output_type": "display_data"
    },
    {
     "data": {
      "text/html": [
       "Syncing run <strong><a href='https://wandb.ai/msds_mlops2023_lt2/mlo-final-project/runs/iucm24k0' target=\"_blank\">swept-sweep-1</a></strong> to <a href='https://wandb.ai/msds_mlops2023_lt2/mlo-final-project' target=\"_blank\">Weights & Biases</a> (<a href='https://wandb.me/run' target=\"_blank\">docs</a>)<br/>Sweep page: <a href='https://wandb.ai/msds_mlops2023_lt2/mlo-final-project/sweeps/su7b1vnn' target=\"_blank\">https://wandb.ai/msds_mlops2023_lt2/mlo-final-project/sweeps/su7b1vnn</a>"
      ],
      "text/plain": [
       "<IPython.core.display.HTML object>"
      ]
     },
     "metadata": {},
     "output_type": "display_data"
    },
    {
     "data": {
      "text/html": [
       " View project at <a href='https://wandb.ai/msds_mlops2023_lt2/mlo-final-project' target=\"_blank\">https://wandb.ai/msds_mlops2023_lt2/mlo-final-project</a>"
      ],
      "text/plain": [
       "<IPython.core.display.HTML object>"
      ]
     },
     "metadata": {},
     "output_type": "display_data"
    },
    {
     "data": {
      "text/html": [
       " View sweep at <a href='https://wandb.ai/msds_mlops2023_lt2/mlo-final-project/sweeps/su7b1vnn' target=\"_blank\">https://wandb.ai/msds_mlops2023_lt2/mlo-final-project/sweeps/su7b1vnn</a>"
      ],
      "text/plain": [
       "<IPython.core.display.HTML object>"
      ]
     },
     "metadata": {},
     "output_type": "display_data"
    },
    {
     "data": {
      "text/html": [
       " View run at <a href='https://wandb.ai/msds_mlops2023_lt2/mlo-final-project/runs/iucm24k0' target=\"_blank\">https://wandb.ai/msds_mlops2023_lt2/mlo-final-project/runs/iucm24k0</a>"
      ],
      "text/plain": [
       "<IPython.core.display.HTML object>"
      ]
     },
     "metadata": {},
     "output_type": "display_data"
    },
    {
     "name": "stderr",
     "output_type": "stream",
     "text": [
      "c:\\Users\\Jesli's Laptop\\Desktop\\Acads\\MLO\\mlo-final-project\\code\\model.py:47: FutureWarning: The default value of regex will change from True to False in a future version.\n",
      "  self.df_train['Poem'] = self.df_train['Poem'].str.replace('shade.When', 'shade. When')\n",
      "c:\\Users\\Jesli's Laptop\\Desktop\\Acads\\MLO\\mlo-final-project\\code\\model.py:48: FutureWarning: The default value of regex will change from True to False in a future version.\n",
      "  self.df_train['Poem'] = self.df_train['Poem'].str.replace('afraid.Now', 'afraid. Now')\n",
      "c:\\Users\\Jesli's Laptop\\Desktop\\Acads\\MLO\\mlo-final-project\\code\\model.py:50: FutureWarning: The default value of regex will change from True to False in a future version.\n",
      "  self.df_train['Poem'] = self.df_train['Poem'].str.replace('afraid.Now,', 'afraid. Now,')\n",
      "c:\\Users\\Jesli's Laptop\\Desktop\\Acads\\MLO\\mlo-final-project\\code\\model.py:51: FutureWarning: The default value of regex will change from True to False in a future version.\n",
      "  self.df_train['Poem'] = self.df_train['Poem'].str.replace('Big Game.Bigger', 'Big Game. Bigger')\n",
      "[nltk_data] Downloading package stopwords to C:\\Users\\Jesli's\n",
      "[nltk_data]     Laptop\\AppData\\Roaming\\nltk_data...\n",
      "[nltk_data]   Package stopwords is already up-to-date!\n"
     ]
    },
    {
     "name": "stdout",
     "output_type": "stream",
     "text": [
      "[[  0   0   0 ...   5   2 129]\n",
      " [  0   0   0 ... 247 398   2]\n",
      " [  0   0   0 ...   1 109  63]\n",
      " ...\n",
      " [  0   0   0 ...  29   1   2]\n",
      " [  0   0   0 ... 210  18   1]\n",
      " [  0   0   0 ...  19  11 361]]\n",
      "tf.Tensor(\n",
      "[3. 3. 3. 0. 2. 1. 2. 1. 2. 1. 2. 2. 3. 1. 3. 1. 1. 3. 3. 2. 0. 2. 3. 3.\n",
      " 1. 2. 2. 0. 2. 3. 2. 2. 3. 3. 3. 1. 3. 3. 1. 1. 3. 3. 1. 2. 1. 3. 1. 0.\n",
      " 3. 0. 1. 1. 0. 3. 1. 0. 2. 0. 1. 3. 2. 3. 2. 1. 1. 2. 2. 2. 1. 1. 3. 2.\n",
      " 1. 3. 2. 3. 1. 2. 3. 3. 1. 3. 1. 2. 1. 3. 1. 0. 2. 3. 1. 3. 1. 0. 2. 3.\n",
      " 3. 1. 2. 0. 3. 0. 2. 0. 1. 1. 2. 2. 1. 3. 1. 1. 2. 1. 1. 3. 2. 0. 2. 3.\n",
      " 1. 1. 1. 2. 2. 0. 1. 0. 1. 0. 1. 1. 2. 1. 1. 3. 1. 1. 3. 2. 2. 2. 2. 2.\n",
      " 0. 3. 2. 0. 2. 3. 0. 2. 3. 1. 3. 2. 3. 2. 1. 1. 1. 1. 2. 3. 2. 3. 3. 1.\n",
      " 2. 3. 1. 2. 1. 1. 3. 2. 2. 0. 2. 0. 0. 0. 3. 3. 0. 2. 1. 1. 2. 1. 1. 1.\n",
      " 2. 2. 1. 1. 3. 3. 2. 2. 2. 2. 2. 0. 1. 0. 2. 0. 3. 2. 1. 3. 3. 2. 2. 3.\n",
      " 3. 0. 3. 3. 3. 0. 1. 1. 0. 2. 2. 1. 2. 3. 2. 2. 0. 2. 3. 3. 1. 0. 2. 1.\n",
      " 1. 0. 0. 3. 1. 1. 0. 1. 1. 1. 0. 0. 3. 3. 1. 1. 1. 3. 2. 2. 3. 3. 3. 3.\n",
      " 1. 3. 3. 0. 1. 0. 0. 2. 1. 3. 2. 3. 2. 3. 1. 3. 1. 2. 1. 0. 3. 1. 3. 2.\n",
      " 2. 3. 3. 1. 1. 2. 1. 3. 0. 3. 3. 0. 2. 2. 3. 1. 2. 2. 3. 0. 3. 3. 2. 1.\n",
      " 2. 2. 0. 2. 1. 3. 3. 1. 1. 1. 1. 2. 0. 1. 2. 2. 0. 2. 3. 2. 3. 2. 0. 3.\n",
      " 1. 3. 3. 0. 3. 1. 3. 3. 3. 1. 3. 2. 2. 2. 1. 1. 3. 0. 3. 1. 2. 0. 0. 3.\n",
      " 1. 2. 1. 0. 2. 1. 1. 2. 2. 0. 2. 2. 0. 3. 2. 3. 2. 0. 1. 2. 2. 0. 3. 3.\n",
      " 3. 2. 2. 2. 2. 2. 3. 2. 2. 0. 1. 2. 1. 2. 2. 0. 3. 3. 2. 0. 1. 3. 2. 0.\n",
      " 2. 2. 2. 2. 2. 0. 3. 3. 0. 0. 2. 3. 2. 3. 0. 1. 2. 2. 2. 0. 1. 2. 0. 3.\n",
      " 1. 1. 3. 3. 2. 3. 3. 0. 1. 3. 2. 1. 0. 2. 2. 3. 0. 2. 3. 0. 2. 0. 3. 2.\n",
      " 3. 1. 3. 1. 1. 3. 2. 3. 1. 1. 3. 3. 0. 2. 0. 3. 2. 3. 2. 1. 2. 1. 2. 0.\n",
      " 1. 0. 3. 0. 2. 0. 1. 2. 0. 0. 2. 3. 1. 3. 1. 1. 2. 2. 0. 1. 3. 1. 1. 1.\n",
      " 2. 0. 1. 1. 0. 2. 1. 3. 1. 3. 3. 1. 3. 2. 3. 3. 3. 2. 3. 3. 2. 3. 2. 3.\n",
      " 0. 2. 1. 1. 1. 3. 2. 1. 1. 3. 1. 3. 0. 1. 0. 2. 2. 2. 3. 3. 1. 3. 1. 2.\n",
      " 1. 1. 3. 3. 3. 1. 2. 1. 1. 0. 3. 1. 0. 2. 0. 1. 2. 3. 1. 0. 1. 1. 0. 2.\n",
      " 3. 0. 3. 2. 2. 3. 2. 3. 3. 1. 1. 0. 3. 2. 2. 0. 2. 1. 3. 1. 2. 2. 3. 1.\n",
      " 2. 3. 3. 1. 0. 2. 1. 3. 3. 1. 1. 2. 1. 2. 3. 1. 2. 1. 3. 3. 3. 0. 3. 2.\n",
      " 1. 0. 2. 3. 0. 2. 2. 3. 1. 2. 0. 3. 1. 2. 1. 1. 0. 3. 1. 2. 1. 1. 2. 3.\n",
      " 2. 0. 0. 2. 3. 1. 0. 1. 2. 3. 1. 2. 1. 2. 0. 3. 1. 2. 0. 2. 1.], shape=(669,), dtype=float32)\n",
      "Epoch 1/10\n"
     ]
    },
    {
     "name": "stderr",
     "output_type": "stream",
     "text": [
      "Traceback (most recent call last):\n",
      "  File \"C:\\Users\\Jesli's Laptop\\AppData\\Local\\Temp\\ipykernel_32032\\3043076251.py\", line 19, in hyperparam_search\n",
      "    _model.train(embd_dim=embedding_dim, epochs=epochs, lr=learning_rate, optimizer=optimizer)\n",
      "  File \"c:\\Users\\Jesli's Laptop\\Desktop\\Acads\\MLO\\mlo-final-project\\code\\model.py\", line 113, in train\n",
      "    self.trained_model = self.model.fit(inpt_tr, otpt_tr, epochs=epochs, validation_data=(inpt_ts, otpt_ts))\n",
      "  File \"c:\\Users\\Jesli's Laptop\\AppData\\Local\\Programs\\Python\\Python39\\lib\\site-packages\\keras\\src\\utils\\traceback_utils.py\", line 70, in error_handler\n",
      "    raise e.with_traceback(filtered_tb) from None\n",
      "  File \"C:\\Users\\JESLI'~1\\AppData\\Local\\Temp\\__autograph_generated_filegr136j1a.py\", line 15, in tf__train_function\n",
      "    retval_ = ag__.converted_call(ag__.ld(step_function), (ag__.ld(self), ag__.ld(iterator)), None, fscope)\n",
      "ValueError: in user code:\n",
      "\n",
      "    File \"c:\\Users\\Jesli's Laptop\\AppData\\Local\\Programs\\Python\\Python39\\lib\\site-packages\\keras\\src\\engine\\training.py\", line 1338, in train_function  *\n",
      "        return step_function(self, iterator)\n",
      "    File \"c:\\Users\\Jesli's Laptop\\AppData\\Local\\Programs\\Python\\Python39\\lib\\site-packages\\keras\\src\\engine\\training.py\", line 1322, in step_function  **\n",
      "        outputs = model.distribute_strategy.run(run_step, args=(data,))\n",
      "    File \"c:\\Users\\Jesli's Laptop\\AppData\\Local\\Programs\\Python\\Python39\\lib\\site-packages\\keras\\src\\engine\\training.py\", line 1303, in run_step  **\n",
      "        outputs = model.train_step(data)\n",
      "    File \"c:\\Users\\Jesli's Laptop\\AppData\\Local\\Programs\\Python\\Python39\\lib\\site-packages\\keras\\src\\engine\\training.py\", line 1085, in train_step\n",
      "        return self.compute_metrics(x, y, y_pred, sample_weight)\n",
      "    File \"c:\\Users\\Jesli's Laptop\\AppData\\Local\\Programs\\Python\\Python39\\lib\\site-packages\\keras\\src\\engine\\training.py\", line 1179, in compute_metrics\n",
      "        self.compiled_metrics.update_state(y, y_pred, sample_weight)\n",
      "    File \"c:\\Users\\Jesli's Laptop\\AppData\\Local\\Programs\\Python\\Python39\\lib\\site-packages\\keras\\src\\engine\\compile_utils.py\", line 605, in update_state\n",
      "        metric_obj.update_state(y_t, y_p, sample_weight=mask)\n",
      "    File \"c:\\Users\\Jesli's Laptop\\AppData\\Local\\Programs\\Python\\Python39\\lib\\site-packages\\keras\\src\\utils\\metrics_utils.py\", line 77, in decorated\n",
      "        update_op = update_state_fn(*args, **kwargs)\n",
      "    File \"c:\\Users\\Jesli's Laptop\\AppData\\Local\\Programs\\Python\\Python39\\lib\\site-packages\\keras\\src\\metrics\\base_metric.py\", line 140, in update_state_fn\n",
      "        return ag_update_state(*args, **kwargs)\n",
      "    File \"c:\\Users\\Jesli's Laptop\\AppData\\Local\\Programs\\Python\\Python39\\lib\\site-packages\\keras\\src\\metrics\\f_score_metrics.py\", line 204, in update_state  **\n",
      "        self.intermediate_weights.assign_add(\n",
      "\n",
      "    ValueError: Dimension 0 in both shapes must be equal, but are 4 and 1. Shapes are [4] and [1]. for '{{node AssignAddVariableOp_5}} = AssignAddVariableOp[dtype=DT_FLOAT](AssignAddVariableOp_5/resource, Sum_5)' with input shapes: [], [1].\n",
      "\n"
     ]
    },
    {
     "data": {
      "text/html": [
       "Waiting for W&B process to finish... <strong style=\"color:red\">(failed 1).</strong> Press Ctrl-C to abort syncing."
      ],
      "text/plain": [
       "<IPython.core.display.HTML object>"
      ]
     },
     "metadata": {},
     "output_type": "display_data"
    },
    {
     "data": {
      "text/html": [
       " View run <strong style=\"color:#cdcd00\">swept-sweep-1</strong> at: <a href='https://wandb.ai/msds_mlops2023_lt2/mlo-final-project/runs/iucm24k0' target=\"_blank\">https://wandb.ai/msds_mlops2023_lt2/mlo-final-project/runs/iucm24k0</a><br/>Synced 5 W&B file(s), 0 media file(s), 0 artifact file(s) and 0 other file(s)"
      ],
      "text/plain": [
       "<IPython.core.display.HTML object>"
      ]
     },
     "metadata": {},
     "output_type": "display_data"
    },
    {
     "data": {
      "text/html": [
       "Find logs at: <code>.\\wandb\\run-20230910_193222-iucm24k0\\logs</code>"
      ],
      "text/plain": [
       "<IPython.core.display.HTML object>"
      ]
     },
     "metadata": {},
     "output_type": "display_data"
    },
    {
     "name": "stderr",
     "output_type": "stream",
     "text": [
      "Run iucm24k0 errored: ValueError('in user code:\\n\\n    File \"c:\\\\Users\\\\Jesli\\'s Laptop\\\\AppData\\\\Local\\\\Programs\\\\Python\\\\Python39\\\\lib\\\\site-packages\\\\keras\\\\src\\\\engine\\\\training.py\", line 1338, in train_function  *\\n        return step_function(self, iterator)\\n    File \"c:\\\\Users\\\\Jesli\\'s Laptop\\\\AppData\\\\Local\\\\Programs\\\\Python\\\\Python39\\\\lib\\\\site-packages\\\\keras\\\\src\\\\engine\\\\training.py\", line 1322, in step_function  **\\n        outputs = model.distribute_strategy.run(run_step, args=(data,))\\n    File \"c:\\\\Users\\\\Jesli\\'s Laptop\\\\AppData\\\\Local\\\\Programs\\\\Python\\\\Python39\\\\lib\\\\site-packages\\\\keras\\\\src\\\\engine\\\\training.py\", line 1303, in run_step  **\\n        outputs = model.train_step(data)\\n    File \"c:\\\\Users\\\\Jesli\\'s Laptop\\\\AppData\\\\Local\\\\Programs\\\\Python\\\\Python39\\\\lib\\\\site-packages\\\\keras\\\\src\\\\engine\\\\training.py\", line 1085, in train_step\\n        return self.compute_metrics(x, y, y_pred, sample_weight)\\n    File \"c:\\\\Users\\\\Jesli\\'s Laptop\\\\AppData\\\\Local\\\\Programs\\\\Python\\\\Python39\\\\lib\\\\site-packages\\\\keras\\\\src\\\\engine\\\\training.py\", line 1179, in compute_metrics\\n        self.compiled_metrics.update_state(y, y_pred, sample_weight)\\n    File \"c:\\\\Users\\\\Jesli\\'s Laptop\\\\AppData\\\\Local\\\\Programs\\\\Python\\\\Python39\\\\lib\\\\site-packages\\\\keras\\\\src\\\\engine\\\\compile_utils.py\", line 605, in update_state\\n        metric_obj.update_state(y_t, y_p, sample_weight=mask)\\n    File \"c:\\\\Users\\\\Jesli\\'s Laptop\\\\AppData\\\\Local\\\\Programs\\\\Python\\\\Python39\\\\lib\\\\site-packages\\\\keras\\\\src\\\\utils\\\\metrics_utils.py\", line 77, in decorated\\n        update_op = update_state_fn(*args, **kwargs)\\n    File \"c:\\\\Users\\\\Jesli\\'s Laptop\\\\AppData\\\\Local\\\\Programs\\\\Python\\\\Python39\\\\lib\\\\site-packages\\\\keras\\\\src\\\\metrics\\\\base_metric.py\", line 140, in update_state_fn\\n        return ag_update_state(*args, **kwargs)\\n    File \"c:\\\\Users\\\\Jesli\\'s Laptop\\\\AppData\\\\Local\\\\Programs\\\\Python\\\\Python39\\\\lib\\\\site-packages\\\\keras\\\\src\\\\metrics\\\\f_score_metrics.py\", line 204, in update_state  **\\n        self.intermediate_weights.assign_add(\\n\\n    ValueError: Dimension 0 in both shapes must be equal, but are 4 and 1. Shapes are [4] and [1]. for \\'{{node AssignAddVariableOp_5}} = AssignAddVariableOp[dtype=DT_FLOAT](AssignAddVariableOp_5/resource, Sum_5)\\' with input shapes: [], [1].\\n')\n",
      "\u001b[34m\u001b[1mwandb\u001b[0m: \u001b[32m\u001b[41mERROR\u001b[0m Run iucm24k0 errored: ValueError('in user code:\\n\\n    File \"c:\\\\Users\\\\Jesli\\'s Laptop\\\\AppData\\\\Local\\\\Programs\\\\Python\\\\Python39\\\\lib\\\\site-packages\\\\keras\\\\src\\\\engine\\\\training.py\", line 1338, in train_function  *\\n        return step_function(self, iterator)\\n    File \"c:\\\\Users\\\\Jesli\\'s Laptop\\\\AppData\\\\Local\\\\Programs\\\\Python\\\\Python39\\\\lib\\\\site-packages\\\\keras\\\\src\\\\engine\\\\training.py\", line 1322, in step_function  **\\n        outputs = model.distribute_strategy.run(run_step, args=(data,))\\n    File \"c:\\\\Users\\\\Jesli\\'s Laptop\\\\AppData\\\\Local\\\\Programs\\\\Python\\\\Python39\\\\lib\\\\site-packages\\\\keras\\\\src\\\\engine\\\\training.py\", line 1303, in run_step  **\\n        outputs = model.train_step(data)\\n    File \"c:\\\\Users\\\\Jesli\\'s Laptop\\\\AppData\\\\Local\\\\Programs\\\\Python\\\\Python39\\\\lib\\\\site-packages\\\\keras\\\\src\\\\engine\\\\training.py\", line 1085, in train_step\\n        return self.compute_metrics(x, y, y_pred, sample_weight)\\n    File \"c:\\\\Users\\\\Jesli\\'s Laptop\\\\AppData\\\\Local\\\\Programs\\\\Python\\\\Python39\\\\lib\\\\site-packages\\\\keras\\\\src\\\\engine\\\\training.py\", line 1179, in compute_metrics\\n        self.compiled_metrics.update_state(y, y_pred, sample_weight)\\n    File \"c:\\\\Users\\\\Jesli\\'s Laptop\\\\AppData\\\\Local\\\\Programs\\\\Python\\\\Python39\\\\lib\\\\site-packages\\\\keras\\\\src\\\\engine\\\\compile_utils.py\", line 605, in update_state\\n        metric_obj.update_state(y_t, y_p, sample_weight=mask)\\n    File \"c:\\\\Users\\\\Jesli\\'s Laptop\\\\AppData\\\\Local\\\\Programs\\\\Python\\\\Python39\\\\lib\\\\site-packages\\\\keras\\\\src\\\\utils\\\\metrics_utils.py\", line 77, in decorated\\n        update_op = update_state_fn(*args, **kwargs)\\n    File \"c:\\\\Users\\\\Jesli\\'s Laptop\\\\AppData\\\\Local\\\\Programs\\\\Python\\\\Python39\\\\lib\\\\site-packages\\\\keras\\\\src\\\\metrics\\\\base_metric.py\", line 140, in update_state_fn\\n        return ag_update_state(*args, **kwargs)\\n    File \"c:\\\\Users\\\\Jesli\\'s Laptop\\\\AppData\\\\Local\\\\Programs\\\\Python\\\\Python39\\\\lib\\\\site-packages\\\\keras\\\\src\\\\metrics\\\\f_score_metrics.py\", line 204, in update_state  **\\n        self.intermediate_weights.assign_add(\\n\\n    ValueError: Dimension 0 in both shapes must be equal, but are 4 and 1. Shapes are [4] and [1]. for \\'{{node AssignAddVariableOp_5}} = AssignAddVariableOp[dtype=DT_FLOAT](AssignAddVariableOp_5/resource, Sum_5)\\' with input shapes: [], [1].\\n')\n",
      "\u001b[34m\u001b[1mwandb\u001b[0m: Agent Starting Run: n6xkkqfp with config:\n",
      "\u001b[34m\u001b[1mwandb\u001b[0m: \tarchitecture: CNN\n",
      "\u001b[34m\u001b[1mwandb\u001b[0m: \tdataset: Poems\n",
      "\u001b[34m\u001b[1mwandb\u001b[0m: \tembedding_dim: 512\n",
      "\u001b[34m\u001b[1mwandb\u001b[0m: \tepochs: 10\n",
      "\u001b[34m\u001b[1mwandb\u001b[0m: \tlearning_rate: 0.05701894252871889\n",
      "\u001b[34m\u001b[1mwandb\u001b[0m: \toptimizer: sgd\n",
      "Failed to detect the name of this notebook, you can set it manually with the WANDB_NOTEBOOK_NAME environment variable to enable code saving.\n"
     ]
    },
    {
     "data": {
      "text/html": [
       "Tracking run with wandb version 0.15.10"
      ],
      "text/plain": [
       "<IPython.core.display.HTML object>"
      ]
     },
     "metadata": {},
     "output_type": "display_data"
    },
    {
     "data": {
      "text/html": [
       "Run data is saved locally in <code>c:\\Users\\Jesli's Laptop\\Desktop\\Acads\\MLO\\mlo-final-project\\code\\wandb\\run-20230910_193234-n6xkkqfp</code>"
      ],
      "text/plain": [
       "<IPython.core.display.HTML object>"
      ]
     },
     "metadata": {},
     "output_type": "display_data"
    },
    {
     "data": {
      "text/html": [
       "Syncing run <strong><a href='https://wandb.ai/msds_mlops2023_lt2/mlo-final-project/runs/n6xkkqfp' target=\"_blank\">prime-sweep-2</a></strong> to <a href='https://wandb.ai/msds_mlops2023_lt2/mlo-final-project' target=\"_blank\">Weights & Biases</a> (<a href='https://wandb.me/run' target=\"_blank\">docs</a>)<br/>Sweep page: <a href='https://wandb.ai/msds_mlops2023_lt2/mlo-final-project/sweeps/su7b1vnn' target=\"_blank\">https://wandb.ai/msds_mlops2023_lt2/mlo-final-project/sweeps/su7b1vnn</a>"
      ],
      "text/plain": [
       "<IPython.core.display.HTML object>"
      ]
     },
     "metadata": {},
     "output_type": "display_data"
    },
    {
     "data": {
      "text/html": [
       " View project at <a href='https://wandb.ai/msds_mlops2023_lt2/mlo-final-project' target=\"_blank\">https://wandb.ai/msds_mlops2023_lt2/mlo-final-project</a>"
      ],
      "text/plain": [
       "<IPython.core.display.HTML object>"
      ]
     },
     "metadata": {},
     "output_type": "display_data"
    },
    {
     "data": {
      "text/html": [
       " View sweep at <a href='https://wandb.ai/msds_mlops2023_lt2/mlo-final-project/sweeps/su7b1vnn' target=\"_blank\">https://wandb.ai/msds_mlops2023_lt2/mlo-final-project/sweeps/su7b1vnn</a>"
      ],
      "text/plain": [
       "<IPython.core.display.HTML object>"
      ]
     },
     "metadata": {},
     "output_type": "display_data"
    },
    {
     "data": {
      "text/html": [
       " View run at <a href='https://wandb.ai/msds_mlops2023_lt2/mlo-final-project/runs/n6xkkqfp' target=\"_blank\">https://wandb.ai/msds_mlops2023_lt2/mlo-final-project/runs/n6xkkqfp</a>"
      ],
      "text/plain": [
       "<IPython.core.display.HTML object>"
      ]
     },
     "metadata": {},
     "output_type": "display_data"
    },
    {
     "name": "stdout",
     "output_type": "stream",
     "text": [
      "[[  0   0   0 ...  11 166   1]\n",
      " [  0   0   0 ...   1  76  42]\n",
      " [  0   0   0 ...   3 113   1]\n",
      " ...\n",
      " [  0   0   0 ...  21   1  19]\n",
      " [  0   0   0 ...   1   2  53]\n",
      " [  0   0   0 ...  24 135  17]]\n",
      "tf.Tensor(\n",
      "[3. 2. 2. 2. 2. 1. 3. 0. 1. 1. 1. 3. 2. 2. 1. 0. 2. 3. 1. 3. 1. 3. 2. 1.\n",
      " 2. 3. 1. 1. 3. 3. 1. 1. 3. 3. 0. 2. 3. 2. 1. 2. 3. 2. 3. 2. 1. 1. 2. 3.\n",
      " 2. 1. 0. 3. 0. 0. 1. 1. 0. 0. 0. 3. 1. 3. 2. 3. 2. 3. 0. 1. 3. 3. 1. 3.\n",
      " 3. 2. 2. 0. 3. 3. 1. 1. 1. 3. 2. 1. 1. 2. 1. 0. 2. 3. 1. 3. 3. 1. 3. 3.\n",
      " 3. 2. 2. 0. 1. 0. 3. 3. 3. 3. 0. 1. 3. 3. 3. 3. 2. 1. 0. 2. 1. 0. 2. 0.\n",
      " 1. 2. 2. 3. 1. 3. 3. 3. 2. 3. 2. 0. 0. 3. 2. 3. 1. 2. 1. 2. 2. 1. 3. 3.\n",
      " 0. 3. 2. 3. 3. 0. 3. 2. 1. 2. 1. 0. 3. 3. 3. 0. 2. 1. 1. 0. 1. 1. 1. 3.\n",
      " 1. 0. 1. 2. 1. 2. 1. 3. 1. 2. 0. 1. 2. 3. 2. 3. 1. 1. 3. 3. 0. 0. 1. 2.\n",
      " 2. 2. 3. 1. 3. 3. 0. 2. 3. 3. 1. 1. 2. 2. 1. 1. 1. 3. 2. 3. 2. 1. 2. 0.\n",
      " 2. 1. 1. 3. 2. 3. 3. 2. 0. 1. 3. 3. 3. 3. 3. 3. 2. 1. 2. 0. 2. 2. 2. 1.\n",
      " 0. 1. 3. 1. 2. 2. 3. 3. 0. 3. 2. 3. 2. 1. 0. 2. 1. 1. 0. 2. 3. 1. 3. 3.\n",
      " 3. 2. 1. 0. 1. 3. 0. 0. 1. 3. 2. 1. 2. 3. 1. 3. 0. 0. 3. 3. 3. 1. 3. 3.\n",
      " 1. 1. 3. 1. 1. 1. 1. 0. 1. 3. 1. 0. 1. 2. 0. 3. 2. 0. 3. 3. 3. 3. 2. 0.\n",
      " 2. 3. 0. 1. 2. 1. 3. 2. 2. 2. 0. 3. 1. 1. 2. 2. 1. 1. 1. 0. 1. 1. 2. 2.\n",
      " 1. 1. 3. 3. 2. 3. 2. 2. 2. 1. 1. 0. 3. 1. 2. 3. 3. 2. 1. 2. 1. 3. 1. 3.\n",
      " 1. 3. 2. 0. 2. 3. 0. 0. 2. 2. 1. 3. 1. 3. 1. 3. 3. 3. 3. 0. 0. 1. 1. 2.\n",
      " 2. 0. 2. 3. 0. 1. 2. 3. 3. 3. 1. 1. 0. 2. 1. 0. 3. 1. 3. 2. 2. 3. 1. 1.\n",
      " 3. 0. 2. 3. 0. 3. 1. 1. 1. 3. 3. 2. 1. 1. 1. 3. 1. 2. 1. 2. 1. 0. 1. 3.\n",
      " 0. 0. 1. 2. 1. 0. 1. 2. 2. 2. 0. 1. 3. 1. 1. 2. 3. 2. 3. 1. 3. 0. 1. 1.\n",
      " 3. 2. 2. 2. 1. 3. 1. 2. 0. 3. 1. 0. 3. 2. 2. 3. 2. 3. 3. 1. 3. 1. 3. 1.\n",
      " 3. 0. 3. 0. 3. 1. 0. 1. 2. 3. 2. 0. 2. 1. 2. 3. 2. 2. 1. 3. 3. 2. 1. 1.\n",
      " 2. 2. 0. 2. 1. 3. 2. 2. 3. 0. 0. 2. 3. 2. 3. 1. 2. 1. 0. 0. 2. 3. 3. 2.\n",
      " 3. 2. 3. 0. 0. 3. 2. 1. 2. 0. 2. 3. 1. 0. 1. 1. 3. 1. 1. 0. 1. 1. 3. 3.\n",
      " 1. 2. 2. 0. 3. 2. 2. 3. 3. 2. 3. 0. 1. 0. 2. 2. 1. 1. 2. 2. 0. 2. 2. 1.\n",
      " 3. 1. 1. 1. 2. 3. 0. 2. 2. 3. 0. 2. 1. 3. 2. 1. 2. 2. 1. 3. 2. 3. 3. 3.\n",
      " 1. 0. 0. 3. 2. 2. 2. 1. 1. 3. 1. 3. 2. 2. 0. 0. 0. 3. 0. 1. 1. 2. 0. 1.\n",
      " 2. 2. 0. 0. 2. 0. 1. 1. 0. 2. 3. 1. 2. 0. 0. 3. 1. 0. 0. 2. 0. 1. 3. 1.\n",
      " 3. 2. 0. 2. 2. 0. 2. 1. 2. 3. 2. 1. 1. 2. 2. 2. 1. 1. 2. 0. 0.], shape=(669,), dtype=float32)\n",
      "Epoch 1/10\n"
     ]
    },
    {
     "name": "stderr",
     "output_type": "stream",
     "text": [
      "c:\\Users\\Jesli's Laptop\\Desktop\\Acads\\MLO\\mlo-final-project\\code\\model.py:47: FutureWarning: The default value of regex will change from True to False in a future version.\n",
      "  self.df_train['Poem'] = self.df_train['Poem'].str.replace('shade.When', 'shade. When')\n",
      "c:\\Users\\Jesli's Laptop\\Desktop\\Acads\\MLO\\mlo-final-project\\code\\model.py:48: FutureWarning: The default value of regex will change from True to False in a future version.\n",
      "  self.df_train['Poem'] = self.df_train['Poem'].str.replace('afraid.Now', 'afraid. Now')\n",
      "c:\\Users\\Jesli's Laptop\\Desktop\\Acads\\MLO\\mlo-final-project\\code\\model.py:50: FutureWarning: The default value of regex will change from True to False in a future version.\n",
      "  self.df_train['Poem'] = self.df_train['Poem'].str.replace('afraid.Now,', 'afraid. Now,')\n",
      "c:\\Users\\Jesli's Laptop\\Desktop\\Acads\\MLO\\mlo-final-project\\code\\model.py:51: FutureWarning: The default value of regex will change from True to False in a future version.\n",
      "  self.df_train['Poem'] = self.df_train['Poem'].str.replace('Big Game.Bigger', 'Big Game. Bigger')\n",
      "[nltk_data] Downloading package stopwords to C:\\Users\\Jesli's\n",
      "[nltk_data]     Laptop\\AppData\\Roaming\\nltk_data...\n",
      "[nltk_data]   Package stopwords is already up-to-date!\n",
      "Traceback (most recent call last):\n",
      "  File \"C:\\Users\\Jesli's Laptop\\AppData\\Local\\Temp\\ipykernel_32032\\3043076251.py\", line 19, in hyperparam_search\n",
      "    _model.train(embd_dim=embedding_dim, epochs=epochs, lr=learning_rate, optimizer=optimizer)\n",
      "  File \"c:\\Users\\Jesli's Laptop\\Desktop\\Acads\\MLO\\mlo-final-project\\code\\model.py\", line 113, in train\n",
      "    self.trained_model = self.model.fit(inpt_tr, otpt_tr, epochs=epochs, validation_data=(inpt_ts, otpt_ts))\n",
      "  File \"c:\\Users\\Jesli's Laptop\\AppData\\Local\\Programs\\Python\\Python39\\lib\\site-packages\\keras\\src\\utils\\traceback_utils.py\", line 70, in error_handler\n",
      "    raise e.with_traceback(filtered_tb) from None\n",
      "  File \"C:\\Users\\JESLI'~1\\AppData\\Local\\Temp\\__autograph_generated_filegr136j1a.py\", line 15, in tf__train_function\n",
      "    retval_ = ag__.converted_call(ag__.ld(step_function), (ag__.ld(self), ag__.ld(iterator)), None, fscope)\n",
      "ValueError: in user code:\n",
      "\n",
      "    File \"c:\\Users\\Jesli's Laptop\\AppData\\Local\\Programs\\Python\\Python39\\lib\\site-packages\\keras\\src\\engine\\training.py\", line 1338, in train_function  *\n",
      "        return step_function(self, iterator)\n",
      "    File \"c:\\Users\\Jesli's Laptop\\AppData\\Local\\Programs\\Python\\Python39\\lib\\site-packages\\keras\\src\\engine\\training.py\", line 1322, in step_function  **\n",
      "        outputs = model.distribute_strategy.run(run_step, args=(data,))\n",
      "    File \"c:\\Users\\Jesli's Laptop\\AppData\\Local\\Programs\\Python\\Python39\\lib\\site-packages\\keras\\src\\engine\\training.py\", line 1303, in run_step  **\n",
      "        outputs = model.train_step(data)\n",
      "    File \"c:\\Users\\Jesli's Laptop\\AppData\\Local\\Programs\\Python\\Python39\\lib\\site-packages\\keras\\src\\engine\\training.py\", line 1085, in train_step\n",
      "        return self.compute_metrics(x, y, y_pred, sample_weight)\n",
      "    File \"c:\\Users\\Jesli's Laptop\\AppData\\Local\\Programs\\Python\\Python39\\lib\\site-packages\\keras\\src\\engine\\training.py\", line 1179, in compute_metrics\n",
      "        self.compiled_metrics.update_state(y, y_pred, sample_weight)\n",
      "    File \"c:\\Users\\Jesli's Laptop\\AppData\\Local\\Programs\\Python\\Python39\\lib\\site-packages\\keras\\src\\engine\\compile_utils.py\", line 605, in update_state\n",
      "        metric_obj.update_state(y_t, y_p, sample_weight=mask)\n",
      "    File \"c:\\Users\\Jesli's Laptop\\AppData\\Local\\Programs\\Python\\Python39\\lib\\site-packages\\keras\\src\\utils\\metrics_utils.py\", line 77, in decorated\n",
      "        update_op = update_state_fn(*args, **kwargs)\n",
      "    File \"c:\\Users\\Jesli's Laptop\\AppData\\Local\\Programs\\Python\\Python39\\lib\\site-packages\\keras\\src\\metrics\\base_metric.py\", line 140, in update_state_fn\n",
      "        return ag_update_state(*args, **kwargs)\n",
      "    File \"c:\\Users\\Jesli's Laptop\\AppData\\Local\\Programs\\Python\\Python39\\lib\\site-packages\\keras\\src\\metrics\\f_score_metrics.py\", line 204, in update_state  **\n",
      "        self.intermediate_weights.assign_add(\n",
      "\n",
      "    ValueError: Dimension 0 in both shapes must be equal, but are 4 and 1. Shapes are [4] and [1]. for '{{node AssignAddVariableOp_5}} = AssignAddVariableOp[dtype=DT_FLOAT](AssignAddVariableOp_5/resource, Sum_5)' with input shapes: [], [1].\n",
      "\n"
     ]
    },
    {
     "data": {
      "text/html": [
       "Waiting for W&B process to finish... <strong style=\"color:red\">(failed 1).</strong> Press Ctrl-C to abort syncing."
      ],
      "text/plain": [
       "<IPython.core.display.HTML object>"
      ]
     },
     "metadata": {},
     "output_type": "display_data"
    },
    {
     "data": {
      "text/html": [
       " View run <strong style=\"color:#cdcd00\">prime-sweep-2</strong> at: <a href='https://wandb.ai/msds_mlops2023_lt2/mlo-final-project/runs/n6xkkqfp' target=\"_blank\">https://wandb.ai/msds_mlops2023_lt2/mlo-final-project/runs/n6xkkqfp</a><br/>Synced 5 W&B file(s), 0 media file(s), 0 artifact file(s) and 0 other file(s)"
      ],
      "text/plain": [
       "<IPython.core.display.HTML object>"
      ]
     },
     "metadata": {},
     "output_type": "display_data"
    },
    {
     "data": {
      "text/html": [
       "Find logs at: <code>.\\wandb\\run-20230910_193234-n6xkkqfp\\logs</code>"
      ],
      "text/plain": [
       "<IPython.core.display.HTML object>"
      ]
     },
     "metadata": {},
     "output_type": "display_data"
    },
    {
     "name": "stderr",
     "output_type": "stream",
     "text": [
      "Run n6xkkqfp errored: ValueError('in user code:\\n\\n    File \"c:\\\\Users\\\\Jesli\\'s Laptop\\\\AppData\\\\Local\\\\Programs\\\\Python\\\\Python39\\\\lib\\\\site-packages\\\\keras\\\\src\\\\engine\\\\training.py\", line 1338, in train_function  *\\n        return step_function(self, iterator)\\n    File \"c:\\\\Users\\\\Jesli\\'s Laptop\\\\AppData\\\\Local\\\\Programs\\\\Python\\\\Python39\\\\lib\\\\site-packages\\\\keras\\\\src\\\\engine\\\\training.py\", line 1322, in step_function  **\\n        outputs = model.distribute_strategy.run(run_step, args=(data,))\\n    File \"c:\\\\Users\\\\Jesli\\'s Laptop\\\\AppData\\\\Local\\\\Programs\\\\Python\\\\Python39\\\\lib\\\\site-packages\\\\keras\\\\src\\\\engine\\\\training.py\", line 1303, in run_step  **\\n        outputs = model.train_step(data)\\n    File \"c:\\\\Users\\\\Jesli\\'s Laptop\\\\AppData\\\\Local\\\\Programs\\\\Python\\\\Python39\\\\lib\\\\site-packages\\\\keras\\\\src\\\\engine\\\\training.py\", line 1085, in train_step\\n        return self.compute_metrics(x, y, y_pred, sample_weight)\\n    File \"c:\\\\Users\\\\Jesli\\'s Laptop\\\\AppData\\\\Local\\\\Programs\\\\Python\\\\Python39\\\\lib\\\\site-packages\\\\keras\\\\src\\\\engine\\\\training.py\", line 1179, in compute_metrics\\n        self.compiled_metrics.update_state(y, y_pred, sample_weight)\\n    File \"c:\\\\Users\\\\Jesli\\'s Laptop\\\\AppData\\\\Local\\\\Programs\\\\Python\\\\Python39\\\\lib\\\\site-packages\\\\keras\\\\src\\\\engine\\\\compile_utils.py\", line 605, in update_state\\n        metric_obj.update_state(y_t, y_p, sample_weight=mask)\\n    File \"c:\\\\Users\\\\Jesli\\'s Laptop\\\\AppData\\\\Local\\\\Programs\\\\Python\\\\Python39\\\\lib\\\\site-packages\\\\keras\\\\src\\\\utils\\\\metrics_utils.py\", line 77, in decorated\\n        update_op = update_state_fn(*args, **kwargs)\\n    File \"c:\\\\Users\\\\Jesli\\'s Laptop\\\\AppData\\\\Local\\\\Programs\\\\Python\\\\Python39\\\\lib\\\\site-packages\\\\keras\\\\src\\\\metrics\\\\base_metric.py\", line 140, in update_state_fn\\n        return ag_update_state(*args, **kwargs)\\n    File \"c:\\\\Users\\\\Jesli\\'s Laptop\\\\AppData\\\\Local\\\\Programs\\\\Python\\\\Python39\\\\lib\\\\site-packages\\\\keras\\\\src\\\\metrics\\\\f_score_metrics.py\", line 204, in update_state  **\\n        self.intermediate_weights.assign_add(\\n\\n    ValueError: Dimension 0 in both shapes must be equal, but are 4 and 1. Shapes are [4] and [1]. for \\'{{node AssignAddVariableOp_5}} = AssignAddVariableOp[dtype=DT_FLOAT](AssignAddVariableOp_5/resource, Sum_5)\\' with input shapes: [], [1].\\n')\n",
      "\u001b[34m\u001b[1mwandb\u001b[0m: \u001b[32m\u001b[41mERROR\u001b[0m Run n6xkkqfp errored: ValueError('in user code:\\n\\n    File \"c:\\\\Users\\\\Jesli\\'s Laptop\\\\AppData\\\\Local\\\\Programs\\\\Python\\\\Python39\\\\lib\\\\site-packages\\\\keras\\\\src\\\\engine\\\\training.py\", line 1338, in train_function  *\\n        return step_function(self, iterator)\\n    File \"c:\\\\Users\\\\Jesli\\'s Laptop\\\\AppData\\\\Local\\\\Programs\\\\Python\\\\Python39\\\\lib\\\\site-packages\\\\keras\\\\src\\\\engine\\\\training.py\", line 1322, in step_function  **\\n        outputs = model.distribute_strategy.run(run_step, args=(data,))\\n    File \"c:\\\\Users\\\\Jesli\\'s Laptop\\\\AppData\\\\Local\\\\Programs\\\\Python\\\\Python39\\\\lib\\\\site-packages\\\\keras\\\\src\\\\engine\\\\training.py\", line 1303, in run_step  **\\n        outputs = model.train_step(data)\\n    File \"c:\\\\Users\\\\Jesli\\'s Laptop\\\\AppData\\\\Local\\\\Programs\\\\Python\\\\Python39\\\\lib\\\\site-packages\\\\keras\\\\src\\\\engine\\\\training.py\", line 1085, in train_step\\n        return self.compute_metrics(x, y, y_pred, sample_weight)\\n    File \"c:\\\\Users\\\\Jesli\\'s Laptop\\\\AppData\\\\Local\\\\Programs\\\\Python\\\\Python39\\\\lib\\\\site-packages\\\\keras\\\\src\\\\engine\\\\training.py\", line 1179, in compute_metrics\\n        self.compiled_metrics.update_state(y, y_pred, sample_weight)\\n    File \"c:\\\\Users\\\\Jesli\\'s Laptop\\\\AppData\\\\Local\\\\Programs\\\\Python\\\\Python39\\\\lib\\\\site-packages\\\\keras\\\\src\\\\engine\\\\compile_utils.py\", line 605, in update_state\\n        metric_obj.update_state(y_t, y_p, sample_weight=mask)\\n    File \"c:\\\\Users\\\\Jesli\\'s Laptop\\\\AppData\\\\Local\\\\Programs\\\\Python\\\\Python39\\\\lib\\\\site-packages\\\\keras\\\\src\\\\utils\\\\metrics_utils.py\", line 77, in decorated\\n        update_op = update_state_fn(*args, **kwargs)\\n    File \"c:\\\\Users\\\\Jesli\\'s Laptop\\\\AppData\\\\Local\\\\Programs\\\\Python\\\\Python39\\\\lib\\\\site-packages\\\\keras\\\\src\\\\metrics\\\\base_metric.py\", line 140, in update_state_fn\\n        return ag_update_state(*args, **kwargs)\\n    File \"c:\\\\Users\\\\Jesli\\'s Laptop\\\\AppData\\\\Local\\\\Programs\\\\Python\\\\Python39\\\\lib\\\\site-packages\\\\keras\\\\src\\\\metrics\\\\f_score_metrics.py\", line 204, in update_state  **\\n        self.intermediate_weights.assign_add(\\n\\n    ValueError: Dimension 0 in both shapes must be equal, but are 4 and 1. Shapes are [4] and [1]. for \\'{{node AssignAddVariableOp_5}} = AssignAddVariableOp[dtype=DT_FLOAT](AssignAddVariableOp_5/resource, Sum_5)\\' with input shapes: [], [1].\\n')\n",
      "\u001b[34m\u001b[1mwandb\u001b[0m: Agent Starting Run: sz7ffjai with config:\n",
      "\u001b[34m\u001b[1mwandb\u001b[0m: \tarchitecture: CNN\n",
      "\u001b[34m\u001b[1mwandb\u001b[0m: \tdataset: Poems\n",
      "\u001b[34m\u001b[1mwandb\u001b[0m: \tembedding_dim: 256\n",
      "\u001b[34m\u001b[1mwandb\u001b[0m: \tepochs: 10\n",
      "\u001b[34m\u001b[1mwandb\u001b[0m: \tlearning_rate: 0.03339750368842727\n",
      "\u001b[34m\u001b[1mwandb\u001b[0m: \toptimizer: sgd\n",
      "Failed to detect the name of this notebook, you can set it manually with the WANDB_NOTEBOOK_NAME environment variable to enable code saving.\n"
     ]
    },
    {
     "data": {
      "text/html": [
       "Tracking run with wandb version 0.15.10"
      ],
      "text/plain": [
       "<IPython.core.display.HTML object>"
      ]
     },
     "metadata": {},
     "output_type": "display_data"
    },
    {
     "data": {
      "text/html": [
       "Run data is saved locally in <code>c:\\Users\\Jesli's Laptop\\Desktop\\Acads\\MLO\\mlo-final-project\\code\\wandb\\run-20230910_193249-sz7ffjai</code>"
      ],
      "text/plain": [
       "<IPython.core.display.HTML object>"
      ]
     },
     "metadata": {},
     "output_type": "display_data"
    },
    {
     "data": {
      "text/html": [
       "Syncing run <strong><a href='https://wandb.ai/msds_mlops2023_lt2/mlo-final-project/runs/sz7ffjai' target=\"_blank\">cerulean-sweep-3</a></strong> to <a href='https://wandb.ai/msds_mlops2023_lt2/mlo-final-project' target=\"_blank\">Weights & Biases</a> (<a href='https://wandb.me/run' target=\"_blank\">docs</a>)<br/>Sweep page: <a href='https://wandb.ai/msds_mlops2023_lt2/mlo-final-project/sweeps/su7b1vnn' target=\"_blank\">https://wandb.ai/msds_mlops2023_lt2/mlo-final-project/sweeps/su7b1vnn</a>"
      ],
      "text/plain": [
       "<IPython.core.display.HTML object>"
      ]
     },
     "metadata": {},
     "output_type": "display_data"
    },
    {
     "data": {
      "text/html": [
       " View project at <a href='https://wandb.ai/msds_mlops2023_lt2/mlo-final-project' target=\"_blank\">https://wandb.ai/msds_mlops2023_lt2/mlo-final-project</a>"
      ],
      "text/plain": [
       "<IPython.core.display.HTML object>"
      ]
     },
     "metadata": {},
     "output_type": "display_data"
    },
    {
     "data": {
      "text/html": [
       " View sweep at <a href='https://wandb.ai/msds_mlops2023_lt2/mlo-final-project/sweeps/su7b1vnn' target=\"_blank\">https://wandb.ai/msds_mlops2023_lt2/mlo-final-project/sweeps/su7b1vnn</a>"
      ],
      "text/plain": [
       "<IPython.core.display.HTML object>"
      ]
     },
     "metadata": {},
     "output_type": "display_data"
    },
    {
     "data": {
      "text/html": [
       " View run at <a href='https://wandb.ai/msds_mlops2023_lt2/mlo-final-project/runs/sz7ffjai' target=\"_blank\">https://wandb.ai/msds_mlops2023_lt2/mlo-final-project/runs/sz7ffjai</a>"
      ],
      "text/plain": [
       "<IPython.core.display.HTML object>"
      ]
     },
     "metadata": {},
     "output_type": "display_data"
    },
    {
     "name": "stdout",
     "output_type": "stream",
     "text": [
      "[[  0   0   0 ...   1   1   1]\n",
      " [  0   0   0 ...   1   1   1]\n",
      " [  0   0   0 ... 181   7   1]\n",
      " ...\n",
      " [  0   0   0 ... 122   1  29]\n",
      " [  0   0   0 ...  79  11 218]\n",
      " [  0   0   0 ...   2 383   3]]\n",
      "tf.Tensor(\n",
      "[1. 1. 2. 2. 1. 1. 2. 0. 1. 2. 2. 1. 1. 3. 1. 1. 3. 3. 3. 2. 3. 2. 2. 2.\n",
      " 2. 1. 1. 1. 3. 1. 0. 1. 3. 1. 3. 2. 2. 3. 3. 3. 0. 0. 2. 0. 0. 1. 0. 3.\n",
      " 0. 3. 1. 1. 2. 1. 3. 2. 1. 3. 1. 3. 3. 0. 3. 1. 3. 3. 2. 0. 1. 1. 3. 0.\n",
      " 1. 2. 2. 1. 2. 3. 2. 3. 3. 0. 2. 0. 1. 0. 0. 2. 3. 1. 3. 0. 0. 1. 0. 3.\n",
      " 3. 1. 3. 3. 0. 2. 2. 2. 1. 1. 3. 0. 1. 1. 1. 2. 2. 3. 2. 2. 0. 3. 2. 2.\n",
      " 2. 1. 2. 2. 3. 1. 1. 1. 2. 0. 3. 2. 1. 3. 3. 0. 3. 0. 1. 2. 3. 3. 2. 3.\n",
      " 1. 2. 2. 1. 3. 2. 2. 3. 1. 0. 0. 3. 3. 3. 2. 2. 0. 3. 2. 3. 3. 2. 3. 3.\n",
      " 3. 2. 3. 2. 3. 0. 2. 3. 1. 1. 2. 2. 0. 0. 0. 3. 2. 1. 3. 2. 1. 0. 0. 1.\n",
      " 2. 0. 3. 1. 1. 1. 3. 1. 1. 2. 3. 0. 1. 2. 0. 2. 2. 2. 3. 3. 1. 2. 1. 0.\n",
      " 2. 1. 0. 1. 1. 2. 3. 1. 0. 1. 0. 3. 3. 1. 2. 3. 1. 3. 2. 3. 3. 2. 3. 0.\n",
      " 3. 3. 2. 3. 3. 3. 1. 2. 3. 2. 1. 3. 3. 0. 1. 1. 1. 3. 3. 0. 3. 2. 1. 1.\n",
      " 0. 3. 0. 3. 1. 0. 3. 1. 1. 1. 1. 0. 3. 2. 2. 0. 2. 2. 2. 0. 1. 3. 1. 1.\n",
      " 3. 3. 2. 3. 0. 2. 3. 3. 2. 0. 0. 3. 1. 1. 1. 3. 2. 1. 3. 2. 2. 1. 2. 2.\n",
      " 2. 0. 2. 2. 1. 0. 3. 0. 1. 3. 3. 3. 3. 1. 3. 0. 2. 2. 2. 1. 2. 0. 2. 3.\n",
      " 2. 2. 2. 2. 3. 2. 1. 0. 1. 2. 0. 3. 2. 1. 2. 0. 0. 0. 0. 2. 2. 0. 1. 1.\n",
      " 2. 0. 1. 0. 2. 3. 2. 3. 0. 3. 2. 2. 1. 1. 0. 0. 3. 0. 2. 0. 1. 3. 0. 2.\n",
      " 0. 1. 1. 3. 1. 2. 2. 2. 1. 3. 2. 2. 1. 2. 1. 3. 2. 1. 0. 1. 2. 1. 0. 3.\n",
      " 3. 1. 3. 1. 3. 3. 1. 1. 1. 1. 3. 3. 3. 1. 3. 2. 1. 1. 1. 3. 1. 3. 3. 3.\n",
      " 1. 1. 3. 3. 1. 2. 2. 1. 2. 1. 3. 1. 1. 3. 3. 0. 1. 2. 2. 3. 3. 1. 2. 2.\n",
      " 2. 0. 2. 3. 1. 2. 2. 1. 1. 2. 3. 1. 2. 2. 3. 2. 1. 3. 3. 2. 1. 1. 3. 0.\n",
      " 1. 1. 1. 0. 2. 3. 2. 0. 3. 0. 1. 1. 0. 2. 1. 3. 3. 2. 3. 3. 0. 2. 1. 2.\n",
      " 3. 3. 2. 0. 0. 1. 0. 2. 2. 2. 2. 3. 2. 2. 3. 2. 1. 0. 0. 1. 3. 0. 1. 3.\n",
      " 3. 3. 1. 0. 1. 1. 1. 0. 1. 2. 1. 3. 0. 2. 3. 2. 3. 1. 2. 0. 3. 0. 2. 1.\n",
      " 3. 3. 1. 1. 3. 3. 2. 1. 2. 1. 3. 2. 3. 1. 0. 1. 2. 2. 3. 3. 1. 1. 3. 0.\n",
      " 1. 3. 3. 3. 0. 1. 3. 2. 1. 3. 3. 3. 0. 0. 1. 0. 3. 0. 0. 2. 1. 1. 0. 3.\n",
      " 1. 3. 0. 1. 3. 2. 3. 1. 0. 3. 1. 2. 2. 3. 1. 3. 1. 2. 3. 3. 3. 0. 3. 2.\n",
      " 2. 2. 1. 0. 3. 2. 1. 3. 1. 2. 0. 1. 1. 1. 2. 2. 0. 2. 2. 0. 3. 2. 1. 1.\n",
      " 0. 1. 3. 2. 3. 3. 3. 3. 0. 2. 0. 0. 1. 2. 3. 3. 0. 1. 3. 1. 2.], shape=(669,), dtype=float32)\n",
      "Epoch 1/10\n"
     ]
    },
    {
     "name": "stderr",
     "output_type": "stream",
     "text": [
      "c:\\Users\\Jesli's Laptop\\Desktop\\Acads\\MLO\\mlo-final-project\\code\\model.py:47: FutureWarning: The default value of regex will change from True to False in a future version.\n",
      "  self.df_train['Poem'] = self.df_train['Poem'].str.replace('shade.When', 'shade. When')\n",
      "c:\\Users\\Jesli's Laptop\\Desktop\\Acads\\MLO\\mlo-final-project\\code\\model.py:48: FutureWarning: The default value of regex will change from True to False in a future version.\n",
      "  self.df_train['Poem'] = self.df_train['Poem'].str.replace('afraid.Now', 'afraid. Now')\n",
      "c:\\Users\\Jesli's Laptop\\Desktop\\Acads\\MLO\\mlo-final-project\\code\\model.py:50: FutureWarning: The default value of regex will change from True to False in a future version.\n",
      "  self.df_train['Poem'] = self.df_train['Poem'].str.replace('afraid.Now,', 'afraid. Now,')\n",
      "c:\\Users\\Jesli's Laptop\\Desktop\\Acads\\MLO\\mlo-final-project\\code\\model.py:51: FutureWarning: The default value of regex will change from True to False in a future version.\n",
      "  self.df_train['Poem'] = self.df_train['Poem'].str.replace('Big Game.Bigger', 'Big Game. Bigger')\n",
      "[nltk_data] Downloading package stopwords to C:\\Users\\Jesli's\n",
      "[nltk_data]     Laptop\\AppData\\Roaming\\nltk_data...\n",
      "[nltk_data]   Package stopwords is already up-to-date!\n",
      "Traceback (most recent call last):\n",
      "  File \"C:\\Users\\Jesli's Laptop\\AppData\\Local\\Temp\\ipykernel_32032\\3043076251.py\", line 19, in hyperparam_search\n",
      "    _model.train(embd_dim=embedding_dim, epochs=epochs, lr=learning_rate, optimizer=optimizer)\n",
      "  File \"c:\\Users\\Jesli's Laptop\\Desktop\\Acads\\MLO\\mlo-final-project\\code\\model.py\", line 113, in train\n",
      "    self.trained_model = self.model.fit(inpt_tr, otpt_tr, epochs=epochs, validation_data=(inpt_ts, otpt_ts))\n",
      "  File \"c:\\Users\\Jesli's Laptop\\AppData\\Local\\Programs\\Python\\Python39\\lib\\site-packages\\keras\\src\\utils\\traceback_utils.py\", line 70, in error_handler\n",
      "    raise e.with_traceback(filtered_tb) from None\n",
      "  File \"C:\\Users\\JESLI'~1\\AppData\\Local\\Temp\\__autograph_generated_filegr136j1a.py\", line 15, in tf__train_function\n",
      "    retval_ = ag__.converted_call(ag__.ld(step_function), (ag__.ld(self), ag__.ld(iterator)), None, fscope)\n",
      "ValueError: in user code:\n",
      "\n",
      "    File \"c:\\Users\\Jesli's Laptop\\AppData\\Local\\Programs\\Python\\Python39\\lib\\site-packages\\keras\\src\\engine\\training.py\", line 1338, in train_function  *\n",
      "        return step_function(self, iterator)\n",
      "    File \"c:\\Users\\Jesli's Laptop\\AppData\\Local\\Programs\\Python\\Python39\\lib\\site-packages\\keras\\src\\engine\\training.py\", line 1322, in step_function  **\n",
      "        outputs = model.distribute_strategy.run(run_step, args=(data,))\n",
      "    File \"c:\\Users\\Jesli's Laptop\\AppData\\Local\\Programs\\Python\\Python39\\lib\\site-packages\\keras\\src\\engine\\training.py\", line 1303, in run_step  **\n",
      "        outputs = model.train_step(data)\n",
      "    File \"c:\\Users\\Jesli's Laptop\\AppData\\Local\\Programs\\Python\\Python39\\lib\\site-packages\\keras\\src\\engine\\training.py\", line 1085, in train_step\n",
      "        return self.compute_metrics(x, y, y_pred, sample_weight)\n",
      "    File \"c:\\Users\\Jesli's Laptop\\AppData\\Local\\Programs\\Python\\Python39\\lib\\site-packages\\keras\\src\\engine\\training.py\", line 1179, in compute_metrics\n",
      "        self.compiled_metrics.update_state(y, y_pred, sample_weight)\n",
      "    File \"c:\\Users\\Jesli's Laptop\\AppData\\Local\\Programs\\Python\\Python39\\lib\\site-packages\\keras\\src\\engine\\compile_utils.py\", line 605, in update_state\n",
      "        metric_obj.update_state(y_t, y_p, sample_weight=mask)\n",
      "    File \"c:\\Users\\Jesli's Laptop\\AppData\\Local\\Programs\\Python\\Python39\\lib\\site-packages\\keras\\src\\utils\\metrics_utils.py\", line 77, in decorated\n",
      "        update_op = update_state_fn(*args, **kwargs)\n",
      "    File \"c:\\Users\\Jesli's Laptop\\AppData\\Local\\Programs\\Python\\Python39\\lib\\site-packages\\keras\\src\\metrics\\base_metric.py\", line 140, in update_state_fn\n",
      "        return ag_update_state(*args, **kwargs)\n",
      "    File \"c:\\Users\\Jesli's Laptop\\AppData\\Local\\Programs\\Python\\Python39\\lib\\site-packages\\keras\\src\\metrics\\f_score_metrics.py\", line 204, in update_state  **\n",
      "        self.intermediate_weights.assign_add(\n",
      "\n",
      "    ValueError: Dimension 0 in both shapes must be equal, but are 4 and 1. Shapes are [4] and [1]. for '{{node AssignAddVariableOp_5}} = AssignAddVariableOp[dtype=DT_FLOAT](AssignAddVariableOp_5/resource, Sum_5)' with input shapes: [], [1].\n",
      "\n"
     ]
    },
    {
     "data": {
      "text/html": [
       "Waiting for W&B process to finish... <strong style=\"color:red\">(failed 1).</strong> Press Ctrl-C to abort syncing."
      ],
      "text/plain": [
       "<IPython.core.display.HTML object>"
      ]
     },
     "metadata": {},
     "output_type": "display_data"
    },
    {
     "data": {
      "text/html": [
       " View run <strong style=\"color:#cdcd00\">cerulean-sweep-3</strong> at: <a href='https://wandb.ai/msds_mlops2023_lt2/mlo-final-project/runs/sz7ffjai' target=\"_blank\">https://wandb.ai/msds_mlops2023_lt2/mlo-final-project/runs/sz7ffjai</a><br/>Synced 5 W&B file(s), 0 media file(s), 0 artifact file(s) and 0 other file(s)"
      ],
      "text/plain": [
       "<IPython.core.display.HTML object>"
      ]
     },
     "metadata": {},
     "output_type": "display_data"
    },
    {
     "data": {
      "text/html": [
       "Find logs at: <code>.\\wandb\\run-20230910_193249-sz7ffjai\\logs</code>"
      ],
      "text/plain": [
       "<IPython.core.display.HTML object>"
      ]
     },
     "metadata": {},
     "output_type": "display_data"
    },
    {
     "name": "stderr",
     "output_type": "stream",
     "text": [
      "Run sz7ffjai errored: ValueError('in user code:\\n\\n    File \"c:\\\\Users\\\\Jesli\\'s Laptop\\\\AppData\\\\Local\\\\Programs\\\\Python\\\\Python39\\\\lib\\\\site-packages\\\\keras\\\\src\\\\engine\\\\training.py\", line 1338, in train_function  *\\n        return step_function(self, iterator)\\n    File \"c:\\\\Users\\\\Jesli\\'s Laptop\\\\AppData\\\\Local\\\\Programs\\\\Python\\\\Python39\\\\lib\\\\site-packages\\\\keras\\\\src\\\\engine\\\\training.py\", line 1322, in step_function  **\\n        outputs = model.distribute_strategy.run(run_step, args=(data,))\\n    File \"c:\\\\Users\\\\Jesli\\'s Laptop\\\\AppData\\\\Local\\\\Programs\\\\Python\\\\Python39\\\\lib\\\\site-packages\\\\keras\\\\src\\\\engine\\\\training.py\", line 1303, in run_step  **\\n        outputs = model.train_step(data)\\n    File \"c:\\\\Users\\\\Jesli\\'s Laptop\\\\AppData\\\\Local\\\\Programs\\\\Python\\\\Python39\\\\lib\\\\site-packages\\\\keras\\\\src\\\\engine\\\\training.py\", line 1085, in train_step\\n        return self.compute_metrics(x, y, y_pred, sample_weight)\\n    File \"c:\\\\Users\\\\Jesli\\'s Laptop\\\\AppData\\\\Local\\\\Programs\\\\Python\\\\Python39\\\\lib\\\\site-packages\\\\keras\\\\src\\\\engine\\\\training.py\", line 1179, in compute_metrics\\n        self.compiled_metrics.update_state(y, y_pred, sample_weight)\\n    File \"c:\\\\Users\\\\Jesli\\'s Laptop\\\\AppData\\\\Local\\\\Programs\\\\Python\\\\Python39\\\\lib\\\\site-packages\\\\keras\\\\src\\\\engine\\\\compile_utils.py\", line 605, in update_state\\n        metric_obj.update_state(y_t, y_p, sample_weight=mask)\\n    File \"c:\\\\Users\\\\Jesli\\'s Laptop\\\\AppData\\\\Local\\\\Programs\\\\Python\\\\Python39\\\\lib\\\\site-packages\\\\keras\\\\src\\\\utils\\\\metrics_utils.py\", line 77, in decorated\\n        update_op = update_state_fn(*args, **kwargs)\\n    File \"c:\\\\Users\\\\Jesli\\'s Laptop\\\\AppData\\\\Local\\\\Programs\\\\Python\\\\Python39\\\\lib\\\\site-packages\\\\keras\\\\src\\\\metrics\\\\base_metric.py\", line 140, in update_state_fn\\n        return ag_update_state(*args, **kwargs)\\n    File \"c:\\\\Users\\\\Jesli\\'s Laptop\\\\AppData\\\\Local\\\\Programs\\\\Python\\\\Python39\\\\lib\\\\site-packages\\\\keras\\\\src\\\\metrics\\\\f_score_metrics.py\", line 204, in update_state  **\\n        self.intermediate_weights.assign_add(\\n\\n    ValueError: Dimension 0 in both shapes must be equal, but are 4 and 1. Shapes are [4] and [1]. for \\'{{node AssignAddVariableOp_5}} = AssignAddVariableOp[dtype=DT_FLOAT](AssignAddVariableOp_5/resource, Sum_5)\\' with input shapes: [], [1].\\n')\n",
      "\u001b[34m\u001b[1mwandb\u001b[0m: \u001b[32m\u001b[41mERROR\u001b[0m Run sz7ffjai errored: ValueError('in user code:\\n\\n    File \"c:\\\\Users\\\\Jesli\\'s Laptop\\\\AppData\\\\Local\\\\Programs\\\\Python\\\\Python39\\\\lib\\\\site-packages\\\\keras\\\\src\\\\engine\\\\training.py\", line 1338, in train_function  *\\n        return step_function(self, iterator)\\n    File \"c:\\\\Users\\\\Jesli\\'s Laptop\\\\AppData\\\\Local\\\\Programs\\\\Python\\\\Python39\\\\lib\\\\site-packages\\\\keras\\\\src\\\\engine\\\\training.py\", line 1322, in step_function  **\\n        outputs = model.distribute_strategy.run(run_step, args=(data,))\\n    File \"c:\\\\Users\\\\Jesli\\'s Laptop\\\\AppData\\\\Local\\\\Programs\\\\Python\\\\Python39\\\\lib\\\\site-packages\\\\keras\\\\src\\\\engine\\\\training.py\", line 1303, in run_step  **\\n        outputs = model.train_step(data)\\n    File \"c:\\\\Users\\\\Jesli\\'s Laptop\\\\AppData\\\\Local\\\\Programs\\\\Python\\\\Python39\\\\lib\\\\site-packages\\\\keras\\\\src\\\\engine\\\\training.py\", line 1085, in train_step\\n        return self.compute_metrics(x, y, y_pred, sample_weight)\\n    File \"c:\\\\Users\\\\Jesli\\'s Laptop\\\\AppData\\\\Local\\\\Programs\\\\Python\\\\Python39\\\\lib\\\\site-packages\\\\keras\\\\src\\\\engine\\\\training.py\", line 1179, in compute_metrics\\n        self.compiled_metrics.update_state(y, y_pred, sample_weight)\\n    File \"c:\\\\Users\\\\Jesli\\'s Laptop\\\\AppData\\\\Local\\\\Programs\\\\Python\\\\Python39\\\\lib\\\\site-packages\\\\keras\\\\src\\\\engine\\\\compile_utils.py\", line 605, in update_state\\n        metric_obj.update_state(y_t, y_p, sample_weight=mask)\\n    File \"c:\\\\Users\\\\Jesli\\'s Laptop\\\\AppData\\\\Local\\\\Programs\\\\Python\\\\Python39\\\\lib\\\\site-packages\\\\keras\\\\src\\\\utils\\\\metrics_utils.py\", line 77, in decorated\\n        update_op = update_state_fn(*args, **kwargs)\\n    File \"c:\\\\Users\\\\Jesli\\'s Laptop\\\\AppData\\\\Local\\\\Programs\\\\Python\\\\Python39\\\\lib\\\\site-packages\\\\keras\\\\src\\\\metrics\\\\base_metric.py\", line 140, in update_state_fn\\n        return ag_update_state(*args, **kwargs)\\n    File \"c:\\\\Users\\\\Jesli\\'s Laptop\\\\AppData\\\\Local\\\\Programs\\\\Python\\\\Python39\\\\lib\\\\site-packages\\\\keras\\\\src\\\\metrics\\\\f_score_metrics.py\", line 204, in update_state  **\\n        self.intermediate_weights.assign_add(\\n\\n    ValueError: Dimension 0 in both shapes must be equal, but are 4 and 1. Shapes are [4] and [1]. for \\'{{node AssignAddVariableOp_5}} = AssignAddVariableOp[dtype=DT_FLOAT](AssignAddVariableOp_5/resource, Sum_5)\\' with input shapes: [], [1].\\n')\n",
      "Detected 3 failed runs in the first 60 seconds, killing sweep.\n",
      "\u001b[34m\u001b[1mwandb\u001b[0m: \u001b[32m\u001b[41mERROR\u001b[0m Detected 3 failed runs in the first 60 seconds, killing sweep.\n",
      "\u001b[34m\u001b[1mwandb\u001b[0m: To disable this check set WANDB_AGENT_DISABLE_FLAPPING=true\n"
     ]
    }
   ],
   "source": [
    "# define hyperparam search function\n",
    "def hyperparam_search(config=None):\n",
    "    # Initialize a new wandb run\n",
    "    with wandb.init(config=config):\n",
    "        # If called by wandb.agent, as below,\n",
    "        # this config will be set by Sweep Controller\n",
    "        config = wandb.config\n",
    "        # use config params\n",
    "        learning_rate = config.learning_rate\n",
    "        optimizer = config.optimizer\n",
    "        embedding_dim = config.embedding_dim\n",
    "        epochs = config.epochs\n",
    "\n",
    "        # define model\n",
    "        _model = poem_classifier_model()\n",
    "\n",
    "        _model.load_data()\n",
    "        _model.preprocess()\n",
    "        _model.train(embd_dim=embedding_dim, epochs=epochs, lr=learning_rate, optimizer=optimizer)\n",
    "\n",
    "        # print(_model.trained_model.history)\n",
    "\n",
    "        for i in range(epochs):\n",
    "            wandb.log({\"train_loss\": _model.trained_model.history['loss'][i],\n",
    "                       \"train_acc\": _model.trained_model.history['acc'][i],\n",
    "                       \"val_loss\": _model.trained_model.history['val_loss'][i], \n",
    "                       \"val_acc\": _model.trained_model.history['val_acc'][i]})\n",
    "        \n",
    "        results = _model.test()\n",
    "        wandb.log({\"test_loss\": results[0], \"test_acc\": results[1]})\n",
    "\n",
    "wandb.agent(sweep_id, hyperparam_search, count=count) # count - num iters"
   ]
  },
  {
   "cell_type": "code",
   "execution_count": 9,
   "metadata": {},
   "outputs": [],
   "source": [
    "wandb.finish()"
   ]
  },
  {
   "cell_type": "code",
   "execution_count": null,
   "metadata": {},
   "outputs": [],
   "source": []
  }
 ],
 "metadata": {
  "kernelspec": {
   "display_name": "Python 3",
   "language": "python",
   "name": "python3"
  },
  "language_info": {
   "codemirror_mode": {
    "name": "ipython",
    "version": 3
   },
   "file_extension": ".py",
   "mimetype": "text/x-python",
   "name": "python",
   "nbconvert_exporter": "python",
   "pygments_lexer": "ipython3",
   "version": "3.9.2"
  },
  "orig_nbformat": 4
 },
 "nbformat": 4,
 "nbformat_minor": 2
}
